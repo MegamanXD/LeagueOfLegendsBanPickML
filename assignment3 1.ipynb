{
 "cells": [
  {
   "cell_type": "markdown",
   "id": "7fed752e",
   "metadata": {},
   "source": [
    "<h1 style=\"color:#ffc0cb;font-size:70px;font-family:Georgia;text-align:center;\"><strong>Assignment 3</strong></h1>\n",
    "\n",
    "Comprehensive data preparation, exploration, visualization, feature engineering, and classification modeling for a case study: Predict house price range in Hanoi 2019 and 2020 periods.\n",
    "\n",
    "\n",
    "<b> Group: 10</b>\n",
    "+ Student Name: Nguyen Dang Huynh Chau (s3777214)</b>\n",
    "+ Student Name: Tran Ngoc Anh Thu (s3879312)</b>\n",
    "+ Student Name: Ho Le Minh Thach (s3879312)</b>\n",
    "+ Student Name: Do Hoang Duc (s3788345)</b>\n",
    "+ Lecturer: Vo Ngoc Yen Nhi </b>\n",
    "\n",
    "Having played a vital role in the human-being life, housing is one of the greatest considerations and its price has been researched carefully in millions of studies by using machine learning. Although, this is not the rare topic, it is still necessary to construct a machine learning model in order to not only predict an accurate housing price but also have the user-friendliness for the users to have the most optimised and effective way to investigate the housing price for improving the living standard.\n",
    "\n",
    "# Hypothesis forming:\n"
   ]
  },
  {
   "cell_type": "markdown",
   "id": "7987fbda",
   "metadata": {},
   "source": [
    "<h1 style=\"color:#ffc0cb;font-size:40px;font-family:Georgia;text-align:center;\"><strong>Table of Content</strong></h1>\n",
    "\n",
    "### 1. [General Requirement](#1)\n",
    "\n",
    "1.1 [Overview](#1.1)\n",
    "\n",
    "1.2 [Required  Libraries](#1.2)\n",
    "\n",
    "<br>\n",
    "\n",
    "### 2. [Data Preparation & Data exploration (EDA)](#2)\n",
    "\n",
    "2.1 [Data Preparation](#2.1)\n",
    "\n",
    "2.2 [Check data types & Make the data homogeneous](#2.2)\n",
    "\n",
    "2.3 [Missing Values](#2.3)\n",
    "+ [Guess the missingness type](#2.3.1)\n",
    "+ [Drop missing values pairwise for df and validation set by deleting their rows](#2.3.2)\n",
    "+ [Drop missing values listwise for all the datasets by deleting their columns](#2.3.3)\n",
    "+ [Interpolate() - Nearest Value imputation for Weather_Timestamp](#2.3.4)\n",
    "+ [Median & Frequent Categorical Imputation for Weather Continuous features](#2.3.5)\n",
    "+ [Impute Median and Mode for the rest- assume that there is random order of missing values](#2.3.6)\n",
    "\n",
    "2.4 [Shorten and Simplify categories](#2.4)\n",
    "+ [2.4.1 Time-series columns - break them down into hour, minute, and weekday](#2.4.1)\n",
    "+ [2.4.2 Shorten & Simplify the Wind Direction](#2.4.2)\n",
    "\n",
    "2.5 [Typos](#2.5)\n",
    "+ [2.5.1 Check for typos in the dataset](#2.5.1)\n",
    "+ [2.5.2 Extra-whitespaces](#2.5.2)\n",
    "+ [2.5.3 Lower-case all values in each column](#2.5.3)\n",
    "\n",
    "2.6 [Sanity checks](#2.6)\n",
    "+ [2.6.1 Check duplication](#2.6.1)\n",
    "+ [2.6.2 Impossible values](#2.6.2)\n",
    "\n",
    "2.7 [Extra exploration and visualization](#2.7)\n",
    "+ [2.7.1 Medium distance by severity bar chart](#2.7.1)\n",
    "+ [2.7.2 Top 10 states having the most accidents bar chart](#2.7.2)\n",
    "+ [2.7.3 Longtitude and Latitude Scatterplot](#2.7.3)\n",
    "+ [2.7.4 Most frequent POI Attributes of an accident with severity bar chart](#2.7.4)\n",
    "\n",
    "<br>\n",
    "\n",
    "### 3. [Feature Engineering](#3)\n",
    "3.1 [Data Correlation - Quantify the association of features and accidents](#3.1)\n",
    "\n",
    "3.2 [Gaussian Distributions - Box Cox OR Log Transformation of skewed features](#3.2)\n",
    "\n",
    "3.3 [Assumptions of Regression](#3.3)\n",
    "\n",
    "3.4 [Multicollinearity of Features](#3.4)\n",
    "\n",
    "3.5 [Drop multicollinearity features and high p-value](#3.5)\n",
    "\n",
    "3.6 [Encoding](#3.6)\n",
    "\n",
    "3.7 [Check OLS stats model - Multivariate - Interpretation of the Model Coefficient, the P-value, the R-squared](#3.7)\n",
    "\n",
    "3.8 [df - Test - Validation Sets](#3.8)\n",
    "\n",
    "3.9 [Feature scaling](#3.9)\n",
    "\n",
    "<br>\n",
    "\n",
    "### 4. [Model dfing](#4)\n",
    "\n",
    "<br>\n",
    "\n",
    "### 5. [Model comparison and export](#5)\n",
    "\n",
    "<br>\n",
    "\n",
    "### 6. [Summary](#6)\n",
    "\n",
    "<br>\n",
    "\n",
    "### 7. [References](#7)\n",
    "\n",
    "<br>\n",
    "\n",
    "### 8. [Appendix](#8)\n",
    "\n",
    "<hr>"
   ]
  },
  {
   "cell_type": "markdown",
   "id": "6789ee74",
   "metadata": {},
   "source": [
    "<a id=\"1\"></a>\n",
    "<h1 style=\"color:#ffc0cb;font-size:40px;font-family:Georgia;text-align:center;\"><strong>1. Data Preparation - THACH </strong></h1>\n",
    "\n",
    "<a id=\"1.1\"></a>\n",
    "# 1.1 Importing Necessary Libraries and datasets"
   ]
  },
  {
   "cell_type": "code",
   "execution_count": 1,
   "id": "9257ec00",
   "metadata": {
    "pycharm": {
     "name": "#%%\n"
    }
   },
   "outputs": [
    {
     "name": "stdout",
     "output_type": "stream",
     "text": [
      "Requirement already satisfied: missingno in c:\\users\\admin\\appdata\\local\\programs\\python\\python37\\lib\\site-packages (0.5.0)\n",
      "Requirement already satisfied: seaborn in c:\\users\\admin\\appdata\\local\\programs\\python\\python37\\lib\\site-packages (from missingno) (0.11.2)\n",
      "Requirement already satisfied: matplotlib in c:\\users\\admin\\appdata\\local\\programs\\python\\python37\\lib\\site-packages (from missingno) (3.5.0)\n",
      "Requirement already satisfied: numpy in c:\\users\\admin\\appdata\\local\\programs\\python\\python37\\lib\\site-packages (from missingno) (1.21.3)\n",
      "Requirement already satisfied: scipy in c:\\users\\admin\\appdata\\local\\programs\\python\\python37\\lib\\site-packages (from missingno) (1.7.3)\n",
      "Requirement already satisfied: kiwisolver>=1.0.1 in c:\\users\\admin\\appdata\\local\\programs\\python\\python37\\lib\\site-packages (from matplotlib->missingno) (1.3.2)\n",
      "Requirement already satisfied: packaging>=20.0 in c:\\users\\admin\\appdata\\local\\programs\\python\\python37\\lib\\site-packages (from matplotlib->missingno) (21.2)\n",
      "Requirement already satisfied: setuptools-scm>=4 in c:\\users\\admin\\appdata\\local\\programs\\python\\python37\\lib\\site-packages (from matplotlib->missingno) (6.3.2)\n",
      "Requirement already satisfied: fonttools>=4.22.0 in c:\\users\\admin\\appdata\\local\\programs\\python\\python37\\lib\\site-packages (from matplotlib->missingno) (4.28.2)\n",
      "Requirement already satisfied: cycler>=0.10 in c:\\users\\admin\\appdata\\local\\programs\\python\\python37\\lib\\site-packages (from matplotlib->missingno) (0.11.0)\n",
      "Requirement already satisfied: python-dateutil>=2.7 in c:\\users\\admin\\appdata\\local\\programs\\python\\python37\\lib\\site-packages (from matplotlib->missingno) (2.8.2)\n",
      "Requirement already satisfied: pyparsing>=2.2.1 in c:\\users\\admin\\appdata\\local\\programs\\python\\python37\\lib\\site-packages (from matplotlib->missingno) (2.4.7)\n",
      "Requirement already satisfied: pillow>=6.2.0 in c:\\users\\admin\\appdata\\local\\programs\\python\\python37\\lib\\site-packages (from matplotlib->missingno) (8.4.0)\n",
      "Requirement already satisfied: pandas>=0.23 in c:\\users\\admin\\appdata\\local\\programs\\python\\python37\\lib\\site-packages (from seaborn->missingno) (1.1.5)\n",
      "Requirement already satisfied: pytz>=2017.2 in c:\\users\\admin\\appdata\\local\\programs\\python\\python37\\lib\\site-packages (from pandas>=0.23->seaborn->missingno) (2021.3)\n",
      "Requirement already satisfied: six>=1.5 in c:\\users\\admin\\appdata\\local\\programs\\python\\python37\\lib\\site-packages (from python-dateutil>=2.7->matplotlib->missingno) (1.16.0)\n",
      "Requirement already satisfied: tomli>=1.0.0 in c:\\users\\admin\\appdata\\local\\programs\\python\\python37\\lib\\site-packages (from setuptools-scm>=4->matplotlib->missingno) (1.2.2)\n",
      "Requirement already satisfied: setuptools in c:\\users\\admin\\appdata\\local\\programs\\python\\python37\\lib\\site-packages (from setuptools-scm>=4->matplotlib->missingno) (39.0.1)\n"
     ]
    },
    {
     "ename": "Exception",
     "evalue": "File `'function.py'` not found.",
     "output_type": "error",
     "traceback": [
      "\u001b[1;31m---------------------------------------------------------------------------\u001b[0m",
      "\u001b[1;31mOSError\u001b[0m                                   Traceback (most recent call last)",
      "\u001b[1;32mc:\\users\\admin\\appdata\\local\\programs\\python\\python37\\lib\\site-packages\\IPython\\core\\magics\\execution.py\u001b[0m in \u001b[0;36mrun\u001b[1;34m(self, parameter_s, runner, file_finder)\u001b[0m\n\u001b[0;32m    702\u001b[0m             \u001b[0mfpath\u001b[0m \u001b[1;33m=\u001b[0m \u001b[0marg_lst\u001b[0m\u001b[1;33m[\u001b[0m\u001b[1;36m0\u001b[0m\u001b[1;33m]\u001b[0m\u001b[1;33m\u001b[0m\u001b[0m\n\u001b[1;32m--> 703\u001b[1;33m             \u001b[0mfilename\u001b[0m \u001b[1;33m=\u001b[0m \u001b[0mfile_finder\u001b[0m\u001b[1;33m(\u001b[0m\u001b[0mfpath\u001b[0m\u001b[1;33m)\u001b[0m\u001b[1;33m\u001b[0m\u001b[0m\n\u001b[0m\u001b[0;32m    704\u001b[0m         \u001b[1;32mexcept\u001b[0m \u001b[0mIndexError\u001b[0m\u001b[1;33m:\u001b[0m\u001b[1;33m\u001b[0m\u001b[0m\n",
      "\u001b[1;32mc:\\users\\admin\\appdata\\local\\programs\\python\\python37\\lib\\site-packages\\IPython\\utils\\path.py\u001b[0m in \u001b[0;36mget_py_filename\u001b[1;34m(name, force_win32)\u001b[0m\n\u001b[0;32m    108\u001b[0m     \u001b[1;32melse\u001b[0m\u001b[1;33m:\u001b[0m\u001b[1;33m\u001b[0m\u001b[0m\n\u001b[1;32m--> 109\u001b[1;33m         \u001b[1;32mraise\u001b[0m \u001b[0mIOError\u001b[0m\u001b[1;33m(\u001b[0m\u001b[1;34m'File `%r` not found.'\u001b[0m \u001b[1;33m%\u001b[0m \u001b[0mname\u001b[0m\u001b[1;33m)\u001b[0m\u001b[1;33m\u001b[0m\u001b[0m\n\u001b[0m\u001b[0;32m    110\u001b[0m \u001b[1;33m\u001b[0m\u001b[0m\n",
      "\u001b[1;31mOSError\u001b[0m: File `'function.py'` not found.",
      "\nDuring handling of the above exception, another exception occurred:\n",
      "\u001b[1;31mException\u001b[0m                                 Traceback (most recent call last)",
      "\u001b[1;32m~\\AppData\\Local\\Temp/ipykernel_17516/630600885.py\u001b[0m in \u001b[0;36m<module>\u001b[1;34m\u001b[0m\n\u001b[0;32m     32\u001b[0m \u001b[1;33m\u001b[0m\u001b[0m\n\u001b[0;32m     33\u001b[0m \u001b[1;31m# run a python file\u001b[0m\u001b[1;33m\u001b[0m\u001b[1;33m\u001b[0m\u001b[0m\n\u001b[1;32m---> 34\u001b[1;33m \u001b[0mget_ipython\u001b[0m\u001b[1;33m(\u001b[0m\u001b[1;33m)\u001b[0m\u001b[1;33m.\u001b[0m\u001b[0mrun_line_magic\u001b[0m\u001b[1;33m(\u001b[0m\u001b[1;34m'run'\u001b[0m\u001b[1;33m,\u001b[0m \u001b[1;34m'function.py'\u001b[0m\u001b[1;33m)\u001b[0m\u001b[1;33m\u001b[0m\u001b[0m\n\u001b[0m\u001b[0;32m     35\u001b[0m \u001b[1;33m\u001b[0m\u001b[0m\n\u001b[0;32m     36\u001b[0m \u001b[1;31m# overwrite the style of all the matplotlib graphs\u001b[0m\u001b[1;33m\u001b[0m\u001b[1;33m\u001b[0m\u001b[0m\n",
      "\u001b[1;32mc:\\users\\admin\\appdata\\local\\programs\\python\\python37\\lib\\site-packages\\IPython\\core\\interactiveshell.py\u001b[0m in \u001b[0;36mrun_line_magic\u001b[1;34m(self, magic_name, line, _stack_depth)\u001b[0m\n\u001b[0;32m   2349\u001b[0m                 \u001b[0mkwargs\u001b[0m\u001b[1;33m[\u001b[0m\u001b[1;34m'local_ns'\u001b[0m\u001b[1;33m]\u001b[0m \u001b[1;33m=\u001b[0m \u001b[0mself\u001b[0m\u001b[1;33m.\u001b[0m\u001b[0mget_local_scope\u001b[0m\u001b[1;33m(\u001b[0m\u001b[0mstack_depth\u001b[0m\u001b[1;33m)\u001b[0m\u001b[1;33m\u001b[0m\u001b[0m\n\u001b[0;32m   2350\u001b[0m             \u001b[1;32mwith\u001b[0m \u001b[0mself\u001b[0m\u001b[1;33m.\u001b[0m\u001b[0mbuiltin_trap\u001b[0m\u001b[1;33m:\u001b[0m\u001b[1;33m\u001b[0m\u001b[0m\n\u001b[1;32m-> 2351\u001b[1;33m                 \u001b[0mresult\u001b[0m \u001b[1;33m=\u001b[0m \u001b[0mfn\u001b[0m\u001b[1;33m(\u001b[0m\u001b[1;33m*\u001b[0m\u001b[0margs\u001b[0m\u001b[1;33m,\u001b[0m \u001b[1;33m**\u001b[0m\u001b[0mkwargs\u001b[0m\u001b[1;33m)\u001b[0m\u001b[1;33m\u001b[0m\u001b[0m\n\u001b[0m\u001b[0;32m   2352\u001b[0m             \u001b[1;32mreturn\u001b[0m \u001b[0mresult\u001b[0m\u001b[1;33m\u001b[0m\u001b[0m\n\u001b[0;32m   2353\u001b[0m \u001b[1;33m\u001b[0m\u001b[0m\n",
      "\u001b[1;32mc:\\users\\admin\\appdata\\local\\programs\\python\\python37\\lib\\site-packages\\decorator.py\u001b[0m in \u001b[0;36mfun\u001b[1;34m(*args, **kw)\u001b[0m\n\u001b[0;32m    230\u001b[0m             \u001b[1;32mif\u001b[0m \u001b[1;32mnot\u001b[0m \u001b[0mkwsyntax\u001b[0m\u001b[1;33m:\u001b[0m\u001b[1;33m\u001b[0m\u001b[0m\n\u001b[0;32m    231\u001b[0m                 \u001b[0margs\u001b[0m\u001b[1;33m,\u001b[0m \u001b[0mkw\u001b[0m \u001b[1;33m=\u001b[0m \u001b[0mfix\u001b[0m\u001b[1;33m(\u001b[0m\u001b[0margs\u001b[0m\u001b[1;33m,\u001b[0m \u001b[0mkw\u001b[0m\u001b[1;33m,\u001b[0m \u001b[0msig\u001b[0m\u001b[1;33m)\u001b[0m\u001b[1;33m\u001b[0m\u001b[0m\n\u001b[1;32m--> 232\u001b[1;33m             \u001b[1;32mreturn\u001b[0m \u001b[0mcaller\u001b[0m\u001b[1;33m(\u001b[0m\u001b[0mfunc\u001b[0m\u001b[1;33m,\u001b[0m \u001b[1;33m*\u001b[0m\u001b[1;33m(\u001b[0m\u001b[0mextras\u001b[0m \u001b[1;33m+\u001b[0m \u001b[0margs\u001b[0m\u001b[1;33m)\u001b[0m\u001b[1;33m,\u001b[0m \u001b[1;33m**\u001b[0m\u001b[0mkw\u001b[0m\u001b[1;33m)\u001b[0m\u001b[1;33m\u001b[0m\u001b[0m\n\u001b[0m\u001b[0;32m    233\u001b[0m     \u001b[0mfun\u001b[0m\u001b[1;33m.\u001b[0m\u001b[0m__name__\u001b[0m \u001b[1;33m=\u001b[0m \u001b[0mfunc\u001b[0m\u001b[1;33m.\u001b[0m\u001b[0m__name__\u001b[0m\u001b[1;33m\u001b[0m\u001b[0m\n\u001b[0;32m    234\u001b[0m     \u001b[0mfun\u001b[0m\u001b[1;33m.\u001b[0m\u001b[0m__doc__\u001b[0m \u001b[1;33m=\u001b[0m \u001b[0mfunc\u001b[0m\u001b[1;33m.\u001b[0m\u001b[0m__doc__\u001b[0m\u001b[1;33m\u001b[0m\u001b[0m\n",
      "\u001b[1;32mc:\\users\\admin\\appdata\\local\\programs\\python\\python37\\lib\\site-packages\\IPython\\core\\magic.py\u001b[0m in \u001b[0;36m<lambda>\u001b[1;34m(f, *a, **k)\u001b[0m\n\u001b[0;32m    185\u001b[0m     \u001b[1;31m# but it's overkill for just that one bit of state.\u001b[0m\u001b[1;33m\u001b[0m\u001b[1;33m\u001b[0m\u001b[0m\n\u001b[0;32m    186\u001b[0m     \u001b[1;32mdef\u001b[0m \u001b[0mmagic_deco\u001b[0m\u001b[1;33m(\u001b[0m\u001b[0marg\u001b[0m\u001b[1;33m)\u001b[0m\u001b[1;33m:\u001b[0m\u001b[1;33m\u001b[0m\u001b[0m\n\u001b[1;32m--> 187\u001b[1;33m         \u001b[0mcall\u001b[0m \u001b[1;33m=\u001b[0m \u001b[1;32mlambda\u001b[0m \u001b[0mf\u001b[0m\u001b[1;33m,\u001b[0m \u001b[1;33m*\u001b[0m\u001b[0ma\u001b[0m\u001b[1;33m,\u001b[0m \u001b[1;33m**\u001b[0m\u001b[0mk\u001b[0m\u001b[1;33m:\u001b[0m \u001b[0mf\u001b[0m\u001b[1;33m(\u001b[0m\u001b[1;33m*\u001b[0m\u001b[0ma\u001b[0m\u001b[1;33m,\u001b[0m \u001b[1;33m**\u001b[0m\u001b[0mk\u001b[0m\u001b[1;33m)\u001b[0m\u001b[1;33m\u001b[0m\u001b[0m\n\u001b[0m\u001b[0;32m    188\u001b[0m \u001b[1;33m\u001b[0m\u001b[0m\n\u001b[0;32m    189\u001b[0m         \u001b[1;32mif\u001b[0m \u001b[0mcallable\u001b[0m\u001b[1;33m(\u001b[0m\u001b[0marg\u001b[0m\u001b[1;33m)\u001b[0m\u001b[1;33m:\u001b[0m\u001b[1;33m\u001b[0m\u001b[0m\n",
      "\u001b[1;32mc:\\users\\admin\\appdata\\local\\programs\\python\\python37\\lib\\site-packages\\IPython\\core\\magics\\execution.py\u001b[0m in \u001b[0;36mrun\u001b[1;34m(self, parameter_s, runner, file_finder)\u001b[0m\n\u001b[0;32m    712\u001b[0m             \u001b[1;32mif\u001b[0m \u001b[0mos\u001b[0m\u001b[1;33m.\u001b[0m\u001b[0mname\u001b[0m \u001b[1;33m==\u001b[0m \u001b[1;34m'nt'\u001b[0m \u001b[1;32mand\u001b[0m \u001b[0mre\u001b[0m\u001b[1;33m.\u001b[0m\u001b[0mmatch\u001b[0m\u001b[1;33m(\u001b[0m\u001b[1;34mr\"^'.*'$\"\u001b[0m\u001b[1;33m,\u001b[0m\u001b[0mfpath\u001b[0m\u001b[1;33m)\u001b[0m\u001b[1;33m:\u001b[0m\u001b[1;33m\u001b[0m\u001b[0m\n\u001b[0;32m    713\u001b[0m                 \u001b[0mwarn\u001b[0m\u001b[1;33m(\u001b[0m\u001b[1;34m'For Windows, use double quotes to wrap a filename: %run \"mypath\\\\myfile.py\"'\u001b[0m\u001b[1;33m)\u001b[0m\u001b[1;33m\u001b[0m\u001b[0m\n\u001b[1;32m--> 714\u001b[1;33m             \u001b[1;32mraise\u001b[0m \u001b[0mException\u001b[0m\u001b[1;33m(\u001b[0m\u001b[0mmsg\u001b[0m\u001b[1;33m)\u001b[0m\u001b[1;33m\u001b[0m\u001b[0m\n\u001b[0m\u001b[0;32m    715\u001b[0m         \u001b[1;32mexcept\u001b[0m \u001b[0mTypeError\u001b[0m\u001b[1;33m:\u001b[0m\u001b[1;33m\u001b[0m\u001b[0m\n\u001b[0;32m    716\u001b[0m             \u001b[1;32mif\u001b[0m \u001b[0mfpath\u001b[0m \u001b[1;32min\u001b[0m \u001b[0msys\u001b[0m\u001b[1;33m.\u001b[0m\u001b[0mmeta_path\u001b[0m\u001b[1;33m:\u001b[0m\u001b[1;33m\u001b[0m\u001b[0m\n",
      "\u001b[1;31mException\u001b[0m: File `'function.py'` not found."
     ]
    }
   ],
   "source": [
    "# Install a conda package in the current Jupyter kernel\n",
    "import sys\n",
    "!{sys.executable} -m pip install missingno\n",
    "\n",
    "# work with data in tabular representation\n",
    "from datetime import time\n",
    "\n",
    "import pandas as pd\n",
    "# round the data in the correlation matrix\n",
    "import numpy as np\n",
    "# module for regular expression\n",
    "import re\n",
    "\n",
    "# Modules for data visualization\n",
    "import seaborn as sns\n",
    "import missingno as msno\n",
    "import matplotlib.pyplot as plt\n",
    "import matplotlib.patches as mpatches\n",
    "\n",
    "from scipy.stats import skew  # for some statistics\n",
    "import matplotlib.style as style\n",
    "from xgboost import sklearn\n",
    "import statsmodels.api as sm\n",
    "\n",
    "pd.set_option('display.max_rows', 200)\n",
    "pd.set_option('display.max_columns', 200)\n",
    "\n",
    "plt.rcParams['figure.figsize'] = [6, 6]\n",
    "\n",
    "# Ensure that our plots are shown and embedded within the Jupyter notebook itself. Without this command, sometimes plots may show up in pop-up windows\n",
    "%matplotlib inline\n",
    "\n",
    "# run a python file\n",
    "%run function.py\n",
    "\n",
    "# overwrite the style of all the matplotlib graphs\n",
    "sns.set()\n",
    "\n",
    "# ignore DeprecationWarning Error Messages\n",
    "import warnings\n",
    "warnings.filterwarnings('ignore')"
   ]
  },
  {
   "cell_type": "code",
   "execution_count": null,
   "id": "0481820f",
   "metadata": {
    "pycharm": {
     "name": "#%%\n"
    }
   },
   "outputs": [],
   "source": [
    "# check the version of the packages\n",
    "print(\"Numpy version: \", np.__version__)\n",
    "print(\"Pandas version: \",pd.__version__)"
   ]
  },
  {
   "cell_type": "markdown",
   "id": "7d16b0a4",
   "metadata": {},
   "source": [
    "# Data Retrieving\n",
    "***\n",
    "In order to load data properly, the data in csv file have to be examined carefully. First of all, all the categories are seperated by the \",\" and strip the extra-whitespaces at the begin by setting \"skipinitialspace = True\"."
   ]
  },
  {
   "cell_type": "code",
   "execution_count": 2,
   "id": "bcc88113",
   "metadata": {
    "pycharm": {
     "name": "#%%\n"
    }
   },
   "outputs": [
    {
     "name": "stdout",
     "output_type": "stream",
     "text": [
      "Wall time: 0 ns\n"
     ]
    },
    {
     "data": {
      "text/html": [
       "<div>\n",
       "<style scoped>\n",
       "    .dataframe tbody tr th:only-of-type {\n",
       "        vertical-align: middle;\n",
       "    }\n",
       "\n",
       "    .dataframe tbody tr th {\n",
       "        vertical-align: top;\n",
       "    }\n",
       "\n",
       "    .dataframe thead th {\n",
       "        text-align: right;\n",
       "    }\n",
       "</style>\n",
       "<table border=\"1\" class=\"dataframe\">\n",
       "  <thead>\n",
       "    <tr style=\"text-align: right;\">\n",
       "      <th></th>\n",
       "      <th>Ngày</th>\n",
       "      <th>Địa chỉ</th>\n",
       "      <th>Quận</th>\n",
       "      <th>Huyện</th>\n",
       "      <th>Loại hình nhà ở</th>\n",
       "      <th>Giấy tờ pháp lý</th>\n",
       "      <th>Số tầng</th>\n",
       "      <th>Số phòng ngủ</th>\n",
       "      <th>Diện tích</th>\n",
       "      <th>Dài</th>\n",
       "      <th>Rộng</th>\n",
       "      <th>Giá/m2</th>\n",
       "    </tr>\n",
       "  </thead>\n",
       "  <tbody>\n",
       "    <tr>\n",
       "      <th>0</th>\n",
       "      <td>2020-08-05</td>\n",
       "      <td>Đường Hoàng Quốc Việt, Phường Nghĩa Đô, Quận C...</td>\n",
       "      <td>Quận Cầu Giấy</td>\n",
       "      <td>Phường Nghĩa Đô</td>\n",
       "      <td>Nhà ngõ, hẻm</td>\n",
       "      <td>Đã có sổ</td>\n",
       "      <td>4</td>\n",
       "      <td>5 phòng</td>\n",
       "      <td>46 m²</td>\n",
       "      <td>NaN</td>\n",
       "      <td>NaN</td>\n",
       "      <td>86,96 triệu/m²</td>\n",
       "    </tr>\n",
       "    <tr>\n",
       "      <th>1</th>\n",
       "      <td>2020-08-05</td>\n",
       "      <td>Đường Kim Giang, Phường Kim Giang, Quận Thanh ...</td>\n",
       "      <td>Quận Thanh Xuân</td>\n",
       "      <td>Phường Kim Giang</td>\n",
       "      <td>Nhà mặt phố, mặt tiền</td>\n",
       "      <td>NaN</td>\n",
       "      <td>NaN</td>\n",
       "      <td>3 phòng</td>\n",
       "      <td>37 m²</td>\n",
       "      <td>NaN</td>\n",
       "      <td>NaN</td>\n",
       "      <td>116,22 triệu/m²</td>\n",
       "    </tr>\n",
       "    <tr>\n",
       "      <th>2</th>\n",
       "      <td>2020-08-05</td>\n",
       "      <td>phố minh khai, Phường Minh Khai, Quận Hai Bà T...</td>\n",
       "      <td>Quận Hai Bà Trưng</td>\n",
       "      <td>Phường Minh Khai</td>\n",
       "      <td>Nhà ngõ, hẻm</td>\n",
       "      <td>Đã có sổ</td>\n",
       "      <td>4</td>\n",
       "      <td>4 phòng</td>\n",
       "      <td>40 m²</td>\n",
       "      <td>10 m</td>\n",
       "      <td>4 m</td>\n",
       "      <td>65 triệu/m²</td>\n",
       "    </tr>\n",
       "  </tbody>\n",
       "</table>\n",
       "</div>"
      ],
      "text/plain": [
       "         Ngày                                            Địa chỉ  \\\n",
       "0  2020-08-05  Đường Hoàng Quốc Việt, Phường Nghĩa Đô, Quận C...   \n",
       "1  2020-08-05  Đường Kim Giang, Phường Kim Giang, Quận Thanh ...   \n",
       "2  2020-08-05  phố minh khai, Phường Minh Khai, Quận Hai Bà T...   \n",
       "\n",
       "                Quận             Huyện        Loại hình nhà ở Giấy tờ pháp lý  \\\n",
       "0      Quận Cầu Giấy   Phường Nghĩa Đô           Nhà ngõ, hẻm        Đã có sổ   \n",
       "1    Quận Thanh Xuân  Phường Kim Giang  Nhà mặt phố, mặt tiền             NaN   \n",
       "2  Quận Hai Bà Trưng  Phường Minh Khai           Nhà ngõ, hẻm        Đã có sổ   \n",
       "\n",
       "  Số tầng Số phòng ngủ Diện tích   Dài Rộng           Giá/m2  \n",
       "0       4      5 phòng     46 m²   NaN  NaN   86,96 triệu/m²  \n",
       "1     NaN      3 phòng     37 m²   NaN  NaN  116,22 triệu/m²  \n",
       "2       4      4 phòng     40 m²  10 m  4 m      65 triệu/m²  "
      ]
     },
     "execution_count": 2,
     "metadata": {},
     "output_type": "execute_result"
    }
   ],
   "source": [
    "%time\n",
    "# import test dataset\n",
    "df = pd.read_csv('Data/VN_housing_dataset.csv', delimiter=',', skipinitialspace = True)\n",
    "df.drop('Unnamed: 0', 1, inplace=True)\n",
    "df.head(3)"
   ]
  },
  {
   "cell_type": "markdown",
   "id": "35403b74",
   "metadata": {},
   "source": [
    "## Rename column\n",
    "***\n",
    "Since these columns are in Vietnamese so translate into English will be more straightforward in later process. We will also analyse the column meaning:\n",
    "- The 'Ngày' will be the date which will contain all the day, month, year value\n",
    "- The 'Địa chỉ' will be the address which contains the street, ward, district, city\n",
    "- The 'Quận' is district\n",
    "- The 'Huyện' is not suppose to be the ward. However, the content they have is actually the ward\n",
    "- The 'Loại hình nhà ở' is a type of house which depends on the location such as villa, house in the main street, house in the alley, or townhouse.\n",
    "- The 'Giấy tờ pháp lý' is the legal document either already have, or on waiting, or others documents.\n",
    "- The 'Số tầng' is the number of floor\n",
    "- The 'Số phòng ngủ' is the number of bedroom\n",
    "- The 'Diện tích' is the area unit in meter square\n",
    "- The 'Dài' is the length unit in meter\n",
    "- The 'Rộng' is the width unit in meter\n",
    "- The 'Giá/m2' is the price in million VND per meter square"
   ]
  },
  {
   "cell_type": "code",
   "execution_count": 3,
   "id": "e29e857e",
   "metadata": {
    "pycharm": {
     "name": "#%%\n"
    }
   },
   "outputs": [
    {
     "data": {
      "text/html": [
       "<div>\n",
       "<style scoped>\n",
       "    .dataframe tbody tr th:only-of-type {\n",
       "        vertical-align: middle;\n",
       "    }\n",
       "\n",
       "    .dataframe tbody tr th {\n",
       "        vertical-align: top;\n",
       "    }\n",
       "\n",
       "    .dataframe thead th {\n",
       "        text-align: right;\n",
       "    }\n",
       "</style>\n",
       "<table border=\"1\" class=\"dataframe\">\n",
       "  <thead>\n",
       "    <tr style=\"text-align: right;\">\n",
       "      <th></th>\n",
       "      <th>Date</th>\n",
       "      <th>Address</th>\n",
       "      <th>District</th>\n",
       "      <th>Ward</th>\n",
       "      <th>House_type</th>\n",
       "      <th>Legal_documents</th>\n",
       "      <th>No_floor</th>\n",
       "      <th>No_bedroom</th>\n",
       "      <th>Area</th>\n",
       "      <th>Length</th>\n",
       "      <th>Width</th>\n",
       "      <th>Price</th>\n",
       "    </tr>\n",
       "  </thead>\n",
       "  <tbody>\n",
       "    <tr>\n",
       "      <th>0</th>\n",
       "      <td>2020-08-05</td>\n",
       "      <td>Đường Hoàng Quốc Việt, Phường Nghĩa Đô, Quận C...</td>\n",
       "      <td>Quận Cầu Giấy</td>\n",
       "      <td>Phường Nghĩa Đô</td>\n",
       "      <td>Nhà ngõ, hẻm</td>\n",
       "      <td>Đã có sổ</td>\n",
       "      <td>4</td>\n",
       "      <td>5 phòng</td>\n",
       "      <td>46 m²</td>\n",
       "      <td>NaN</td>\n",
       "      <td>NaN</td>\n",
       "      <td>86,96 triệu/m²</td>\n",
       "    </tr>\n",
       "    <tr>\n",
       "      <th>1</th>\n",
       "      <td>2020-08-05</td>\n",
       "      <td>Đường Kim Giang, Phường Kim Giang, Quận Thanh ...</td>\n",
       "      <td>Quận Thanh Xuân</td>\n",
       "      <td>Phường Kim Giang</td>\n",
       "      <td>Nhà mặt phố, mặt tiền</td>\n",
       "      <td>NaN</td>\n",
       "      <td>NaN</td>\n",
       "      <td>3 phòng</td>\n",
       "      <td>37 m²</td>\n",
       "      <td>NaN</td>\n",
       "      <td>NaN</td>\n",
       "      <td>116,22 triệu/m²</td>\n",
       "    </tr>\n",
       "    <tr>\n",
       "      <th>2</th>\n",
       "      <td>2020-08-05</td>\n",
       "      <td>phố minh khai, Phường Minh Khai, Quận Hai Bà T...</td>\n",
       "      <td>Quận Hai Bà Trưng</td>\n",
       "      <td>Phường Minh Khai</td>\n",
       "      <td>Nhà ngõ, hẻm</td>\n",
       "      <td>Đã có sổ</td>\n",
       "      <td>4</td>\n",
       "      <td>4 phòng</td>\n",
       "      <td>40 m²</td>\n",
       "      <td>10 m</td>\n",
       "      <td>4 m</td>\n",
       "      <td>65 triệu/m²</td>\n",
       "    </tr>\n",
       "  </tbody>\n",
       "</table>\n",
       "</div>"
      ],
      "text/plain": [
       "         Date                                            Address  \\\n",
       "0  2020-08-05  Đường Hoàng Quốc Việt, Phường Nghĩa Đô, Quận C...   \n",
       "1  2020-08-05  Đường Kim Giang, Phường Kim Giang, Quận Thanh ...   \n",
       "2  2020-08-05  phố minh khai, Phường Minh Khai, Quận Hai Bà T...   \n",
       "\n",
       "            District              Ward             House_type Legal_documents  \\\n",
       "0      Quận Cầu Giấy   Phường Nghĩa Đô           Nhà ngõ, hẻm        Đã có sổ   \n",
       "1    Quận Thanh Xuân  Phường Kim Giang  Nhà mặt phố, mặt tiền             NaN   \n",
       "2  Quận Hai Bà Trưng  Phường Minh Khai           Nhà ngõ, hẻm        Đã có sổ   \n",
       "\n",
       "  No_floor No_bedroom   Area Length Width            Price  \n",
       "0        4    5 phòng  46 m²    NaN   NaN   86,96 triệu/m²  \n",
       "1      NaN    3 phòng  37 m²    NaN   NaN  116,22 triệu/m²  \n",
       "2        4    4 phòng  40 m²   10 m   4 m      65 triệu/m²  "
      ]
     },
     "execution_count": 3,
     "metadata": {},
     "output_type": "execute_result"
    }
   ],
   "source": [
    "df.columns = [\n",
    "    'Date', 'Address', 'District',\n",
    "    'Ward', 'House_type', 'Legal_documents', \n",
    "    'No_floor', 'No_bedroom', 'Area', 'Length', 'Width', 'Price']\n",
    "df.head(3)"
   ]
  },
  {
   "cell_type": "markdown",
   "id": "b8626482",
   "metadata": {},
   "source": [
    "<a id=\"2\"></a>\n",
    "<h1 style=\"color:#ffc0cb;font-size:40px;font-family:Georgia;text-align:center;\"><strong>2. Data Cleaning</strong></h1>"
   ]
  },
  {
   "cell_type": "markdown",
   "id": "14b9c80b",
   "metadata": {},
   "source": [
    "## About This Dataset\n",
    "***\n",
    "\n",
    "Now let's go through the features and describe a little. There is a couple of different type of variables, They are...\n",
    "***\n",
    "**Categorical:**\n",
    "- **Nominal**\n",
    "    > - **Address**\n",
    "    > - **District**\n",
    "    > - **Ward**\n",
    "    > - **Housing_type**\n",
    "    > - **Legal_documents**\n",
    "- **Ordinal**\n",
    "    > - **No_room**\n",
    "    > - **No_floor**\n",
    "***\n",
    "**Numeric:**\n",
    "- **Continuous**\n",
    "  >  - **Area**\n",
    "  >  - **Length**\n",
    "  >  - **Width**  \n",
    "  >  - **Price**\n",
    "***\n",
    "**Date/time:**\n",
    "- **Date**(Nominal variable)"
   ]
  },
  {
   "cell_type": "markdown",
   "id": "36795bf2",
   "metadata": {},
   "source": [
    "## Data types\n",
    "***"
   ]
  },
  {
   "cell_type": "markdown",
   "id": "5e023ef1",
   "metadata": {},
   "source": [
    "### Change data types"
   ]
  },
  {
   "cell_type": "code",
   "execution_count": 4,
   "id": "072881d1",
   "metadata": {
    "pycharm": {
     "name": "#%%\n"
    }
   },
   "outputs": [
    {
     "data": {
      "text/html": [
       "<div>\n",
       "<style scoped>\n",
       "    .dataframe tbody tr th:only-of-type {\n",
       "        vertical-align: middle;\n",
       "    }\n",
       "\n",
       "    .dataframe tbody tr th {\n",
       "        vertical-align: top;\n",
       "    }\n",
       "\n",
       "    .dataframe thead th {\n",
       "        text-align: right;\n",
       "    }\n",
       "</style>\n",
       "<table border=\"1\" class=\"dataframe\">\n",
       "  <thead>\n",
       "    <tr style=\"text-align: right;\">\n",
       "      <th></th>\n",
       "      <th>Address</th>\n",
       "      <th>District</th>\n",
       "      <th>Ward</th>\n",
       "      <th>House_type</th>\n",
       "      <th>Legal_documents</th>\n",
       "      <th>No_floor</th>\n",
       "      <th>No_bedroom</th>\n",
       "      <th>Area</th>\n",
       "      <th>Length</th>\n",
       "      <th>Width</th>\n",
       "      <th>Price</th>\n",
       "      <th>Day_Of_Week</th>\n",
       "      <th>Month</th>\n",
       "      <th>Year</th>\n",
       "    </tr>\n",
       "  </thead>\n",
       "  <tbody>\n",
       "    <tr>\n",
       "      <th>0</th>\n",
       "      <td>Đường Hoàng Quốc Việt, Phường Nghĩa Đô, Quận C...</td>\n",
       "      <td>Quận Cầu Giấy</td>\n",
       "      <td>Phường Nghĩa Đô</td>\n",
       "      <td>Nhà ngõ, hẻm</td>\n",
       "      <td>Đã có sổ</td>\n",
       "      <td>4</td>\n",
       "      <td>5 phòng</td>\n",
       "      <td>46 m²</td>\n",
       "      <td>NaN</td>\n",
       "      <td>NaN</td>\n",
       "      <td>86,96 triệu/m²</td>\n",
       "      <td>Wednesday</td>\n",
       "      <td>08</td>\n",
       "      <td>2020</td>\n",
       "    </tr>\n",
       "    <tr>\n",
       "      <th>1</th>\n",
       "      <td>Đường Kim Giang, Phường Kim Giang, Quận Thanh ...</td>\n",
       "      <td>Quận Thanh Xuân</td>\n",
       "      <td>Phường Kim Giang</td>\n",
       "      <td>Nhà mặt phố, mặt tiền</td>\n",
       "      <td>NaN</td>\n",
       "      <td>NaN</td>\n",
       "      <td>3 phòng</td>\n",
       "      <td>37 m²</td>\n",
       "      <td>NaN</td>\n",
       "      <td>NaN</td>\n",
       "      <td>116,22 triệu/m²</td>\n",
       "      <td>Wednesday</td>\n",
       "      <td>08</td>\n",
       "      <td>2020</td>\n",
       "    </tr>\n",
       "    <tr>\n",
       "      <th>2</th>\n",
       "      <td>phố minh khai, Phường Minh Khai, Quận Hai Bà T...</td>\n",
       "      <td>Quận Hai Bà Trưng</td>\n",
       "      <td>Phường Minh Khai</td>\n",
       "      <td>Nhà ngõ, hẻm</td>\n",
       "      <td>Đã có sổ</td>\n",
       "      <td>4</td>\n",
       "      <td>4 phòng</td>\n",
       "      <td>40 m²</td>\n",
       "      <td>10 m</td>\n",
       "      <td>4 m</td>\n",
       "      <td>65 triệu/m²</td>\n",
       "      <td>Wednesday</td>\n",
       "      <td>08</td>\n",
       "      <td>2020</td>\n",
       "    </tr>\n",
       "  </tbody>\n",
       "</table>\n",
       "</div>"
      ],
      "text/plain": [
       "                                             Address           District  \\\n",
       "0  Đường Hoàng Quốc Việt, Phường Nghĩa Đô, Quận C...      Quận Cầu Giấy   \n",
       "1  Đường Kim Giang, Phường Kim Giang, Quận Thanh ...    Quận Thanh Xuân   \n",
       "2  phố minh khai, Phường Minh Khai, Quận Hai Bà T...  Quận Hai Bà Trưng   \n",
       "\n",
       "               Ward             House_type Legal_documents No_floor  \\\n",
       "0   Phường Nghĩa Đô           Nhà ngõ, hẻm        Đã có sổ        4   \n",
       "1  Phường Kim Giang  Nhà mặt phố, mặt tiền             NaN      NaN   \n",
       "2  Phường Minh Khai           Nhà ngõ, hẻm        Đã có sổ        4   \n",
       "\n",
       "  No_bedroom   Area Length Width            Price Day_Of_Week Month  Year  \n",
       "0    5 phòng  46 m²    NaN   NaN   86,96 triệu/m²   Wednesday    08  2020  \n",
       "1    3 phòng  37 m²    NaN   NaN  116,22 triệu/m²   Wednesday    08  2020  \n",
       "2    4 phòng  40 m²   10 m   4 m      65 triệu/m²   Wednesday    08  2020  "
      ]
     },
     "execution_count": 4,
     "metadata": {},
     "output_type": "execute_result"
    }
   ],
   "source": [
    "# Cast date columns to the Date data type\n",
    "df['Date'] = pd.to_datetime(df['Date'])\n",
    "\n",
    "# Show days of the week into a separated column\n",
    "df['Day_Of_Week'] = df['Date'].dt.day_name()\n",
    "\n",
    "# Cast Date columns to the string data type in order to slice data later\n",
    "df['Date'] = df['Date'].astype(str)\n",
    "\n",
    "# slice the column to get the year and month in a new column\n",
    "def get_years(df, column):\n",
    "    return df[column].apply(lambda date: date[0:4])\n",
    "\n",
    "def get_months(df, column):\n",
    "    return df[column].apply(lambda date: date[5:7])\n",
    "\n",
    "df['Month'] = get_months(df, 'Date')\n",
    "df['Year'] = get_years(df, 'Date')\n",
    "\n",
    "# Drop original columns\n",
    "df = df.drop(['Date'], axis=1)\n",
    "\n",
    "df.head(3)"
   ]
  },
  {
   "cell_type": "code",
   "execution_count": 5,
   "id": "8523088c",
   "metadata": {
    "pycharm": {
     "name": "#%%\n"
    }
   },
   "outputs": [
    {
     "data": {
      "text/plain": [
       "Address             object\n",
       "District            object\n",
       "Ward                object\n",
       "House_type          object\n",
       "Legal_documents     object\n",
       "No_floor            object\n",
       "No_bedroom          object\n",
       "Area               float64\n",
       "Length             float64\n",
       "Width              float64\n",
       "Price              float64\n",
       "Day_Of_Week         object\n",
       "Month               object\n",
       "Year                object\n",
       "dtype: object"
      ]
     },
     "execution_count": 5,
     "metadata": {},
     "output_type": "execute_result"
    }
   ],
   "source": [
    "df['Area'] = df['Area'].replace('\\sm²', '', regex=True)\n",
    "df['Length'] = df['Length'].replace('\\sm', '', regex=True)\n",
    "df['Width'] = df['Width'].replace('\\sm', '', regex=True)\n",
    "df['Price'] = df['Price'].replace('\\striệu/m²', '', regex=True).replace(',', '.', regex=True)\n",
    "\n",
    "# df is the DataFrame, and column_list is a list of columns as strings\n",
    "def coerce_df_columns_to_numeric(df, column_list):\n",
    "    df[column_list] = df[column_list].apply(pd.to_numeric, errors='coerce')\n",
    "    return df.dtypes\n",
    "\n",
    "coerce_df_columns_to_numeric(df, ['Area','Length', 'Width', 'Price'])"
   ]
  },
  {
   "cell_type": "markdown",
   "id": "f37c6d44",
   "metadata": {},
   "source": [
    "### Remove prefix & Typo check"
   ]
  },
  {
   "cell_type": "code",
   "execution_count": 6,
   "id": "93899e78",
   "metadata": {
    "pycharm": {
     "name": "#%%\n"
    }
   },
   "outputs": [
    {
     "name": "stdout",
     "output_type": "stream",
     "text": [
      "NUMBER OF CATEGORIES: 29; \n",
      "\n",
      "UNIQUE NAMES OF THE CATEGORIES ['Cầu Giấy' 'Thanh Xuân' 'Hai Bà Trưng' 'Tây Hồ' 'Đống Đa' 'Hà Đông'\n",
      " 'Huyện Thanh Trì' 'Hoàng Mai' 'Long Biên' 'Hoàn Kiếm' 'Nam Từ Liêm'\n",
      " 'Ba Đình' 'Huyện Hoài Đức' 'Bắc Từ Liêm' 'Huyện Đan Phượng'\n",
      " 'Huyện Thanh Oai' 'Huyện Sóc Sơn' 'Huyện Gia Lâm' 'Huyện Chương Mỹ'\n",
      " 'Huyện Đông Anh' 'Huyện Thường Tín' 'Thị xã Sơn Tây' 'Huyện Mê Linh'\n",
      " 'Huyện Thạch Thất' 'Huyện Quốc Oai' 'Huyện Phúc Thọ' 'Huyện Phú Xuyên'\n",
      " 'Huyện Ba Vì' nan 'Huyện Mỹ Đức']\n",
      "\n",
      "\n",
      "\n"
     ]
    }
   ],
   "source": [
    "df['District'] = df['District'].replace('Quận\\s', '', regex=True)\n",
    "# print out list of District types\n",
    "print(f'NUMBER OF CATEGORIES: {df.District.nunique()}; \\n\\nUNIQUE NAMES OF THE CATEGORIES {df.District.unique()}\\n\\n\\n')"
   ]
  },
  {
   "cell_type": "code",
   "execution_count": 7,
   "id": "17066a58",
   "metadata": {
    "pycharm": {
     "name": "#%%\n"
    }
   },
   "outputs": [
    {
     "name": "stdout",
     "output_type": "stream",
     "text": [
      "NUMBER OF CATEGORIES: 305; \n",
      "\n",
      "UNIQUE NAMES OF THE CATEGORIES ['Nghĩa Đô' 'Kim Giang' 'Minh Khai' 'Thụy Khuê' 'Yên Hoà' 'Trung Liệt'\n",
      " 'Đống Mác' 'Xuân La' 'Văn Quán' 'Thị trấn Văn Điển' 'Định Công' 'Bồ Đề'\n",
      " 'Quang Trung' 'Thanh Lương' 'Khương Trung' 'Phúc Tân' 'Gia Thụy'\n",
      " 'Khương Đình' 'Phương Canh' 'Tương Mai' 'La Khê' 'Mễ Trì' 'Khương Mai'\n",
      " 'Láng Hạ' 'Quan Hoa' 'Tây Mỗ' 'Ngọc Khánh' 'Đại Mỗ' 'Tả Thanh Oai'\n",
      " 'Mỹ Đình 1' 'Tam Hiệp' 'Cống Vị' 'Bách Khoa' 'Vĩnh Phúc' 'Kim Chung'\n",
      " 'Đại Kim' 'Mai Động' 'Trung Tự' 'Kiến Hưng' 'Trúc Bạch' 'Cổ Nhuế 1'\n",
      " 'Đức Giang' 'Mỹ Đình 2' 'Bưởi' 'Ô Chợ Dừa' 'Long Biên' 'Hoàng Văn Thụ'\n",
      " 'Mai Dịch' 'Nhân Chính' 'Vạn Phúc' 'Ngọc Hà' 'Lĩnh Nam' 'Xuân Đỉnh'\n",
      " 'Phú Đô' 'Liễu Giai' 'Thị trấn Phùng' 'Kim Liên' 'Phúc Diễn' 'Kim Mã'\n",
      " 'Trung Phụng' 'Tân Mai' 'Cầu Diễn' 'Ngã Tư Sở' 'Trung Văn' 'Thượng Đình'\n",
      " 'Hoàng Liệt' 'Thịnh Liệt' 'Quốc Tử Giám' 'Khâm Thiên' 'Trương Định'\n",
      " 'Phú Diễn' 'Thạch Bàn' 'Ngọc Thụy' 'Cầu Dền' 'Phú Lương' 'Bạch Đằng'\n",
      " 'Phú La' 'Hà Cầu' 'Láng Thượng' 'Phương Liệt' 'Vĩnh Hưng' 'Thanh Nhàn'\n",
      " 'Cự Khối' 'Đội Cấn' 'Thịnh Quang' 'Trung Hoà' 'Quỳnh Mai' nan 'Nam Đồng'\n",
      " 'Dịch Vọng Hậu' 'Nghĩa Tân' 'Cự Khê' 'Vĩnh Tuy' 'Quảng An' 'Yên Nghĩa'\n",
      " 'Thành Công' 'Giáp Bát' 'Dịch Vọng' 'Thanh Xuân Bắc' 'Phương Mai'\n",
      " 'Bạch Mai' 'Thanh Trì' 'Thượng Thanh' 'Trần Phú' 'Nguyễn Trãi'\n",
      " 'Dương Nội' 'Hạ Đình' 'Thanh Xuân Nam' 'Vân Canh' 'Phù Lỗ' 'Phố Huế'\n",
      " 'Đồng Tâm' 'Xuân Phương' 'Phạm Đình Hổ' 'La Phù' 'Ngọc Lâm' 'Mộ Lao'\n",
      " 'Phú Thượng' 'Việt Hưng' 'Đông Ngạc' 'Thổ Quan' 'Lê Đại Hành'\n",
      " 'Khương Thượng' 'Phú Lãm' 'Cổ Bi' 'Biên Giang' 'Hàng Bột' 'Cổ Nhuế 2'\n",
      " 'Giảng Võ' 'Thị trấn Chúc Sơn' 'Kiêu Kỵ' 'Cát Linh' 'Quỳnh Lôi' 'Yên Sở'\n",
      " 'Đặng Xá' 'Yết Kiêu' 'Cửa Đông' 'Giang Biên' 'Chương Dương' 'Phúc La'\n",
      " 'Phúc Đồng' 'Thượng Cát' 'Phúc Xá' 'Văn Chương' 'Tứ Hiệp' 'Đông Dư'\n",
      " 'Thanh Xuân Trung' 'Phương Liên' 'Nhật Tân' 'Thị trấn Trạm Trôi'\n",
      " 'Sài Đồng' 'Tân Triều' 'Văn Miếu' 'Đông Hội' 'Phụng Châu'\n",
      " 'Thị trấn Trâu Quỳ' 'Quán Thánh' 'Phúc Lợi' 'Hữu Hoà' 'Đồng Nhân'\n",
      " 'Ngô Thì Nhậm' 'Đồng Mai' 'Đông La' 'Liên Mạc' 'Ngọc Hồi' 'Bùi Thị Xuân'\n",
      " 'Xuân Tảo' 'Yên Phụ' 'Thanh Liệt' 'Thụy Phương' 'Hàng Bông'\n",
      " 'Nghiêm Xuyên' 'Nguyễn Du' 'Tứ Liên' 'Phan Chu Trinh' 'Vĩnh Quỳnh'\n",
      " 'Cửa Nam' 'Di Trạch' 'Hàng Bồ' 'Võng La' 'Điện Biên' 'Bắc Hồng' 'Hải Bối'\n",
      " 'Đại Yên' 'Ngô Quyền' 'Trần Hưng Đạo' 'Liên Ninh' 'Hàng Bài' 'Đông Mỹ'\n",
      " 'Đức Thắng' 'Tràng Tiền' 'Hàng Bạc' 'Ngũ Hiệp' 'An Thượng' 'Hàng Đào'\n",
      " 'Yên Thường' 'Duyên Hà' 'Đồng Xuân' 'Lý Thái Tổ' 'An Khánh'\n",
      " 'Thị trấn Yên Viên' 'Hàng Buồm' 'Lại Yên' 'Bích Hòa'\n",
      " 'Thị trấn Quang Minh' 'Thị trấn Kim Bài' 'Khánh Hà' 'Tây Tựu'\n",
      " 'Thủy Xuân Tiên' 'Kim Nỗ' 'Hàng Trống' 'Tân Lập' 'Đại Thịnh' 'Hàng Mã'\n",
      " 'Bình Yên' 'Phú Cường' 'Đa Tốn' 'Minh Phú' 'Nguyễn Trung Trực'\n",
      " 'Thị trấn Quốc Oai' 'Thị trấn Thường Tín' 'Phú Thịnh' 'Đại áng'\n",
      " 'Võng Xuyên' 'Phú Mãn' 'Thị trấn Phú Xuyên' 'Hà Hồi' 'Phú Châu' 'Cổ Đông'\n",
      " 'Vân Côn' 'Xuân Giang' 'Tam Đồng' 'Dương Quang' 'Thị trấn Đông Anh'\n",
      " 'Đông Yên' 'Vân Nội' 'Tiên Dược' 'Hương Ngải' 'Ngọc Liệp' 'Nhị Khê'\n",
      " 'Thị trấn Xuân Mai' 'Bát Tràng' 'Nam Hồng' 'Thạch Hoà' 'Tam Hưng'\n",
      " 'Nguyên Khê' 'Sài Sơn' 'Ninh Hiệp' 'Uy Nỗ' 'Viên Sơn' 'Ninh Sở'\n",
      " 'Phương Trung' 'Vĩnh Ngọc' 'Đại Mạch' 'Kim Sơn' 'Phú Cát' 'Duyên Thái'\n",
      " 'Vân Hòa' 'Trung Sơn Trầm' 'Dương Xá' 'Xuân Nộn' 'Việt Hùng' 'Sơn Đông'\n",
      " 'Văn Bình' 'Hàng Gai' 'Thanh Cao' 'Mai Đình' 'Đông Xuân' 'Mai Lâm'\n",
      " 'Sơn Đồng' 'Tân Xã' 'Xuân Khanh' 'Thượng Mỗ' 'Nghĩa Hương' 'Dương Liễu'\n",
      " 'Đức Thượng' 'Kim Hoa' 'Tiền Phong' 'Bình Phú' 'Dục Tú' 'Yên Viên'\n",
      " 'Đồng Quang' 'Quang Tiến' 'Đại Thành' 'Hòa Thạch' 'Tiến Xuân' 'Phù Linh'\n",
      " 'Đỗ Động' 'Phú Minh' 'Tiên Dương' 'Hợp Thanh' 'Minh Trí' 'Tân Hội'\n",
      " 'Thanh Xuân' 'Song Phương' 'Lê Lợi' 'Thị trấn Sóc Sơn'\n",
      " 'Thị trấn Liên Quan' 'Mê Linh' 'Đan Phượng' 'Vân Tảo' 'Đình Xuyên'\n",
      " 'Phù Đổng' 'Phú Sơn' 'Ngọc Tảo' 'Phương Đình']\n",
      "\n",
      "\n",
      "\n"
     ]
    }
   ],
   "source": [
    "df['Ward'] = df['Ward'].replace('Phường\\s', '', regex=True)\n",
    "df['Ward'] = df['Ward'].replace('Xã\\s', '', regex=True)\n",
    "\n",
    "# print out list of Ward types\n",
    "print(f'NUMBER OF CATEGORIES: {df.Ward.nunique()}; \\n\\nUNIQUE NAMES OF THE CATEGORIES {df.Ward.unique()}\\n\\n\\n')"
   ]
  },
  {
   "cell_type": "code",
   "execution_count": 8,
   "id": "77d5c32d",
   "metadata": {
    "pycharm": {
     "name": "#%%\n"
    }
   },
   "outputs": [
    {
     "name": "stdout",
     "output_type": "stream",
     "text": [
      "NUMBER OF CATEGORIES: 4; \n",
      "\n",
      "UNIQUE NAMES OF THE CATEGORIES ['Nhà ngõ, hẻm' 'Nhà mặt phố, mặt tiền' 'Nhà biệt thự' 'Nhà phố liền kề'\n",
      " nan]\n",
      "\n",
      "\n",
      "\n"
     ]
    }
   ],
   "source": [
    "# print out list of House_type types\n",
    "print(f'NUMBER OF CATEGORIES: {df.House_type.nunique()}; \\n\\nUNIQUE NAMES OF THE CATEGORIES {df.House_type.unique()}\\n\\n\\n')"
   ]
  },
  {
   "cell_type": "code",
   "execution_count": 9,
   "id": "5a0c6736",
   "metadata": {
    "pycharm": {
     "name": "#%%\n"
    }
   },
   "outputs": [
    {
     "name": "stdout",
     "output_type": "stream",
     "text": [
      "NUMBER OF CATEGORIES: 3; \n",
      "\n",
      "UNIQUE NAMES OF THE CATEGORIES ['Đã có sổ' nan 'Đang chờ sổ' 'Giấy tờ khác']\n",
      "\n",
      "\n",
      "\n"
     ]
    }
   ],
   "source": [
    "# print out list of Legal_documents types\n",
    "print(f'NUMBER OF CATEGORIES: {df.Legal_documents.nunique()}; \\n\\nUNIQUE NAMES OF THE CATEGORIES {df.Legal_documents.unique()}\\n\\n\\n')"
   ]
  },
  {
   "cell_type": "code",
   "execution_count": 10,
   "id": "3bd92da1",
   "metadata": {
    "pycharm": {
     "name": "#%%\n"
    }
   },
   "outputs": [
    {
     "name": "stdout",
     "output_type": "stream",
     "text": [
      "NUMBER OF CATEGORIES: 29; \n",
      "\n",
      "UNIQUE NAMES OF THE CATEGORIES ['4' nan '6' '5' '7' '2' '3' '8' '1' '9' '50' '38' '35' '10'\n",
      " 'Nhiều hơn 10' '45' '33' '42' '25' '73' '12' '65' '55' '30' '14' '40'\n",
      " '52' '54' '32' '29']\n",
      "\n",
      "\n",
      "\n"
     ]
    }
   ],
   "source": [
    "# print out list of No_floor types\n",
    "print(f'NUMBER OF CATEGORIES: {df.No_floor.nunique()}; \\n\\nUNIQUE NAMES OF THE CATEGORIES {df.No_floor.unique()}\\n\\n\\n')"
   ]
  },
  {
   "cell_type": "code",
   "execution_count": 11,
   "id": "fb5b3dce",
   "metadata": {
    "pycharm": {
     "name": "#%%\n"
    }
   },
   "outputs": [
    {
     "name": "stdout",
     "output_type": "stream",
     "text": [
      "NUMBER OF CATEGORIES: 11; \n",
      "\n",
      "UNIQUE NAMES OF THE CATEGORIES ['5' '3' '4' '6' 'nhiều hơn 10' '8' '2' '7' '9' '1' '10' nan]\n",
      "\n",
      "\n",
      "\n"
     ]
    }
   ],
   "source": [
    "df['No_bedroom'] = df['No_bedroom'].replace('\\sphòng', '', regex=True)\n",
    "\n",
    "# print out list of No_bedroom types\n",
    "print(f'NUMBER OF CATEGORIES: {df.No_bedroom.nunique()}; \\n\\nUNIQUE NAMES OF THE CATEGORIES {df.No_bedroom.unique()}\\n\\n\\n')"
   ]
  },
  {
   "cell_type": "markdown",
   "id": "738a6a24",
   "metadata": {},
   "source": [
    "### Translate the content"
   ]
  },
  {
   "cell_type": "code",
   "execution_count": 12,
   "id": "ec140808",
   "metadata": {
    "pycharm": {
     "name": "#%%\n"
    }
   },
   "outputs": [
    {
     "data": {
      "text/html": [
       "<div>\n",
       "<style scoped>\n",
       "    .dataframe tbody tr th:only-of-type {\n",
       "        vertical-align: middle;\n",
       "    }\n",
       "\n",
       "    .dataframe tbody tr th {\n",
       "        vertical-align: top;\n",
       "    }\n",
       "\n",
       "    .dataframe thead th {\n",
       "        text-align: right;\n",
       "    }\n",
       "</style>\n",
       "<table border=\"1\" class=\"dataframe\">\n",
       "  <thead>\n",
       "    <tr style=\"text-align: right;\">\n",
       "      <th></th>\n",
       "      <th>Address</th>\n",
       "      <th>District</th>\n",
       "      <th>Ward</th>\n",
       "      <th>House_type</th>\n",
       "      <th>Legal_documents</th>\n",
       "      <th>No_floor</th>\n",
       "      <th>No_bedroom</th>\n",
       "      <th>Area</th>\n",
       "      <th>Length</th>\n",
       "      <th>Width</th>\n",
       "      <th>Price</th>\n",
       "      <th>Day_Of_Week</th>\n",
       "      <th>Month</th>\n",
       "      <th>Year</th>\n",
       "    </tr>\n",
       "  </thead>\n",
       "  <tbody>\n",
       "    <tr>\n",
       "      <th>0</th>\n",
       "      <td>Đường Hoàng Quốc Việt, Phường Nghĩa Đô, Quận C...</td>\n",
       "      <td>Cầu Giấy</td>\n",
       "      <td>Nghĩa Đô</td>\n",
       "      <td>byroad</td>\n",
       "      <td>available</td>\n",
       "      <td>4</td>\n",
       "      <td>5</td>\n",
       "      <td>46.0</td>\n",
       "      <td>NaN</td>\n",
       "      <td>NaN</td>\n",
       "      <td>86.96</td>\n",
       "      <td>Wednesday</td>\n",
       "      <td>08</td>\n",
       "      <td>2020</td>\n",
       "    </tr>\n",
       "    <tr>\n",
       "      <th>1</th>\n",
       "      <td>Đường Kim Giang, Phường Kim Giang, Quận Thanh ...</td>\n",
       "      <td>Thanh Xuân</td>\n",
       "      <td>Kim Giang</td>\n",
       "      <td>street_house</td>\n",
       "      <td>NaN</td>\n",
       "      <td>NaN</td>\n",
       "      <td>3</td>\n",
       "      <td>37.0</td>\n",
       "      <td>NaN</td>\n",
       "      <td>NaN</td>\n",
       "      <td>116.22</td>\n",
       "      <td>Wednesday</td>\n",
       "      <td>08</td>\n",
       "      <td>2020</td>\n",
       "    </tr>\n",
       "    <tr>\n",
       "      <th>2</th>\n",
       "      <td>phố minh khai, Phường Minh Khai, Quận Hai Bà T...</td>\n",
       "      <td>Hai Bà Trưng</td>\n",
       "      <td>Minh Khai</td>\n",
       "      <td>byroad</td>\n",
       "      <td>available</td>\n",
       "      <td>4</td>\n",
       "      <td>4</td>\n",
       "      <td>40.0</td>\n",
       "      <td>10.0</td>\n",
       "      <td>4.0</td>\n",
       "      <td>65.00</td>\n",
       "      <td>Wednesday</td>\n",
       "      <td>08</td>\n",
       "      <td>2020</td>\n",
       "    </tr>\n",
       "  </tbody>\n",
       "</table>\n",
       "</div>"
      ],
      "text/plain": [
       "                                             Address      District       Ward  \\\n",
       "0  Đường Hoàng Quốc Việt, Phường Nghĩa Đô, Quận C...      Cầu Giấy   Nghĩa Đô   \n",
       "1  Đường Kim Giang, Phường Kim Giang, Quận Thanh ...    Thanh Xuân  Kim Giang   \n",
       "2  phố minh khai, Phường Minh Khai, Quận Hai Bà T...  Hai Bà Trưng  Minh Khai   \n",
       "\n",
       "     House_type Legal_documents No_floor No_bedroom  Area  Length  Width  \\\n",
       "0        byroad       available        4          5  46.0     NaN    NaN   \n",
       "1  street_house             NaN      NaN          3  37.0     NaN    NaN   \n",
       "2        byroad       available        4          4  40.0    10.0    4.0   \n",
       "\n",
       "    Price Day_Of_Week Month  Year  \n",
       "0   86.96   Wednesday    08  2020  \n",
       "1  116.22   Wednesday    08  2020  \n",
       "2   65.00   Wednesday    08  2020  "
      ]
     },
     "execution_count": 12,
     "metadata": {},
     "output_type": "execute_result"
    }
   ],
   "source": [
    "# Translate the content from Vietnamese into English\n",
    "\n",
    "df['House_type'].replace('Nhà ngõ, hẻm', 'byroad', inplace=True)\n",
    "df['House_type'].replace('Nhà mặt phố, mặt tiền', 'street_house', inplace=True)\n",
    "df['House_type'].replace('Nhà biệt thự', 'villa', inplace=True)\n",
    "df['House_type'].replace('Nhà phố liền kề', 'townhouse', inplace=True)\n",
    "\n",
    "df['Legal_documents'].replace('Đã có sổ', 'available', inplace=True)\n",
    "df['Legal_documents'].replace('Đang chờ sổ', 'waiting', inplace=True)\n",
    "df['Legal_documents'].replace('Giấy tờ khác', 'others', inplace=True)\n",
    "\n",
    "df['No_floor'].replace('Nhiều hơn 10', 'greater_than_10', inplace=True)\n",
    "\n",
    "df['No_bedroom'].replace('nhiều hơn 10', 'greater_than_10', inplace=True)\n",
    "\n",
    "df.head(3)"
   ]
  },
  {
   "cell_type": "markdown",
   "id": "c245e1d2",
   "metadata": {},
   "source": [
    "### Upper Case the content"
   ]
  },
  {
   "cell_type": "code",
   "execution_count": 13,
   "id": "a04300e8",
   "metadata": {
    "pycharm": {
     "name": "#%%\n"
    }
   },
   "outputs": [
    {
     "data": {
      "text/html": [
       "<div>\n",
       "<style scoped>\n",
       "    .dataframe tbody tr th:only-of-type {\n",
       "        vertical-align: middle;\n",
       "    }\n",
       "\n",
       "    .dataframe tbody tr th {\n",
       "        vertical-align: top;\n",
       "    }\n",
       "\n",
       "    .dataframe thead th {\n",
       "        text-align: right;\n",
       "    }\n",
       "</style>\n",
       "<table border=\"1\" class=\"dataframe\">\n",
       "  <thead>\n",
       "    <tr style=\"text-align: right;\">\n",
       "      <th></th>\n",
       "      <th>Address</th>\n",
       "      <th>District</th>\n",
       "      <th>Ward</th>\n",
       "      <th>House_type</th>\n",
       "      <th>Legal_documents</th>\n",
       "      <th>No_floor</th>\n",
       "      <th>No_bedroom</th>\n",
       "      <th>Area</th>\n",
       "      <th>Length</th>\n",
       "      <th>Width</th>\n",
       "      <th>Price</th>\n",
       "      <th>Day_Of_Week</th>\n",
       "      <th>Month</th>\n",
       "      <th>Year</th>\n",
       "    </tr>\n",
       "  </thead>\n",
       "  <tbody>\n",
       "    <tr>\n",
       "      <th>0</th>\n",
       "      <td>ĐƯỜNG HOÀNG QUỐC VIỆT, PHƯỜNG NGHĨA ĐÔ, QUẬN C...</td>\n",
       "      <td>CẦU GIẤY</td>\n",
       "      <td>NGHĨA ĐÔ</td>\n",
       "      <td>BYROAD</td>\n",
       "      <td>AVAILABLE</td>\n",
       "      <td>4</td>\n",
       "      <td>5</td>\n",
       "      <td>46.0</td>\n",
       "      <td>NaN</td>\n",
       "      <td>NaN</td>\n",
       "      <td>86.96</td>\n",
       "      <td>WEDNESDAY</td>\n",
       "      <td>08</td>\n",
       "      <td>2020</td>\n",
       "    </tr>\n",
       "    <tr>\n",
       "      <th>1</th>\n",
       "      <td>ĐƯỜNG KIM GIANG, PHƯỜNG KIM GIANG, QUẬN THANH ...</td>\n",
       "      <td>THANH XUÂN</td>\n",
       "      <td>KIM GIANG</td>\n",
       "      <td>STREET_HOUSE</td>\n",
       "      <td>NaN</td>\n",
       "      <td>NaN</td>\n",
       "      <td>3</td>\n",
       "      <td>37.0</td>\n",
       "      <td>NaN</td>\n",
       "      <td>NaN</td>\n",
       "      <td>116.22</td>\n",
       "      <td>WEDNESDAY</td>\n",
       "      <td>08</td>\n",
       "      <td>2020</td>\n",
       "    </tr>\n",
       "    <tr>\n",
       "      <th>2</th>\n",
       "      <td>PHỐ MINH KHAI, PHƯỜNG MINH KHAI, QUẬN HAI BÀ T...</td>\n",
       "      <td>HAI BÀ TRƯNG</td>\n",
       "      <td>MINH KHAI</td>\n",
       "      <td>BYROAD</td>\n",
       "      <td>AVAILABLE</td>\n",
       "      <td>4</td>\n",
       "      <td>4</td>\n",
       "      <td>40.0</td>\n",
       "      <td>10.0</td>\n",
       "      <td>4.0</td>\n",
       "      <td>65.00</td>\n",
       "      <td>WEDNESDAY</td>\n",
       "      <td>08</td>\n",
       "      <td>2020</td>\n",
       "    </tr>\n",
       "  </tbody>\n",
       "</table>\n",
       "</div>"
      ],
      "text/plain": [
       "                                             Address      District       Ward  \\\n",
       "0  ĐƯỜNG HOÀNG QUỐC VIỆT, PHƯỜNG NGHĨA ĐÔ, QUẬN C...      CẦU GIẤY   NGHĨA ĐÔ   \n",
       "1  ĐƯỜNG KIM GIANG, PHƯỜNG KIM GIANG, QUẬN THANH ...    THANH XUÂN  KIM GIANG   \n",
       "2  PHỐ MINH KHAI, PHƯỜNG MINH KHAI, QUẬN HAI BÀ T...  HAI BÀ TRƯNG  MINH KHAI   \n",
       "\n",
       "     House_type Legal_documents No_floor No_bedroom  Area  Length  Width  \\\n",
       "0        BYROAD       AVAILABLE        4          5  46.0     NaN    NaN   \n",
       "1  STREET_HOUSE             NaN      NaN          3  37.0     NaN    NaN   \n",
       "2        BYROAD       AVAILABLE        4          4  40.0    10.0    4.0   \n",
       "\n",
       "    Price Day_Of_Week Month  Year  \n",
       "0   86.96   WEDNESDAY    08  2020  \n",
       "1  116.22   WEDNESDAY    08  2020  \n",
       "2   65.00   WEDNESDAY    08  2020  "
      ]
     },
     "execution_count": 13,
     "metadata": {},
     "output_type": "execute_result"
    }
   ],
   "source": [
    "# Cast all values inside the dataframe (except the columns' name) into upper case.\n",
    "df = df.applymap(lambda s: s.upper() if type(s) == str else s)\n",
    "df.head(3)"
   ]
  },
  {
   "cell_type": "markdown",
   "id": "ee14cc8c",
   "metadata": {},
   "source": [
    "## Missing values\n",
    "Missing values can cause a lot of unexpected problems such as not reducing the power of a model, but also the negatively affect the performance of the studies and analysis of that data. Hence, it is important to deal with missing data. First step is to check the number of missing values of each column and fill in with the appropriate values. "
   ]
  },
  {
   "cell_type": "code",
   "execution_count": 14,
   "id": "b1a0c29f",
   "metadata": {
    "pycharm": {
     "name": "#%%\n"
    }
   },
   "outputs": [
    {
     "name": "stdout",
     "output_type": "stream",
     "text": [
      "Missing values in the dataframe in descending: \n",
      "                  Total  Percent\n",
      "Length           62670    75.97\n",
      "Width            47052    57.03\n",
      "No_floor         46098    55.88\n",
      "Legal_documents  28887    35.02\n",
      "Price              871     1.06\n",
      "Ward                48     0.06\n",
      "Address             48     0.06\n",
      "No_bedroom          39     0.05\n",
      "House_type          32     0.04\n",
      "Area                 2      NaN\n",
      "District             2      NaN\n",
      "Day_Of_Week          1      NaN\n"
     ]
    },
    {
     "data": {
      "image/png": "[encoded data removed]",
      "text/plain": [
       "<Figure size 1800x720 with 2 Axes>"
      ]
     },
     "metadata": {
      "needs_background": "light"
     },
     "output_type": "display_data"
    }
   ],
   "source": [
    "def missing_percentage(df):\n",
    "    \"\"\"This function takes a DataFrame(df) as input and returns two columns, total missing values and total missing values percentage\"\"\"\n",
    "    total = df.isnull().sum().sort_values(ascending=False)[df.isnull().sum().sort_values(ascending=False) != 0]\n",
    "    percent = round(df.isnull().sum().sort_values(ascending=False) / len(df) * 100, 2)[\n",
    "        round(df.isnull().sum().sort_values(ascending=False) / len(df) * 100, 2) != 0]\n",
    "    return pd.concat([total, percent], axis=1, keys=['Total', 'Percent'])\n",
    "\n",
    "# display missing values in descending\n",
    "print(\"Missing values in the dataframe in descending: \\n\", missing_percentage(df).sort_values(by='Total', ascending=False))\n",
    "\n",
    "# visualize where the missing values are located\n",
    "msno.matrix(df, color=(255 / 255, 192 / 255, 203 / 255))\n",
    "pink_patch = mpatches.Patch(color='pink', label='present value')\n",
    "white_patch = mpatches.Patch(color='white', label='absent value')\n",
    "plt.legend(handles=[pink_patch, white_patch])\n",
    "plt.show()"
   ]
  },
  {
   "cell_type": "markdown",
   "id": "00dd82f0",
   "metadata": {},
   "source": [
    "### ------> OBSERVATION\n",
    "\n",
    "<hr>\n",
    "\n",
    "+ Only a few missing values of the dataframes suggests that it MIGHT be missing completely at random due to a small number of missing values.\n",
    "\n",
    "District             2      NaN\n",
    "Area                 2      NaN\n",
    "Date                 1      NaN\n",
    "day_of_week          1      NaN\n",
    "\n",
    "\n",
    "#### I'm going to delete any missing column that IS COMPLETELY AT RANDOM (MCAR) AND has small number of missing values.\n",
    "#### From the graph, I can see a strong correlation the strong correlation between `Legal_documents`, `No_floor`, `Length` and `Width`.\n",
    "\n",
    "\n",
    "<hr>"
   ]
  },
  {
   "cell_type": "code",
   "execution_count": 15,
   "id": "6f1755a2",
   "metadata": {
    "pycharm": {
     "name": "#%%\n"
    }
   },
   "outputs": [],
   "source": [
    "# Pairwise delete the rows\n",
    "df.dropna(subset=['District', 'Area', 'Day_Of_Week', 'Month', 'Year'], how='any', inplace=True)"
   ]
  },
  {
   "cell_type": "markdown",
   "id": "daa13885",
   "metadata": {},
   "source": [
    "<br><br>\n",
    "<a id=\"2.2\"></a>\n",
    "# Task 2.2: Check data types & Make the data homogeneous\n",
    "The dtypes that pandas uses are: `float`, `int`, `bool`, `datetime`, `timedelta`, `category` and `object`. I modify data types in my DataFrames to help me transform them into more meaningful metrics\n",
    "\n",
    "+ Cast pandas objects to a specified dtype (string)¶\n",
    "+ Numeric data should have for example the same number of digits after the point."
   ]
  },
  {
   "cell_type": "code",
   "execution_count": 16,
   "id": "14e81407",
   "metadata": {
    "pycharm": {
     "name": "#%%\n"
    }
   },
   "outputs": [
    {
     "name": "stdout",
     "output_type": "stream",
     "text": [
      "The shape of the data BEFORE CONVERT is (row, column): (82494, 14)\n",
      "The data types BEFORE CONVERT are: Address             object\n",
      "District            object\n",
      "Ward                object\n",
      "House_type          object\n",
      "Legal_documents     object\n",
      "No_floor            object\n",
      "No_bedroom          object\n",
      "Area               float64\n",
      "Length             float64\n",
      "Width              float64\n",
      "Price              float64\n",
      "Day_Of_Week         object\n",
      "Month               object\n",
      "Year                object\n",
      "dtype: object \n",
      "\n",
      "\n",
      "The shape of the data AFTER CONVERT is (row, column): (82494, 14)\n",
      "The data types AFTER CONVERT are: Address             string\n",
      "District            string\n",
      "Ward                string\n",
      "House_type          string\n",
      "Legal_documents     string\n",
      "No_floor            string\n",
      "No_bedroom          string\n",
      "Area               float64\n",
      "Length             float64\n",
      "Width              float64\n",
      "Price              float64\n",
      "Day_Of_Week         string\n",
      "Month                int32\n",
      "Year                 int32\n",
      "dtype: object \n",
      "\n",
      "\n"
     ]
    }
   ],
   "source": [
    "print(\"The shape of the data BEFORE CONVERT is (row, column):\", str(df.shape))\n",
    "print(\"The data types BEFORE CONVERT are:\", df.dtypes, \"\\n\\n\")\n",
    "\n",
    "# convert columns to the best possible dtypes, object->string\n",
    "df = df.convert_dtypes()\n",
    "df[['Month', 'Year']] = df[['Month', 'Year']].astype('int32', errors='ignore')\n",
    "\n",
    "\n",
    "print(\"The shape of the data AFTER CONVERT is (row, column):\", str(df.shape))\n",
    "print(\"The data types AFTER CONVERT are:\", df.dtypes, \"\\n\\n\")"
   ]
  },
  {
   "cell_type": "code",
   "execution_count": 17,
   "id": "75e42336",
   "metadata": {
    "pycharm": {
     "name": "#%%\n"
    }
   },
   "outputs": [
    {
     "name": "stdout",
     "output_type": "stream",
     "text": [
      "The dataframe BEFORE dropped has 82494 rows and 14 columns\n",
      "The dataframe AFTER dropped has 82494 rows and 14 columns\n",
      "Missing values in the dataframe in descending: \n",
      "                  Total  Percent\n",
      "Length           62668    75.97\n",
      "Width            47051    57.04\n",
      "No_floor         46096    55.88\n",
      "Legal_documents  28886    35.02\n",
      "Price              869     1.05\n",
      "Address             47     0.06\n",
      "Ward                46     0.06\n",
      "No_bedroom          38     0.05\n",
      "House_type          31     0.04\n"
     ]
    }
   ],
   "source": [
    "print(\"The dataframe BEFORE dropped has {} rows and {} columns\".format(df.shape[0], df.shape[1]))\n",
    "\n",
    "# If all values are NA, drop that row or column.\n",
    "df.dropna(how='all', inplace=True)\n",
    "\n",
    "# display missing values in descending\n",
    "print(\"The dataframe AFTER dropped has {} rows and {} columns\".format(df.shape[0], df.shape[1]))\n",
    "print(\"Missing values in the dataframe in descending: \\n\", missing_percentage(df).sort_values(by='Total', ascending=False))"
   ]
  },
  {
   "cell_type": "code",
   "execution_count": 18,
   "id": "fa56fb73",
   "metadata": {
    "pycharm": {
     "name": "#%%\n"
    }
   },
   "outputs": [
    {
     "data": {
      "text/plain": [
       "TUESDAY      14310\n",
       "MONDAY       13888\n",
       "WEDNESDAY    12459\n",
       "THURSDAY     12425\n",
       "FRIDAY       12170\n",
       "SATURDAY     10669\n",
       "SUNDAY        6573\n",
       "Name: Day_Of_Week, dtype: Int64"
      ]
     },
     "execution_count": 18,
     "metadata": {},
     "output_type": "execute_result"
    }
   ],
   "source": [
    "df['Day_Of_Week'].value_counts(dropna=False)"
   ]
  },
  {
   "cell_type": "code",
   "execution_count": 19,
   "id": "37e6c2ff",
   "metadata": {
    "pycharm": {
     "name": "#%%\n"
    }
   },
   "outputs": [
    {
     "data": {
      "text/plain": [
       "7     44807\n",
       "6     29791\n",
       "8      7542\n",
       "5       196\n",
       "4        59\n",
       "3        51\n",
       "2        36\n",
       "10        6\n",
       "12        3\n",
       "11        2\n",
       "9         1\n",
       "Name: Month, dtype: int64"
      ]
     },
     "execution_count": 19,
     "metadata": {},
     "output_type": "execute_result"
    }
   ],
   "source": [
    "df['Month'].value_counts(dropna=False)"
   ]
  },
  {
   "cell_type": "code",
   "execution_count": 20,
   "id": "1289970d",
   "metadata": {
    "pycharm": {
     "name": "#%%\n"
    }
   },
   "outputs": [
    {
     "data": {
      "text/plain": [
       "2020    82476\n",
       "2019       18\n",
       "Name: Year, dtype: int64"
      ]
     },
     "execution_count": 20,
     "metadata": {},
     "output_type": "execute_result"
    }
   ],
   "source": [
    "df['Year'].value_counts(dropna=False)"
   ]
  },
  {
   "cell_type": "code",
   "execution_count": 21,
   "id": "84c52b0d",
   "metadata": {
    "pycharm": {
     "name": "#%%\n"
    }
   },
   "outputs": [
    {
     "data": {
      "text/plain": [
       "AVAILABLE    52912\n",
       "NaN          28886\n",
       "WAITING        356\n",
       "OTHERS         340\n",
       "Name: Legal_documents, dtype: Int64"
      ]
     },
     "execution_count": 21,
     "metadata": {},
     "output_type": "execute_result"
    }
   ],
   "source": [
    "df['Legal_documents'].value_counts(dropna=False)"
   ]
  },
  {
   "cell_type": "code",
   "execution_count": 22,
   "id": "871daf43",
   "metadata": {
    "pycharm": {
     "name": "#%%\n"
    }
   },
   "outputs": [],
   "source": [
    "df['Legal_documents'].fillna(\"OTHERS\", inplace=True)"
   ]
  },
  {
   "cell_type": "code",
   "execution_count": 23,
   "id": "e06d04b2",
   "metadata": {
    "pycharm": {
     "name": "#%%\n"
    }
   },
   "outputs": [],
   "source": [
    "df['House_type'].value_counts(dropna=False)\n",
    "df['House_type'].fillna(\"BYROAD\", inplace=True)"
   ]
  },
  {
   "cell_type": "code",
   "execution_count": 24,
   "id": "d8e578a8",
   "metadata": {
    "pycharm": {
     "name": "#%%\n"
    }
   },
   "outputs": [
    {
     "data": {
      "text/html": [
       "<div>\n",
       "<style scoped>\n",
       "    .dataframe tbody tr th:only-of-type {\n",
       "        vertical-align: middle;\n",
       "    }\n",
       "\n",
       "    .dataframe tbody tr th {\n",
       "        vertical-align: top;\n",
       "    }\n",
       "\n",
       "    .dataframe thead th {\n",
       "        text-align: right;\n",
       "    }\n",
       "</style>\n",
       "<table border=\"1\" class=\"dataframe\">\n",
       "  <thead>\n",
       "    <tr style=\"text-align: right;\">\n",
       "      <th></th>\n",
       "      <th>Address</th>\n",
       "      <th>Ward</th>\n",
       "      <th>District</th>\n",
       "    </tr>\n",
       "  </thead>\n",
       "  <tbody>\n",
       "  </tbody>\n",
       "</table>\n",
       "</div>"
      ],
      "text/plain": [
       "Empty DataFrame\n",
       "Columns: [Address, Ward, District]\n",
       "Index: []"
      ]
     },
     "execution_count": 24,
     "metadata": {},
     "output_type": "execute_result"
    }
   ],
   "source": [
    "df[['Address', 'Ward', 'District']][df['District'].isna()]"
   ]
  },
  {
   "cell_type": "code",
   "execution_count": 25,
   "id": "fda5cb54",
   "metadata": {
    "pycharm": {
     "name": "#%%\n"
    }
   },
   "outputs": [
    {
     "data": {
      "text/html": [
       "<div>\n",
       "<style scoped>\n",
       "    .dataframe tbody tr th:only-of-type {\n",
       "        vertical-align: middle;\n",
       "    }\n",
       "\n",
       "    .dataframe tbody tr th {\n",
       "        vertical-align: top;\n",
       "    }\n",
       "\n",
       "    .dataframe thead th {\n",
       "        text-align: right;\n",
       "    }\n",
       "</style>\n",
       "<table border=\"1\" class=\"dataframe\">\n",
       "  <thead>\n",
       "    <tr style=\"text-align: right;\">\n",
       "      <th></th>\n",
       "      <th>Address</th>\n",
       "      <th>Ward</th>\n",
       "      <th>District</th>\n",
       "    </tr>\n",
       "  </thead>\n",
       "  <tbody>\n",
       "    <tr>\n",
       "      <th>174</th>\n",
       "      <td>&lt;NA&gt;</td>\n",
       "      <td>&lt;NA&gt;</td>\n",
       "      <td>NAM TỪ LIÊM</td>\n",
       "    </tr>\n",
       "    <tr>\n",
       "      <th>324</th>\n",
       "      <td>ĐƯỜNG AN DƯƠNG VƯƠNG, QUẬN TÂY HỒ, HÀ NỘI</td>\n",
       "      <td>&lt;NA&gt;</td>\n",
       "      <td>TÂY HỒ</td>\n",
       "    </tr>\n",
       "    <tr>\n",
       "      <th>741</th>\n",
       "      <td>CẦU KHÊ TANG, QUẬN HÀ ĐÔNG, HÀ NỘI</td>\n",
       "      <td>&lt;NA&gt;</td>\n",
       "      <td>HÀ ĐÔNG</td>\n",
       "    </tr>\n",
       "    <tr>\n",
       "      <th>4558</th>\n",
       "      <td>&lt;NA&gt;</td>\n",
       "      <td>&lt;NA&gt;</td>\n",
       "      <td>HUYỆN HOÀI ĐỨC</td>\n",
       "    </tr>\n",
       "    <tr>\n",
       "      <th>5282</th>\n",
       "      <td>&lt;NA&gt;</td>\n",
       "      <td>&lt;NA&gt;</td>\n",
       "      <td>LONG BIÊN</td>\n",
       "    </tr>\n",
       "    <tr>\n",
       "      <th>5295</th>\n",
       "      <td>&lt;NA&gt;</td>\n",
       "      <td>&lt;NA&gt;</td>\n",
       "      <td>LONG BIÊN</td>\n",
       "    </tr>\n",
       "    <tr>\n",
       "      <th>7169</th>\n",
       "      <td>&lt;NA&gt;</td>\n",
       "      <td>&lt;NA&gt;</td>\n",
       "      <td>HUYỆN THANH TRÌ</td>\n",
       "    </tr>\n",
       "    <tr>\n",
       "      <th>8584</th>\n",
       "      <td>&lt;NA&gt;</td>\n",
       "      <td>&lt;NA&gt;</td>\n",
       "      <td>THANH XUÂN</td>\n",
       "    </tr>\n",
       "    <tr>\n",
       "      <th>12595</th>\n",
       "      <td>&lt;NA&gt;</td>\n",
       "      <td>&lt;NA&gt;</td>\n",
       "      <td>HÀ ĐÔNG</td>\n",
       "    </tr>\n",
       "    <tr>\n",
       "      <th>14548</th>\n",
       "      <td>&lt;NA&gt;</td>\n",
       "      <td>&lt;NA&gt;</td>\n",
       "      <td>HÀ ĐÔNG</td>\n",
       "    </tr>\n",
       "    <tr>\n",
       "      <th>15055</th>\n",
       "      <td>&lt;NA&gt;</td>\n",
       "      <td>&lt;NA&gt;</td>\n",
       "      <td>HOÀNG MAI</td>\n",
       "    </tr>\n",
       "    <tr>\n",
       "      <th>21214</th>\n",
       "      <td>&lt;NA&gt;</td>\n",
       "      <td>&lt;NA&gt;</td>\n",
       "      <td>BẮC TỪ LIÊM</td>\n",
       "    </tr>\n",
       "    <tr>\n",
       "      <th>23168</th>\n",
       "      <td>&lt;NA&gt;</td>\n",
       "      <td>&lt;NA&gt;</td>\n",
       "      <td>HOÀNG MAI</td>\n",
       "    </tr>\n",
       "    <tr>\n",
       "      <th>27282</th>\n",
       "      <td>&lt;NA&gt;</td>\n",
       "      <td>&lt;NA&gt;</td>\n",
       "      <td>HOÀNG MAI</td>\n",
       "    </tr>\n",
       "    <tr>\n",
       "      <th>27349</th>\n",
       "      <td>&lt;NA&gt;</td>\n",
       "      <td>&lt;NA&gt;</td>\n",
       "      <td>HUYỆN ĐÔNG ANH</td>\n",
       "    </tr>\n",
       "    <tr>\n",
       "      <th>29300</th>\n",
       "      <td>ĐƯỜNG CẦU GIẤY, QUẬN CẦU GIẤY, HÀ NỘI</td>\n",
       "      <td>&lt;NA&gt;</td>\n",
       "      <td>CẦU GIẤY</td>\n",
       "    </tr>\n",
       "    <tr>\n",
       "      <th>32881</th>\n",
       "      <td>&lt;NA&gt;</td>\n",
       "      <td>&lt;NA&gt;</td>\n",
       "      <td>BA ĐÌNH</td>\n",
       "    </tr>\n",
       "    <tr>\n",
       "      <th>35553</th>\n",
       "      <td>ĐƯỜNG THỊNH HÀO 3, QUẬN ĐỐNG ĐA, HÀ NỘI</td>\n",
       "      <td>&lt;NA&gt;</td>\n",
       "      <td>ĐỐNG ĐA</td>\n",
       "    </tr>\n",
       "    <tr>\n",
       "      <th>40593</th>\n",
       "      <td>&lt;NA&gt;</td>\n",
       "      <td>&lt;NA&gt;</td>\n",
       "      <td>BẮC TỪ LIÊM</td>\n",
       "    </tr>\n",
       "    <tr>\n",
       "      <th>40906</th>\n",
       "      <td>ĐƯỜNG KIM GIANG, QUẬN THANH XUÂN, HÀ NỘI</td>\n",
       "      <td>&lt;NA&gt;</td>\n",
       "      <td>THANH XUÂN</td>\n",
       "    </tr>\n",
       "    <tr>\n",
       "      <th>41192</th>\n",
       "      <td>&lt;NA&gt;</td>\n",
       "      <td>&lt;NA&gt;</td>\n",
       "      <td>CẦU GIẤY</td>\n",
       "    </tr>\n",
       "    <tr>\n",
       "      <th>44262</th>\n",
       "      <td>&lt;NA&gt;</td>\n",
       "      <td>&lt;NA&gt;</td>\n",
       "      <td>LONG BIÊN</td>\n",
       "    </tr>\n",
       "    <tr>\n",
       "      <th>46176</th>\n",
       "      <td>ĐƯỜNG CẦU GIẤY, QUẬN CẦU GIẤY, HÀ NỘI</td>\n",
       "      <td>&lt;NA&gt;</td>\n",
       "      <td>CẦU GIẤY</td>\n",
       "    </tr>\n",
       "    <tr>\n",
       "      <th>46765</th>\n",
       "      <td>&lt;NA&gt;</td>\n",
       "      <td>&lt;NA&gt;</td>\n",
       "      <td>HÀ ĐÔNG</td>\n",
       "    </tr>\n",
       "    <tr>\n",
       "      <th>49338</th>\n",
       "      <td>&lt;NA&gt;</td>\n",
       "      <td>&lt;NA&gt;</td>\n",
       "      <td>HOÀNG MAI</td>\n",
       "    </tr>\n",
       "    <tr>\n",
       "      <th>52185</th>\n",
       "      <td>TRUNG KÍNH - CẦU GIẤY, QUẬN CẦU GIẤY, HÀ NỘI</td>\n",
       "      <td>&lt;NA&gt;</td>\n",
       "      <td>CẦU GIẤY</td>\n",
       "    </tr>\n",
       "    <tr>\n",
       "      <th>54426</th>\n",
       "      <td>ĐƯỜNG TRẦN DUY HƯNG, QUẬN CẦU GIẤY, HÀ NỘI</td>\n",
       "      <td>&lt;NA&gt;</td>\n",
       "      <td>CẦU GIẤY</td>\n",
       "    </tr>\n",
       "    <tr>\n",
       "      <th>54859</th>\n",
       "      <td>&lt;NA&gt;</td>\n",
       "      <td>&lt;NA&gt;</td>\n",
       "      <td>HÀ ĐÔNG</td>\n",
       "    </tr>\n",
       "    <tr>\n",
       "      <th>55087</th>\n",
       "      <td>&lt;NA&gt;</td>\n",
       "      <td>&lt;NA&gt;</td>\n",
       "      <td>LONG BIÊN</td>\n",
       "    </tr>\n",
       "    <tr>\n",
       "      <th>58641</th>\n",
       "      <td>ĐƯỜNG BÙI XƯƠNG TRẠCH, QUẬN THANH XUÂN, HÀ NỘI</td>\n",
       "      <td>&lt;NA&gt;</td>\n",
       "      <td>THANH XUÂN</td>\n",
       "    </tr>\n",
       "    <tr>\n",
       "      <th>61781</th>\n",
       "      <td>ĐƯỜNG TÔN THẤT TÙNG, QUẬN ĐỐNG ĐA, HÀ NỘI</td>\n",
       "      <td>&lt;NA&gt;</td>\n",
       "      <td>ĐỐNG ĐA</td>\n",
       "    </tr>\n",
       "    <tr>\n",
       "      <th>62059</th>\n",
       "      <td>ĐƯỜNG HỒ TÙNG MẬU||821, QUẬN CẦU GIẤY, HÀ NỘI</td>\n",
       "      <td>&lt;NA&gt;</td>\n",
       "      <td>CẦU GIẤY</td>\n",
       "    </tr>\n",
       "    <tr>\n",
       "      <th>65314</th>\n",
       "      <td>&lt;NA&gt;</td>\n",
       "      <td>&lt;NA&gt;</td>\n",
       "      <td>HÀ ĐÔNG</td>\n",
       "    </tr>\n",
       "    <tr>\n",
       "      <th>69475</th>\n",
       "      <td>ĐƯỜNG HÀO NAM, QUẬN ĐỐNG ĐA, HÀ NỘI</td>\n",
       "      <td>&lt;NA&gt;</td>\n",
       "      <td>ĐỐNG ĐA</td>\n",
       "    </tr>\n",
       "    <tr>\n",
       "      <th>70520</th>\n",
       "      <td>ĐƯỜNG NGỌC LÂM, QUẬN BA ĐÌNH, HÀ NỘI</td>\n",
       "      <td>&lt;NA&gt;</td>\n",
       "      <td>BA ĐÌNH</td>\n",
       "    </tr>\n",
       "    <tr>\n",
       "      <th>72253</th>\n",
       "      <td>&lt;NA&gt;</td>\n",
       "      <td>&lt;NA&gt;</td>\n",
       "      <td>NAM TỪ LIÊM</td>\n",
       "    </tr>\n",
       "    <tr>\n",
       "      <th>72730</th>\n",
       "      <td>665, ĐƯỜNG TÂN MAI, QUẬN HOÀNG MAI, HÀ NỘI</td>\n",
       "      <td>&lt;NA&gt;</td>\n",
       "      <td>HOÀNG MAI</td>\n",
       "    </tr>\n",
       "    <tr>\n",
       "      <th>73921</th>\n",
       "      <td>ĐƯỜNG LẠC LONG QUÂN, QUẬN TÂY HỒ, HÀ NỘI</td>\n",
       "      <td>&lt;NA&gt;</td>\n",
       "      <td>TÂY HỒ</td>\n",
       "    </tr>\n",
       "    <tr>\n",
       "      <th>75816</th>\n",
       "      <td>HÀ ĐÔNG , HÀ NỘI, QUẬN HÀ ĐÔNG, HÀ NỘI</td>\n",
       "      <td>&lt;NA&gt;</td>\n",
       "      <td>HÀ ĐÔNG</td>\n",
       "    </tr>\n",
       "    <tr>\n",
       "      <th>75821</th>\n",
       "      <td>&lt;NA&gt;</td>\n",
       "      <td>&lt;NA&gt;</td>\n",
       "      <td>BA ĐÌNH</td>\n",
       "    </tr>\n",
       "    <tr>\n",
       "      <th>76668</th>\n",
       "      <td>&lt;NA&gt;</td>\n",
       "      <td>&lt;NA&gt;</td>\n",
       "      <td>BA ĐÌNH</td>\n",
       "    </tr>\n",
       "    <tr>\n",
       "      <th>78779</th>\n",
       "      <td>ĐƯỜNG HOÀNG MAI, QUẬN HOÀNG MAI, HÀ NỘI</td>\n",
       "      <td>&lt;NA&gt;</td>\n",
       "      <td>HOÀNG MAI</td>\n",
       "    </tr>\n",
       "    <tr>\n",
       "      <th>79359</th>\n",
       "      <td>TRẦN DUY HƯNG - CẦU GIẤY, QUẬN CẦU GIẤY, HÀ NỘI</td>\n",
       "      <td>&lt;NA&gt;</td>\n",
       "      <td>CẦU GIẤY</td>\n",
       "    </tr>\n",
       "    <tr>\n",
       "      <th>79996</th>\n",
       "      <td>ĐƯỜNG HOÀNG VĂN THÁI, QUẬN THANH XUÂN, HÀ NỘI</td>\n",
       "      <td>&lt;NA&gt;</td>\n",
       "      <td>THANH XUÂN</td>\n",
       "    </tr>\n",
       "    <tr>\n",
       "      <th>80917</th>\n",
       "      <td>&lt;NA&gt;</td>\n",
       "      <td>&lt;NA&gt;</td>\n",
       "      <td>HOÀNG MAI</td>\n",
       "    </tr>\n",
       "    <tr>\n",
       "      <th>81032</th>\n",
       "      <td>ĐƯỜNG CHỢ KHÂM THIÊN, QUẬN ĐỐNG ĐA, HÀ NỘI</td>\n",
       "      <td>&lt;NA&gt;</td>\n",
       "      <td>ĐỐNG ĐA</td>\n",
       "    </tr>\n",
       "  </tbody>\n",
       "</table>\n",
       "</div>"
      ],
      "text/plain": [
       "                                               Address  Ward         District\n",
       "174                                               <NA>  <NA>      NAM TỪ LIÊM\n",
       "324          ĐƯỜNG AN DƯƠNG VƯƠNG, QUẬN TÂY HỒ, HÀ NỘI  <NA>           TÂY HỒ\n",
       "741                 CẦU KHÊ TANG, QUẬN HÀ ĐÔNG, HÀ NỘI  <NA>          HÀ ĐÔNG\n",
       "4558                                              <NA>  <NA>   HUYỆN HOÀI ĐỨC\n",
       "5282                                              <NA>  <NA>        LONG BIÊN\n",
       "5295                                              <NA>  <NA>        LONG BIÊN\n",
       "7169                                              <NA>  <NA>  HUYỆN THANH TRÌ\n",
       "8584                                              <NA>  <NA>       THANH XUÂN\n",
       "12595                                             <NA>  <NA>          HÀ ĐÔNG\n",
       "14548                                             <NA>  <NA>          HÀ ĐÔNG\n",
       "15055                                             <NA>  <NA>        HOÀNG MAI\n",
       "21214                                             <NA>  <NA>      BẮC TỪ LIÊM\n",
       "23168                                             <NA>  <NA>        HOÀNG MAI\n",
       "27282                                             <NA>  <NA>        HOÀNG MAI\n",
       "27349                                             <NA>  <NA>   HUYỆN ĐÔNG ANH\n",
       "29300            ĐƯỜNG CẦU GIẤY, QUẬN CẦU GIẤY, HÀ NỘI  <NA>         CẦU GIẤY\n",
       "32881                                             <NA>  <NA>          BA ĐÌNH\n",
       "35553          ĐƯỜNG THỊNH HÀO 3, QUẬN ĐỐNG ĐA, HÀ NỘI  <NA>          ĐỐNG ĐA\n",
       "40593                                             <NA>  <NA>      BẮC TỪ LIÊM\n",
       "40906         ĐƯỜNG KIM GIANG, QUẬN THANH XUÂN, HÀ NỘI  <NA>       THANH XUÂN\n",
       "41192                                             <NA>  <NA>         CẦU GIẤY\n",
       "44262                                             <NA>  <NA>        LONG BIÊN\n",
       "46176            ĐƯỜNG CẦU GIẤY, QUẬN CẦU GIẤY, HÀ NỘI  <NA>         CẦU GIẤY\n",
       "46765                                             <NA>  <NA>          HÀ ĐÔNG\n",
       "49338                                             <NA>  <NA>        HOÀNG MAI\n",
       "52185     TRUNG KÍNH - CẦU GIẤY, QUẬN CẦU GIẤY, HÀ NỘI  <NA>         CẦU GIẤY\n",
       "54426       ĐƯỜNG TRẦN DUY HƯNG, QUẬN CẦU GIẤY, HÀ NỘI  <NA>         CẦU GIẤY\n",
       "54859                                             <NA>  <NA>          HÀ ĐÔNG\n",
       "55087                                             <NA>  <NA>        LONG BIÊN\n",
       "58641   ĐƯỜNG BÙI XƯƠNG TRẠCH, QUẬN THANH XUÂN, HÀ NỘI  <NA>       THANH XUÂN\n",
       "61781        ĐƯỜNG TÔN THẤT TÙNG, QUẬN ĐỐNG ĐA, HÀ NỘI  <NA>          ĐỐNG ĐA\n",
       "62059    ĐƯỜNG HỒ TÙNG MẬU||821, QUẬN CẦU GIẤY, HÀ NỘI  <NA>         CẦU GIẤY\n",
       "65314                                             <NA>  <NA>          HÀ ĐÔNG\n",
       "69475              ĐƯỜNG HÀO NAM, QUẬN ĐỐNG ĐA, HÀ NỘI  <NA>          ĐỐNG ĐA\n",
       "70520             ĐƯỜNG NGỌC LÂM, QUẬN BA ĐÌNH, HÀ NỘI  <NA>          BA ĐÌNH\n",
       "72253                                             <NA>  <NA>      NAM TỪ LIÊM\n",
       "72730       665, ĐƯỜNG TÂN MAI, QUẬN HOÀNG MAI, HÀ NỘI  <NA>        HOÀNG MAI\n",
       "73921         ĐƯỜNG LẠC LONG QUÂN, QUẬN TÂY HỒ, HÀ NỘI  <NA>           TÂY HỒ\n",
       "75816           HÀ ĐÔNG , HÀ NỘI, QUẬN HÀ ĐÔNG, HÀ NỘI  <NA>          HÀ ĐÔNG\n",
       "75821                                             <NA>  <NA>          BA ĐÌNH\n",
       "76668                                             <NA>  <NA>          BA ĐÌNH\n",
       "78779          ĐƯỜNG HOÀNG MAI, QUẬN HOÀNG MAI, HÀ NỘI  <NA>        HOÀNG MAI\n",
       "79359  TRẦN DUY HƯNG - CẦU GIẤY, QUẬN CẦU GIẤY, HÀ NỘI  <NA>         CẦU GIẤY\n",
       "79996    ĐƯỜNG HOÀNG VĂN THÁI, QUẬN THANH XUÂN, HÀ NỘI  <NA>       THANH XUÂN\n",
       "80917                                             <NA>  <NA>        HOÀNG MAI\n",
       "81032       ĐƯỜNG CHỢ KHÂM THIÊN, QUẬN ĐỐNG ĐA, HÀ NỘI  <NA>          ĐỐNG ĐA"
      ]
     },
     "execution_count": 25,
     "metadata": {},
     "output_type": "execute_result"
    }
   ],
   "source": [
    "df[['Address', 'Ward', 'District']][df['Ward'].isna()]"
   ]
  },
  {
   "cell_type": "markdown",
   "id": "44ffb9e3",
   "metadata": {},
   "source": [
    "As you can see the address is not specific location. Hence, there is no specific ward because a street can have multiple ward. Thus, we should only fill the missing value with None."
   ]
  },
  {
   "cell_type": "code",
   "execution_count": 26,
   "id": "c6773aa5",
   "metadata": {
    "pycharm": {
     "name": "#%%\n"
    }
   },
   "outputs": [
    {
     "data": {
      "text/plain": [
       "NaN                46096\n",
       "5                  15769\n",
       "4                  12278\n",
       "3                   3619\n",
       "6                   2119\n",
       "2                   1028\n",
       "1                    636\n",
       "7                    597\n",
       "8                    188\n",
       "9                     88\n",
       "10                    36\n",
       "45                     8\n",
       "GREATER_THAN_10        7\n",
       "35                     6\n",
       "12                     2\n",
       "38                     2\n",
       "50                     2\n",
       "42                     1\n",
       "40                     1\n",
       "30                     1\n",
       "32                     1\n",
       "55                     1\n",
       "25                     1\n",
       "14                     1\n",
       "73                     1\n",
       "65                     1\n",
       "29                     1\n",
       "54                     1\n",
       "33                     1\n",
       "52                     1\n",
       "Name: No_floor, dtype: Int64"
      ]
     },
     "execution_count": 26,
     "metadata": {},
     "output_type": "execute_result"
    }
   ],
   "source": [
    "df['Ward'].fillna(\"None\", inplace=True)\n",
    "df['Address'].fillna(\"None\", inplace=True)\n",
    "df['No_floor'].value_counts(dropna=False)"
   ]
  },
  {
   "cell_type": "code",
   "execution_count": 27,
   "id": "f77505ea",
   "metadata": {
    "pycharm": {
     "name": "#%%\n"
    }
   },
   "outputs": [],
   "source": [
    "mode = df['No_floor'].mode()[0]\n",
    "df['No_floor'].fillna(mode, inplace=True)"
   ]
  },
  {
   "cell_type": "code",
   "execution_count": 28,
   "id": "0542ead9",
   "metadata": {
    "pycharm": {
     "name": "#%%\n"
    }
   },
   "outputs": [
    {
     "data": {
      "text/plain": [
       "5                  61865\n",
       "4                  12278\n",
       "3                   3619\n",
       "6                   2119\n",
       "2                   1028\n",
       "1                    636\n",
       "7                    597\n",
       "8                    188\n",
       "9                     88\n",
       "GREATER_THAN_10       40\n",
       "10                    36\n",
       "Name: No_floor, dtype: int64"
      ]
     },
     "execution_count": 28,
     "metadata": {},
     "output_type": "execute_result"
    }
   ],
   "source": [
    "# define a function to feed into the lambda\n",
    "def No_floor_count(value):\n",
    "    if value == '1' or value == '2' or value == '3' \\\n",
    "            or value == '4' or value == '5' or value == '6' \\\n",
    "            or value == '7' or value == '8' or value == '9' or value == '10':\n",
    "        return value\n",
    "    else:\n",
    "        return 'GREATER_THAN_10'\n",
    "\n",
    "df['No_floor'] = df['No_floor'].map(lambda n: No_floor_count(n))\n",
    "df['No_floor'].value_counts(dropna=False)"
   ]
  },
  {
   "cell_type": "code",
   "execution_count": 29,
   "id": "824502b1",
   "metadata": {
    "pycharm": {
     "name": "#%%\n"
    }
   },
   "outputs": [
    {
     "data": {
      "text/plain": [
       "4                  29069\n",
       "3                  27162\n",
       "5                   7924\n",
       "2                   7330\n",
       "6                   6461\n",
       "1                   1388\n",
       "8                    938\n",
       "GREATER_THAN_10      869\n",
       "7                    678\n",
       "10                   354\n",
       "9                    283\n",
       "NaN                   38\n",
       "Name: No_bedroom, dtype: Int64"
      ]
     },
     "execution_count": 29,
     "metadata": {},
     "output_type": "execute_result"
    }
   ],
   "source": [
    "df['No_bedroom'].value_counts(dropna=False)"
   ]
  },
  {
   "cell_type": "code",
   "execution_count": 30,
   "id": "8fc37add",
   "metadata": {
    "pycharm": {
     "name": "#%%\n"
    }
   },
   "outputs": [],
   "source": [
    "mode = df['No_bedroom'].mode()[0]\n",
    "df['No_bedroom'].fillna(mode, inplace=True)"
   ]
  },
  {
   "cell_type": "code",
   "execution_count": 31,
   "id": "e3db3971",
   "metadata": {
    "pycharm": {
     "name": "#%%\n"
    }
   },
   "outputs": [
    {
     "name": "stderr",
     "output_type": "stream",
     "text": [
      "c:\\users\\admin\\appdata\\local\\programs\\python\\python37\\lib\\site-packages\\numpy\\lib\\nanfunctions.py:1117: RuntimeWarning: Mean of empty slice\n",
      "  return np.nanmean(a, axis, out=out, keepdims=keepdims)\n"
     ]
    }
   ],
   "source": [
    "#Different Location have different housing area\n",
    "df['Area'] = df.groupby('District')['Area'].apply(lambda x: x.fillna(x.median()))\n",
    "df['Price'] = df.groupby('District')['Price'].apply(lambda x: x.fillna(x.median()))\n",
    "\n",
    "# df['Number_of_room'] = df.groupby('Area')['Number_of_room'].apply(lambda x: x.fillna(x.median()))\n",
    "df['Length'] = df.groupby('Area')['Length'].apply(lambda x: x.fillna(x.median()))\n",
    "df['Length'].fillna(df['Length'].mean(), inplace=True)\n",
    "df['Width'] = df.groupby('Area')['Width'].apply(lambda x: x.fillna(x.median()))\n",
    "df['Width'].fillna(df['Width'].mean(), inplace=True)"
   ]
  },
  {
   "cell_type": "code",
   "execution_count": 32,
   "id": "50f77cfd",
   "metadata": {
    "pycharm": {
     "name": "#%%\n"
    }
   },
   "outputs": [
    {
     "name": "stdout",
     "output_type": "stream",
     "text": [
      "NUMBER OF CATEGORIES: 5171; \n",
      "\n",
      "UNIQUE NAMES OF THE CATEGORIES <StringArray>\n",
      "[                   'ĐƯỜNG HOÀNG QUỐC VIỆT',\n",
      "                          'ĐƯỜNG KIM GIANG',\n",
      "                            'PHỐ MINH KHAI',\n",
      "                           'ĐƯỜNG VÕNG THỊ',\n",
      "                            'ĐƯỜNG YÊN HÒA',\n",
      "                            'ĐƯỜNG TÂY SƠN',\n",
      "                             'ĐƯỜNG LÒ ĐÚC',\n",
      "                            'ĐƯỜNG XUÂN LA',\n",
      "                               'ĐƯỜNG 19/5',\n",
      "                           'ĐƯỜNG TỰU LIỆT',\n",
      " ...\n",
      "                       'ĐƯỜNG TRẦN CAO VÂN',\n",
      "                                   '68/114',\n",
      "                                    'TÚ MƠ',\n",
      "                                  'NGÕ 127',\n",
      "                                '15/22/269',\n",
      "                         'SỐ 9 NGÕ 211/229',\n",
      "                'KHU B ĐẠI HỌC MỎ ĐỊA CHẤT',\n",
      "              'ĐƯỜNG LÊ TRỌNG TẤN HOÀI ĐỨC',\n",
      "               'ĐƯỜNG LẠC LONG QUÂN TÂY HỒ',\n",
      " 'SỐ 7 ĐƯỜNG ĐẠI LỘ THĂNG LONG NAM TỪ LIÊM']\n",
      "Length: 5171, dtype: string\n",
      "\n",
      "\n",
      "\n"
     ]
    }
   ],
   "source": [
    "df['Street'] = df['Address'].str.split(',', expand=True)[0]\n",
    "df['Street'] = df['Street'].replace('ĐƯỜNG\\s', '', regex=True)\n",
    "df['Street'] = df['Street'].replace('PHỐ\\s', '', regex=True)\n",
    "\n",
    "# print out list of Street types\n",
    "print(f'NUMBER OF CATEGORIES: {df.Street.nunique()}; \\n\\nUNIQUE NAMES OF THE CATEGORIES {df.Street.unique()}\\n\\n\\n')"
   ]
  },
  {
   "cell_type": "code",
   "execution_count": 33,
   "id": "0287fc9c",
   "metadata": {
    "pycharm": {
     "name": "#%%\n"
    }
   },
   "outputs": [],
   "source": [
    "df.drop('Address', 1, inplace=True)"
   ]
  },
  {
   "cell_type": "code",
   "execution_count": 34,
   "id": "1b6e88eb",
   "metadata": {
    "pycharm": {
     "name": "#%%\n"
    }
   },
   "outputs": [
    {
     "data": {
      "text/plain": [
       "District           0\n",
       "Ward               0\n",
       "House_type         0\n",
       "Legal_documents    0\n",
       "No_floor           0\n",
       "No_bedroom         0\n",
       "Area               0\n",
       "Length             0\n",
       "Width              0\n",
       "Price              0\n",
       "Day_Of_Week        0\n",
       "Month              0\n",
       "Year               0\n",
       "Street             0\n",
       "dtype: int64"
      ]
     },
     "execution_count": 34,
     "metadata": {},
     "output_type": "execute_result"
    }
   ],
   "source": [
    "df.isna().sum()"
   ]
  },
  {
   "cell_type": "markdown",
   "id": "be41dcc6",
   "metadata": {},
   "source": [
    "## Extra-whitespaces"
   ]
  },
  {
   "cell_type": "code",
   "execution_count": 35,
   "id": "8c7a019d",
   "metadata": {
    "pycharm": {
     "name": "#%%\n"
    }
   },
   "outputs": [],
   "source": [
    "def whitespace_remover(df):\n",
    "    \"\"\"\n",
    "    The function will remove extra leading and trailing whitespace from the data.\n",
    "    \"\"\"\n",
    "    # iterating over the columns\n",
    "    for i in df.columns:\n",
    "        # checking datatype of each columns\n",
    "        if df[i].dtype == 'object' or df[i].dtype == 'str':\n",
    "            # applying strip function on column\n",
    "            df[i] = df[i].map(str.strip)\n",
    "        else:\n",
    "            # if condition is False then it will do nothing.\n",
    "            pass\n",
    "\n",
    "whitespace_remover(df)"
   ]
  },
  {
   "cell_type": "markdown",
   "id": "b366c1d3",
   "metadata": {},
   "source": [
    "### ----------> OBSERVATION\n",
    "<hr>\n",
    "\n",
    "> There is no typo left\n",
    "\n",
    "<hr>"
   ]
  },
  {
   "cell_type": "markdown",
   "id": "01952a23",
   "metadata": {},
   "source": [
    "<br><br>\n",
    "<a id=\"2.6\"></a>\n",
    "# 2.6 Sanity checks\n",
    "Design and run a small test-suite, consisting of a series of sanity checks to test for the presence of **impossible values** and **outliers** for each attribute.\n",
    "<a id=\"2.6.1\"></a>\n",
    "### 2.6.1 Check duplication\n",
    "+ Use the pandas function `.drop_duplicates()` to remove copied rows from a DataFrame\n",
    "\n",
    "+ Could not drop duplicated in TEST since I'll use it to compete in Kaggle learboard"
   ]
  },
  {
   "cell_type": "code",
   "execution_count": 36,
   "id": "56266aaf",
   "metadata": {
    "pycharm": {
     "name": "#%%\n"
    }
   },
   "outputs": [
    {
     "name": "stdout",
     "output_type": "stream",
     "text": [
      "Number of rows before drop of duplicates  in df: 82494\n",
      "Number of duplicated records in df:  1285\n",
      "Number of rows after drop of duplicates in df: 81209 \n",
      "\n",
      "\n",
      "<class 'pandas.core.frame.DataFrame'>\n",
      "Int64Index: 81209 entries, 0 to 82495\n",
      "Data columns (total 14 columns):\n",
      " #   Column           Non-Null Count  Dtype  \n",
      "---  ------           --------------  -----  \n",
      " 0   District         81209 non-null  string \n",
      " 1   Ward             81209 non-null  string \n",
      " 2   House_type       81209 non-null  string \n",
      " 3   Legal_documents  81209 non-null  string \n",
      " 4   No_floor         81209 non-null  string \n",
      " 5   No_bedroom       81209 non-null  string \n",
      " 6   Area             81209 non-null  float64\n",
      " 7   Length           81209 non-null  float64\n",
      " 8   Width            81209 non-null  float64\n",
      " 9   Price            81209 non-null  float64\n",
      " 10  Day_Of_Week      81209 non-null  string \n",
      " 11  Month            81209 non-null  Int32  \n",
      " 12  Year             81209 non-null  Int32  \n",
      " 13  Street           81209 non-null  string \n",
      "dtypes: Int32(2), float64(4), string(8)\n",
      "memory usage: 8.8 MB\n"
     ]
    }
   ],
   "source": [
    "# df\n",
    "print(\"Number of rows before drop of duplicates  in df:\", len(df.index))\n",
    "print(\"Number of duplicated records in df: \", df.duplicated().sum())\n",
    "df.drop_duplicates(inplace=True)\n",
    "print(\"Number of rows after drop of duplicates in df:\", len(df.index), \"\\n\\n\")\n",
    "\n",
    "# convert columns to the best possible dtypes, object->string\n",
    "df = df.convert_dtypes()\n",
    "df.info()"
   ]
  },
  {
   "cell_type": "code",
   "execution_count": 37,
   "id": "351c8cfd",
   "metadata": {
    "pycharm": {
     "name": "#%%\n"
    }
   },
   "outputs": [
    {
     "data": {
      "text/plain": [
       "Index(['District', 'Ward', 'House_type', 'Legal_documents', 'No_floor',\n",
       "       'No_bedroom', 'Area', 'Length', 'Width', 'Price', 'Day_Of_Week',\n",
       "       'Month', 'Year', 'Street'],\n",
       "      dtype='object')"
      ]
     },
     "execution_count": 37,
     "metadata": {},
     "output_type": "execute_result"
    }
   ],
   "source": [
    "df.columns"
   ]
  },
  {
   "cell_type": "markdown",
   "id": "2c787fb1",
   "metadata": {},
   "source": [
    "<a id=\"2\"></a>\n",
    "<h1 style=\"color:#ffc0cb;font-size:40px;font-family:Georgia;text-align:center;\"><strong>2. Data exploration (EDA)</strong></h1>"
   ]
  },
  {
   "cell_type": "markdown",
   "id": "489def7c",
   "metadata": {},
   "source": [
    "# Descriptive statistics for Central Tendency Using Pandas"
   ]
  },
  {
   "cell_type": "code",
   "execution_count": 38,
   "id": "75e3111a",
   "metadata": {
    "pycharm": {
     "name": "#%%\n"
    }
   },
   "outputs": [
    {
     "data": {
      "text/html": [
       "<div>\n",
       "<style scoped>\n",
       "    .dataframe tbody tr th:only-of-type {\n",
       "        vertical-align: middle;\n",
       "    }\n",
       "\n",
       "    .dataframe tbody tr th {\n",
       "        vertical-align: top;\n",
       "    }\n",
       "\n",
       "    .dataframe thead th {\n",
       "        text-align: right;\n",
       "    }\n",
       "</style>\n",
       "<table border=\"1\" class=\"dataframe\">\n",
       "  <thead>\n",
       "    <tr style=\"text-align: right;\">\n",
       "      <th></th>\n",
       "      <th>count</th>\n",
       "      <th>mean</th>\n",
       "      <th>std</th>\n",
       "      <th>min</th>\n",
       "      <th>25%</th>\n",
       "      <th>50%</th>\n",
       "      <th>75%</th>\n",
       "      <th>max</th>\n",
       "    </tr>\n",
       "  </thead>\n",
       "  <tbody>\n",
       "    <tr>\n",
       "      <th>Area</th>\n",
       "      <td>81209.0</td>\n",
       "      <td>51.535523</td>\n",
       "      <td>474.381672</td>\n",
       "      <td>1.0</td>\n",
       "      <td>34.00</td>\n",
       "      <td>40.0</td>\n",
       "      <td>50.00</td>\n",
       "      <td>111411.0</td>\n",
       "    </tr>\n",
       "    <tr>\n",
       "      <th>Length</th>\n",
       "      <td>81209.0</td>\n",
       "      <td>29.926684</td>\n",
       "      <td>3196.530346</td>\n",
       "      <td>1.0</td>\n",
       "      <td>9.00</td>\n",
       "      <td>10.0</td>\n",
       "      <td>12.00</td>\n",
       "      <td>900000.0</td>\n",
       "    </tr>\n",
       "    <tr>\n",
       "      <th>Width</th>\n",
       "      <td>81209.0</td>\n",
       "      <td>18.888412</td>\n",
       "      <td>2049.029203</td>\n",
       "      <td>1.0</td>\n",
       "      <td>4.00</td>\n",
       "      <td>4.0</td>\n",
       "      <td>4.30</td>\n",
       "      <td>423432.0</td>\n",
       "    </tr>\n",
       "    <tr>\n",
       "      <th>Price</th>\n",
       "      <td>81209.0</td>\n",
       "      <td>102.455550</td>\n",
       "      <td>63.239283</td>\n",
       "      <td>1.0</td>\n",
       "      <td>73.33</td>\n",
       "      <td>90.0</td>\n",
       "      <td>110.29</td>\n",
       "      <td>998.0</td>\n",
       "    </tr>\n",
       "    <tr>\n",
       "      <th>Month</th>\n",
       "      <td>81209.0</td>\n",
       "      <td>6.721373</td>\n",
       "      <td>0.642743</td>\n",
       "      <td>2.0</td>\n",
       "      <td>6.00</td>\n",
       "      <td>7.0</td>\n",
       "      <td>7.00</td>\n",
       "      <td>12.0</td>\n",
       "    </tr>\n",
       "    <tr>\n",
       "      <th>Year</th>\n",
       "      <td>81209.0</td>\n",
       "      <td>2019.999778</td>\n",
       "      <td>0.014886</td>\n",
       "      <td>2019.0</td>\n",
       "      <td>2020.00</td>\n",
       "      <td>2020.0</td>\n",
       "      <td>2020.00</td>\n",
       "      <td>2020.0</td>\n",
       "    </tr>\n",
       "  </tbody>\n",
       "</table>\n",
       "</div>"
      ],
      "text/plain": [
       "          count         mean          std     min      25%     50%      75%  \\\n",
       "Area    81209.0    51.535523   474.381672     1.0    34.00    40.0    50.00   \n",
       "Length  81209.0    29.926684  3196.530346     1.0     9.00    10.0    12.00   \n",
       "Width   81209.0    18.888412  2049.029203     1.0     4.00     4.0     4.30   \n",
       "Price   81209.0   102.455550    63.239283     1.0    73.33    90.0   110.29   \n",
       "Month   81209.0     6.721373     0.642743     2.0     6.00     7.0     7.00   \n",
       "Year    81209.0  2019.999778     0.014886  2019.0  2020.00  2020.0  2020.00   \n",
       "\n",
       "             max  \n",
       "Area    111411.0  \n",
       "Length  900000.0  \n",
       "Width   423432.0  \n",
       "Price      998.0  \n",
       "Month       12.0  \n",
       "Year      2020.0  "
      ]
     },
     "execution_count": 38,
     "metadata": {},
     "output_type": "execute_result"
    }
   ],
   "source": [
    "df.describe().T"
   ]
  },
  {
   "cell_type": "code",
   "execution_count": 39,
   "id": "9879959b",
   "metadata": {
    "pycharm": {
     "name": "#%%\n"
    }
   },
   "outputs": [
    {
     "data": {
      "text/plain": [
       "<AxesSubplot:>"
      ]
     },
     "execution_count": 39,
     "metadata": {},
     "output_type": "execute_result"
    },
    {
     "data": {
      "image/png": "[encoded data removed]",
      "text/plain": [
       "<Figure size 1080x720 with 1 Axes>"
      ]
     },
     "metadata": {
      "needs_background": "light"
     },
     "output_type": "display_data"
    }
   ],
   "source": [
    "plt.figure(figsize= (15,10))\n",
    "sns.boxplot(data=df,orient=\"h\")"
   ]
  },
  {
   "cell_type": "code",
   "execution_count": 40,
   "id": "c2713f86",
   "metadata": {},
   "outputs": [
    {
     "data": {
      "text/html": [
       "<div>\n",
       "<style scoped>\n",
       "    .dataframe tbody tr th:only-of-type {\n",
       "        vertical-align: middle;\n",
       "    }\n",
       "\n",
       "    .dataframe tbody tr th {\n",
       "        vertical-align: top;\n",
       "    }\n",
       "\n",
       "    .dataframe thead th {\n",
       "        text-align: right;\n",
       "    }\n",
       "</style>\n",
       "<table border=\"1\" class=\"dataframe\">\n",
       "  <thead>\n",
       "    <tr style=\"text-align: right;\">\n",
       "      <th></th>\n",
       "      <th>District</th>\n",
       "      <th>Ward</th>\n",
       "      <th>House_type</th>\n",
       "      <th>Legal_documents</th>\n",
       "      <th>No_floor</th>\n",
       "      <th>No_bedroom</th>\n",
       "      <th>Area</th>\n",
       "      <th>Length</th>\n",
       "      <th>Width</th>\n",
       "      <th>Price</th>\n",
       "      <th>Day_Of_Week</th>\n",
       "      <th>Month</th>\n",
       "      <th>Year</th>\n",
       "      <th>Street</th>\n",
       "    </tr>\n",
       "  </thead>\n",
       "  <tbody>\n",
       "    <tr>\n",
       "      <th>1659</th>\n",
       "      <td>HOÀNG MAI</td>\n",
       "      <td>ĐẠI KIM</td>\n",
       "      <td>BYROAD</td>\n",
       "      <td>AVAILABLE</td>\n",
       "      <td>5</td>\n",
       "      <td>3</td>\n",
       "      <td>20430.0</td>\n",
       "      <td>29.613823</td>\n",
       "      <td>18.658071</td>\n",
       "      <td>79.03</td>\n",
       "      <td>TUESDAY</td>\n",
       "      <td>8</td>\n",
       "      <td>2020</td>\n",
       "      <td>204/150 KIM GIANG</td>\n",
       "    </tr>\n",
       "    <tr>\n",
       "      <th>15202</th>\n",
       "      <td>HÀ ĐÔNG</td>\n",
       "      <td>PHÚ LA</td>\n",
       "      <td>BYROAD</td>\n",
       "      <td>AVAILABLE</td>\n",
       "      <td>2</td>\n",
       "      <td>3</td>\n",
       "      <td>26400.0</td>\n",
       "      <td>8800.000000</td>\n",
       "      <td>3000.000000</td>\n",
       "      <td>74.29</td>\n",
       "      <td>MONDAY</td>\n",
       "      <td>7</td>\n",
       "      <td>2020</td>\n",
       "      <td>LÀNG XA LA</td>\n",
       "    </tr>\n",
       "    <tr>\n",
       "      <th>17460</th>\n",
       "      <td>LONG BIÊN</td>\n",
       "      <td>NGỌC THỤY</td>\n",
       "      <td>BYROAD</td>\n",
       "      <td>AVAILABLE</td>\n",
       "      <td>4</td>\n",
       "      <td>3</td>\n",
       "      <td>111411.0</td>\n",
       "      <td>29.613823</td>\n",
       "      <td>18.658071</td>\n",
       "      <td>76.67</td>\n",
       "      <td>SUNDAY</td>\n",
       "      <td>7</td>\n",
       "      <td>2020</td>\n",
       "      <td>SỐ NHÀ 7/188</td>\n",
       "    </tr>\n",
       "    <tr>\n",
       "      <th>24872</th>\n",
       "      <td>HAI BÀ TRƯNG</td>\n",
       "      <td>THANH LƯƠNG</td>\n",
       "      <td>TOWNHOUSE</td>\n",
       "      <td>AVAILABLE</td>\n",
       "      <td>5</td>\n",
       "      <td>3</td>\n",
       "      <td>40000.0</td>\n",
       "      <td>87.000000</td>\n",
       "      <td>46.000000</td>\n",
       "      <td>90.04</td>\n",
       "      <td>TUESDAY</td>\n",
       "      <td>7</td>\n",
       "      <td>2020</td>\n",
       "      <td>ĐƯỜNG ĐÊ TRẦN KHÁT CHÂN</td>\n",
       "    </tr>\n",
       "    <tr>\n",
       "      <th>66371</th>\n",
       "      <td>HAI BÀ TRƯNG</td>\n",
       "      <td>VĨNH TUY</td>\n",
       "      <td>BYROAD</td>\n",
       "      <td>OTHERS</td>\n",
       "      <td>5</td>\n",
       "      <td>6</td>\n",
       "      <td>51480.0</td>\n",
       "      <td>29.613823</td>\n",
       "      <td>18.658071</td>\n",
       "      <td>90.04</td>\n",
       "      <td>FRIDAY</td>\n",
       "      <td>6</td>\n",
       "      <td>2020</td>\n",
       "      <td>ĐƯỜNG DƯƠNG VĂN BÉ</td>\n",
       "    </tr>\n",
       "    <tr>\n",
       "      <th>70879</th>\n",
       "      <td>HUYỆN THẠCH THẤT</td>\n",
       "      <td>TIẾN XUÂN</td>\n",
       "      <td>VILLA</td>\n",
       "      <td>OTHERS</td>\n",
       "      <td>5</td>\n",
       "      <td>6</td>\n",
       "      <td>10360.0</td>\n",
       "      <td>29.613823</td>\n",
       "      <td>18.658071</td>\n",
       "      <td>1.59</td>\n",
       "      <td>TUESDAY</td>\n",
       "      <td>6</td>\n",
       "      <td>2020</td>\n",
       "      <td>ĐƯỜNG ĐT 446</td>\n",
       "    </tr>\n",
       "  </tbody>\n",
       "</table>\n",
       "</div>"
      ],
      "text/plain": [
       "               District         Ward House_type Legal_documents No_floor  \\\n",
       "1659          HOÀNG MAI      ĐẠI KIM     BYROAD       AVAILABLE        5   \n",
       "15202           HÀ ĐÔNG       PHÚ LA     BYROAD       AVAILABLE        2   \n",
       "17460         LONG BIÊN    NGỌC THỤY     BYROAD       AVAILABLE        4   \n",
       "24872      HAI BÀ TRƯNG  THANH LƯƠNG  TOWNHOUSE       AVAILABLE        5   \n",
       "66371      HAI BÀ TRƯNG     VĨNH TUY     BYROAD          OTHERS        5   \n",
       "70879  HUYỆN THẠCH THẤT    TIẾN XUÂN      VILLA          OTHERS        5   \n",
       "\n",
       "      No_bedroom      Area       Length        Width  Price Day_Of_Week  \\\n",
       "1659           3   20430.0    29.613823    18.658071  79.03     TUESDAY   \n",
       "15202          3   26400.0  8800.000000  3000.000000  74.29      MONDAY   \n",
       "17460          3  111411.0    29.613823    18.658071  76.67      SUNDAY   \n",
       "24872          3   40000.0    87.000000    46.000000  90.04     TUESDAY   \n",
       "66371          6   51480.0    29.613823    18.658071  90.04      FRIDAY   \n",
       "70879          6   10360.0    29.613823    18.658071   1.59     TUESDAY   \n",
       "\n",
       "       Month  Year                   Street  \n",
       "1659       8  2020        204/150 KIM GIANG  \n",
       "15202      7  2020               LÀNG XA LA  \n",
       "17460      7  2020             SỐ NHÀ 7/188  \n",
       "24872      7  2020  ĐƯỜNG ĐÊ TRẦN KHÁT CHÂN  \n",
       "66371      6  2020       ĐƯỜNG DƯƠNG VĂN BÉ  \n",
       "70879      6  2020             ĐƯỜNG ĐT 446  "
      ]
     },
     "execution_count": 40,
     "metadata": {},
     "output_type": "execute_result"
    }
   ],
   "source": [
    "#Detect outliers bases on graph and remove them\n",
    "df[df['Area']>10000]\n",
    "\n"
   ]
  },
  {
   "cell_type": "code",
   "execution_count": 41,
   "id": "d5a5d636",
   "metadata": {},
   "outputs": [],
   "source": [
    "#Since there are only 6 rows , I decide to drop the outliers\n",
    "df.drop(df[df['Area'] > 10000].index, inplace = True)"
   ]
  },
  {
   "cell_type": "code",
   "execution_count": 42,
   "id": "bd4b39f5",
   "metadata": {},
   "outputs": [
    {
     "data": {
      "text/html": [
       "<div>\n",
       "<style scoped>\n",
       "    .dataframe tbody tr th:only-of-type {\n",
       "        vertical-align: middle;\n",
       "    }\n",
       "\n",
       "    .dataframe tbody tr th {\n",
       "        vertical-align: top;\n",
       "    }\n",
       "\n",
       "    .dataframe thead th {\n",
       "        text-align: right;\n",
       "    }\n",
       "</style>\n",
       "<table border=\"1\" class=\"dataframe\">\n",
       "  <thead>\n",
       "    <tr style=\"text-align: right;\">\n",
       "      <th></th>\n",
       "      <th>District</th>\n",
       "      <th>Ward</th>\n",
       "      <th>House_type</th>\n",
       "      <th>Legal_documents</th>\n",
       "      <th>No_floor</th>\n",
       "      <th>No_bedroom</th>\n",
       "      <th>Area</th>\n",
       "      <th>Length</th>\n",
       "      <th>Width</th>\n",
       "      <th>Price</th>\n",
       "      <th>Day_Of_Week</th>\n",
       "      <th>Month</th>\n",
       "      <th>Year</th>\n",
       "      <th>Street</th>\n",
       "    </tr>\n",
       "  </thead>\n",
       "  <tbody>\n",
       "    <tr>\n",
       "      <th>5101</th>\n",
       "      <td>THANH XUÂN</td>\n",
       "      <td>PHƯƠNG LIỆT</td>\n",
       "      <td>BYROAD</td>\n",
       "      <td>AVAILABLE</td>\n",
       "      <td>5</td>\n",
       "      <td>1</td>\n",
       "      <td>35.0</td>\n",
       "      <td>11000.0</td>\n",
       "      <td>3100.0</td>\n",
       "      <td>71.43</td>\n",
       "      <td>SUNDAY</td>\n",
       "      <td>8</td>\n",
       "      <td>2020</td>\n",
       "      <td>114</td>\n",
       "    </tr>\n",
       "    <tr>\n",
       "      <th>6869</th>\n",
       "      <td>CẦU GIẤY</td>\n",
       "      <td>NGHĨA ĐÔ</td>\n",
       "      <td>BYROAD</td>\n",
       "      <td>AVAILABLE</td>\n",
       "      <td>1</td>\n",
       "      <td>3</td>\n",
       "      <td>59.0</td>\n",
       "      <td>19000.0</td>\n",
       "      <td>3400.0</td>\n",
       "      <td>81.36</td>\n",
       "      <td>SATURDAY</td>\n",
       "      <td>8</td>\n",
       "      <td>2020</td>\n",
       "      <td>ĐƯỜNG LẠC LONG QUÂN</td>\n",
       "    </tr>\n",
       "    <tr>\n",
       "      <th>11572</th>\n",
       "      <td>HOÀNG MAI</td>\n",
       "      <td>ĐỊNH CÔNG</td>\n",
       "      <td>BYROAD</td>\n",
       "      <td>AVAILABLE</td>\n",
       "      <td>5</td>\n",
       "      <td>3</td>\n",
       "      <td>46.0</td>\n",
       "      <td>120000.0</td>\n",
       "      <td>4300.0</td>\n",
       "      <td>67.39</td>\n",
       "      <td>WEDNESDAY</td>\n",
       "      <td>7</td>\n",
       "      <td>2020</td>\n",
       "      <td>ĐƯỜNG ĐỊNH CÔNG THƯỢNG</td>\n",
       "    </tr>\n",
       "    <tr>\n",
       "      <th>13248</th>\n",
       "      <td>HÀ ĐÔNG</td>\n",
       "      <td>PHÚ LA</td>\n",
       "      <td>BYROAD</td>\n",
       "      <td>AVAILABLE</td>\n",
       "      <td>5</td>\n",
       "      <td>4</td>\n",
       "      <td>42.0</td>\n",
       "      <td>11540.0</td>\n",
       "      <td>3700.0</td>\n",
       "      <td>42.86</td>\n",
       "      <td>WEDNESDAY</td>\n",
       "      <td>7</td>\n",
       "      <td>2020</td>\n",
       "      <td>ĐƯỜNG VĂN PHÚ</td>\n",
       "    </tr>\n",
       "    <tr>\n",
       "      <th>14580</th>\n",
       "      <td>LONG BIÊN</td>\n",
       "      <td>THẠCH BÀN</td>\n",
       "      <td>BYROAD</td>\n",
       "      <td>AVAILABLE</td>\n",
       "      <td>5</td>\n",
       "      <td>4</td>\n",
       "      <td>37.0</td>\n",
       "      <td>10500.0</td>\n",
       "      <td>3400.0</td>\n",
       "      <td>86.49</td>\n",
       "      <td>TUESDAY</td>\n",
       "      <td>7</td>\n",
       "      <td>2020</td>\n",
       "      <td>ĐƯỜNG NGUYỄN VĂN LINH</td>\n",
       "    </tr>\n",
       "    <tr>\n",
       "      <th>19771</th>\n",
       "      <td>TÂY HỒ</td>\n",
       "      <td>THỤY KHUÊ</td>\n",
       "      <td>STREET_HOUSE</td>\n",
       "      <td>AVAILABLE</td>\n",
       "      <td>4</td>\n",
       "      <td>2</td>\n",
       "      <td>52.0</td>\n",
       "      <td>19000.0</td>\n",
       "      <td>2900.0</td>\n",
       "      <td>167.31</td>\n",
       "      <td>FRIDAY</td>\n",
       "      <td>7</td>\n",
       "      <td>2020</td>\n",
       "      <td>ĐỒNG CỔ</td>\n",
       "    </tr>\n",
       "    <tr>\n",
       "      <th>35264</th>\n",
       "      <td>ĐỐNG ĐA</td>\n",
       "      <td>LÁNG THƯỢNG</td>\n",
       "      <td>BYROAD</td>\n",
       "      <td>AVAILABLE</td>\n",
       "      <td>4</td>\n",
       "      <td>4</td>\n",
       "      <td>48.0</td>\n",
       "      <td>13000.0</td>\n",
       "      <td>3700.0</td>\n",
       "      <td>85.42</td>\n",
       "      <td>TUESDAY</td>\n",
       "      <td>7</td>\n",
       "      <td>2020</td>\n",
       "      <td>25</td>\n",
       "    </tr>\n",
       "    <tr>\n",
       "      <th>47839</th>\n",
       "      <td>BẮC TỪ LIÊM</td>\n",
       "      <td>PHÚ DIỄN</td>\n",
       "      <td>BYROAD</td>\n",
       "      <td>AVAILABLE</td>\n",
       "      <td>5</td>\n",
       "      <td>2</td>\n",
       "      <td>101.0</td>\n",
       "      <td>16500.0</td>\n",
       "      <td>6500.0</td>\n",
       "      <td>33.17</td>\n",
       "      <td>SATURDAY</td>\n",
       "      <td>7</td>\n",
       "      <td>2020</td>\n",
       "      <td>80/59</td>\n",
       "    </tr>\n",
       "    <tr>\n",
       "      <th>53212</th>\n",
       "      <td>ĐỐNG ĐA</td>\n",
       "      <td>QUANG TRUNG</td>\n",
       "      <td>BYROAD</td>\n",
       "      <td>AVAILABLE</td>\n",
       "      <td>5</td>\n",
       "      <td>4</td>\n",
       "      <td>48.0</td>\n",
       "      <td>10500.0</td>\n",
       "      <td>4200.0</td>\n",
       "      <td>197.92</td>\n",
       "      <td>TUESDAY</td>\n",
       "      <td>6</td>\n",
       "      <td>2020</td>\n",
       "      <td>178</td>\n",
       "    </tr>\n",
       "    <tr>\n",
       "      <th>53433</th>\n",
       "      <td>ĐỐNG ĐA</td>\n",
       "      <td>TRUNG LIỆT</td>\n",
       "      <td>BYROAD</td>\n",
       "      <td>AVAILABLE</td>\n",
       "      <td>5</td>\n",
       "      <td>5</td>\n",
       "      <td>71.0</td>\n",
       "      <td>14700.0</td>\n",
       "      <td>4800.0</td>\n",
       "      <td>135.92</td>\n",
       "      <td>TUESDAY</td>\n",
       "      <td>6</td>\n",
       "      <td>2020</td>\n",
       "      <td>PHỐ THÁI THỊNH</td>\n",
       "    </tr>\n",
       "    <tr>\n",
       "      <th>60028</th>\n",
       "      <td>ĐỐNG ĐA</td>\n",
       "      <td>PHƯƠNG MAI</td>\n",
       "      <td>STREET_HOUSE</td>\n",
       "      <td>AVAILABLE</td>\n",
       "      <td>5</td>\n",
       "      <td>3</td>\n",
       "      <td>48.0</td>\n",
       "      <td>10500.0</td>\n",
       "      <td>4300.0</td>\n",
       "      <td>157.29</td>\n",
       "      <td>WEDNESDAY</td>\n",
       "      <td>6</td>\n",
       "      <td>2020</td>\n",
       "      <td>4</td>\n",
       "    </tr>\n",
       "    <tr>\n",
       "      <th>60392</th>\n",
       "      <td>HAI BÀ TRƯNG</td>\n",
       "      <td>VĨNH TUY</td>\n",
       "      <td>BYROAD</td>\n",
       "      <td>AVAILABLE</td>\n",
       "      <td>5</td>\n",
       "      <td>5</td>\n",
       "      <td>34.0</td>\n",
       "      <td>10300.0</td>\n",
       "      <td>3400.0</td>\n",
       "      <td>98.53</td>\n",
       "      <td>TUESDAY</td>\n",
       "      <td>6</td>\n",
       "      <td>2020</td>\n",
       "      <td>36</td>\n",
       "    </tr>\n",
       "    <tr>\n",
       "      <th>62065</th>\n",
       "      <td>HÀ ĐÔNG</td>\n",
       "      <td>LA KHÊ</td>\n",
       "      <td>BYROAD</td>\n",
       "      <td>OTHERS</td>\n",
       "      <td>5</td>\n",
       "      <td>3</td>\n",
       "      <td>44.0</td>\n",
       "      <td>12500.0</td>\n",
       "      <td>3500.0</td>\n",
       "      <td>50.00</td>\n",
       "      <td>MONDAY</td>\n",
       "      <td>6</td>\n",
       "      <td>2020</td>\n",
       "      <td>ĐƯỜNG NGÔ QUYỀN</td>\n",
       "    </tr>\n",
       "    <tr>\n",
       "      <th>64372</th>\n",
       "      <td>HUYỆN ĐÔNG ANH</td>\n",
       "      <td>VĨNH NGỌC</td>\n",
       "      <td>STREET_HOUSE</td>\n",
       "      <td>OTHERS</td>\n",
       "      <td>5</td>\n",
       "      <td>4</td>\n",
       "      <td>44.0</td>\n",
       "      <td>12550.0</td>\n",
       "      <td>3530.0</td>\n",
       "      <td>73.86</td>\n",
       "      <td>SATURDAY</td>\n",
       "      <td>6</td>\n",
       "      <td>2020</td>\n",
       "      <td>ĐÊ TẢ HỒNG</td>\n",
       "    </tr>\n",
       "    <tr>\n",
       "      <th>65170</th>\n",
       "      <td>TÂY HỒ</td>\n",
       "      <td>TỨ LIÊN</td>\n",
       "      <td>STREET_HOUSE</td>\n",
       "      <td>AVAILABLE</td>\n",
       "      <td>5</td>\n",
       "      <td>8</td>\n",
       "      <td>50.0</td>\n",
       "      <td>13000.0</td>\n",
       "      <td>4000.0</td>\n",
       "      <td>152.00</td>\n",
       "      <td>SATURDAY</td>\n",
       "      <td>6</td>\n",
       "      <td>2020</td>\n",
       "      <td>SỐ 89 NGÕ 124 ÂU CƠ</td>\n",
       "    </tr>\n",
       "    <tr>\n",
       "      <th>68326</th>\n",
       "      <td>HOÀNG MAI</td>\n",
       "      <td>LĨNH NAM</td>\n",
       "      <td>BYROAD</td>\n",
       "      <td>AVAILABLE</td>\n",
       "      <td>5</td>\n",
       "      <td>4</td>\n",
       "      <td>35.0</td>\n",
       "      <td>900000.0</td>\n",
       "      <td>400000.0</td>\n",
       "      <td>78.57</td>\n",
       "      <td>WEDNESDAY</td>\n",
       "      <td>6</td>\n",
       "      <td>2020</td>\n",
       "      <td>ĐƯỜNG THANH LÂN</td>\n",
       "    </tr>\n",
       "    <tr>\n",
       "      <th>70975</th>\n",
       "      <td>CẦU GIẤY</td>\n",
       "      <td>YÊN HOÀ</td>\n",
       "      <td>BYROAD</td>\n",
       "      <td>AVAILABLE</td>\n",
       "      <td>4</td>\n",
       "      <td>6</td>\n",
       "      <td>50.0</td>\n",
       "      <td>14000.0</td>\n",
       "      <td>3700.0</td>\n",
       "      <td>2.00</td>\n",
       "      <td>TUESDAY</td>\n",
       "      <td>6</td>\n",
       "      <td>2020</td>\n",
       "      <td>88</td>\n",
       "    </tr>\n",
       "    <tr>\n",
       "      <th>71399</th>\n",
       "      <td>HÀ ĐÔNG</td>\n",
       "      <td>VĂN QUÁN</td>\n",
       "      <td>TOWNHOUSE</td>\n",
       "      <td>AVAILABLE</td>\n",
       "      <td>5</td>\n",
       "      <td>5</td>\n",
       "      <td>65.0</td>\n",
       "      <td>14000.0</td>\n",
       "      <td>4500.0</td>\n",
       "      <td>100.00</td>\n",
       "      <td>MONDAY</td>\n",
       "      <td>6</td>\n",
       "      <td>2020</td>\n",
       "      <td>38</td>\n",
       "    </tr>\n",
       "    <tr>\n",
       "      <th>72255</th>\n",
       "      <td>THANH XUÂN</td>\n",
       "      <td>KHƯƠNG ĐÌNH</td>\n",
       "      <td>BYROAD</td>\n",
       "      <td>AVAILABLE</td>\n",
       "      <td>5</td>\n",
       "      <td>6</td>\n",
       "      <td>39.0</td>\n",
       "      <td>11380.0</td>\n",
       "      <td>3500.0</td>\n",
       "      <td>93.59</td>\n",
       "      <td>MONDAY</td>\n",
       "      <td>6</td>\n",
       "      <td>2020</td>\n",
       "      <td>ĐƯỜNG QUAN NHÂN</td>\n",
       "    </tr>\n",
       "    <tr>\n",
       "      <th>77609</th>\n",
       "      <td>CẦU GIẤY</td>\n",
       "      <td>TRUNG HOÀ</td>\n",
       "      <td>BYROAD</td>\n",
       "      <td>AVAILABLE</td>\n",
       "      <td>5</td>\n",
       "      <td>5</td>\n",
       "      <td>70.0</td>\n",
       "      <td>15500.0</td>\n",
       "      <td>4200.0</td>\n",
       "      <td>135.71</td>\n",
       "      <td>WEDNESDAY</td>\n",
       "      <td>6</td>\n",
       "      <td>2020</td>\n",
       "      <td>ĐƯỜNG LÊ VĂN LƯƠNG</td>\n",
       "    </tr>\n",
       "    <tr>\n",
       "      <th>80657</th>\n",
       "      <td>THANH XUÂN</td>\n",
       "      <td>HẠ ĐÌNH</td>\n",
       "      <td>BYROAD</td>\n",
       "      <td>OTHERS</td>\n",
       "      <td>5</td>\n",
       "      <td>2</td>\n",
       "      <td>51.0</td>\n",
       "      <td>12900.0</td>\n",
       "      <td>3500.0</td>\n",
       "      <td>25.47</td>\n",
       "      <td>SUNDAY</td>\n",
       "      <td>6</td>\n",
       "      <td>2020</td>\n",
       "      <td>ĐƯỜNG BÙI XƯƠNG TRẠCH</td>\n",
       "    </tr>\n",
       "  </tbody>\n",
       "</table>\n",
       "</div>"
      ],
      "text/plain": [
       "             District         Ward    House_type Legal_documents No_floor  \\\n",
       "5101       THANH XUÂN  PHƯƠNG LIỆT        BYROAD       AVAILABLE        5   \n",
       "6869         CẦU GIẤY     NGHĨA ĐÔ        BYROAD       AVAILABLE        1   \n",
       "11572       HOÀNG MAI    ĐỊNH CÔNG        BYROAD       AVAILABLE        5   \n",
       "13248         HÀ ĐÔNG       PHÚ LA        BYROAD       AVAILABLE        5   \n",
       "14580       LONG BIÊN    THẠCH BÀN        BYROAD       AVAILABLE        5   \n",
       "19771          TÂY HỒ    THỤY KHUÊ  STREET_HOUSE       AVAILABLE        4   \n",
       "35264         ĐỐNG ĐA  LÁNG THƯỢNG        BYROAD       AVAILABLE        4   \n",
       "47839     BẮC TỪ LIÊM     PHÚ DIỄN        BYROAD       AVAILABLE        5   \n",
       "53212         ĐỐNG ĐA  QUANG TRUNG        BYROAD       AVAILABLE        5   \n",
       "53433         ĐỐNG ĐA   TRUNG LIỆT        BYROAD       AVAILABLE        5   \n",
       "60028         ĐỐNG ĐA   PHƯƠNG MAI  STREET_HOUSE       AVAILABLE        5   \n",
       "60392    HAI BÀ TRƯNG     VĨNH TUY        BYROAD       AVAILABLE        5   \n",
       "62065         HÀ ĐÔNG       LA KHÊ        BYROAD          OTHERS        5   \n",
       "64372  HUYỆN ĐÔNG ANH    VĨNH NGỌC  STREET_HOUSE          OTHERS        5   \n",
       "65170          TÂY HỒ      TỨ LIÊN  STREET_HOUSE       AVAILABLE        5   \n",
       "68326       HOÀNG MAI     LĨNH NAM        BYROAD       AVAILABLE        5   \n",
       "70975        CẦU GIẤY      YÊN HOÀ        BYROAD       AVAILABLE        4   \n",
       "71399         HÀ ĐÔNG     VĂN QUÁN     TOWNHOUSE       AVAILABLE        5   \n",
       "72255      THANH XUÂN  KHƯƠNG ĐÌNH        BYROAD       AVAILABLE        5   \n",
       "77609        CẦU GIẤY    TRUNG HOÀ        BYROAD       AVAILABLE        5   \n",
       "80657      THANH XUÂN      HẠ ĐÌNH        BYROAD          OTHERS        5   \n",
       "\n",
       "      No_bedroom   Area    Length     Width   Price Day_Of_Week  Month  Year  \\\n",
       "5101           1   35.0   11000.0    3100.0   71.43      SUNDAY      8  2020   \n",
       "6869           3   59.0   19000.0    3400.0   81.36    SATURDAY      8  2020   \n",
       "11572          3   46.0  120000.0    4300.0   67.39   WEDNESDAY      7  2020   \n",
       "13248          4   42.0   11540.0    3700.0   42.86   WEDNESDAY      7  2020   \n",
       "14580          4   37.0   10500.0    3400.0   86.49     TUESDAY      7  2020   \n",
       "19771          2   52.0   19000.0    2900.0  167.31      FRIDAY      7  2020   \n",
       "35264          4   48.0   13000.0    3700.0   85.42     TUESDAY      7  2020   \n",
       "47839          2  101.0   16500.0    6500.0   33.17    SATURDAY      7  2020   \n",
       "53212          4   48.0   10500.0    4200.0  197.92     TUESDAY      6  2020   \n",
       "53433          5   71.0   14700.0    4800.0  135.92     TUESDAY      6  2020   \n",
       "60028          3   48.0   10500.0    4300.0  157.29   WEDNESDAY      6  2020   \n",
       "60392          5   34.0   10300.0    3400.0   98.53     TUESDAY      6  2020   \n",
       "62065          3   44.0   12500.0    3500.0   50.00      MONDAY      6  2020   \n",
       "64372          4   44.0   12550.0    3530.0   73.86    SATURDAY      6  2020   \n",
       "65170          8   50.0   13000.0    4000.0  152.00    SATURDAY      6  2020   \n",
       "68326          4   35.0  900000.0  400000.0   78.57   WEDNESDAY      6  2020   \n",
       "70975          6   50.0   14000.0    3700.0    2.00     TUESDAY      6  2020   \n",
       "71399          5   65.0   14000.0    4500.0  100.00      MONDAY      6  2020   \n",
       "72255          6   39.0   11380.0    3500.0   93.59      MONDAY      6  2020   \n",
       "77609          5   70.0   15500.0    4200.0  135.71   WEDNESDAY      6  2020   \n",
       "80657          2   51.0   12900.0    3500.0   25.47      SUNDAY      6  2020   \n",
       "\n",
       "                       Street  \n",
       "5101                      114  \n",
       "6869      ĐƯỜNG LẠC LONG QUÂN  \n",
       "11572  ĐƯỜNG ĐỊNH CÔNG THƯỢNG  \n",
       "13248           ĐƯỜNG VĂN PHÚ  \n",
       "14580   ĐƯỜNG NGUYỄN VĂN LINH  \n",
       "19771                 ĐỒNG CỔ  \n",
       "35264                      25  \n",
       "47839                   80/59  \n",
       "53212                     178  \n",
       "53433          PHỐ THÁI THỊNH  \n",
       "60028                       4  \n",
       "60392                      36  \n",
       "62065         ĐƯỜNG NGÔ QUYỀN  \n",
       "64372              ĐÊ TẢ HỒNG  \n",
       "65170     SỐ 89 NGÕ 124 ÂU CƠ  \n",
       "68326         ĐƯỜNG THANH LÂN  \n",
       "70975                      88  \n",
       "71399                      38  \n",
       "72255         ĐƯỜNG QUAN NHÂN  \n",
       "77609      ĐƯỜNG LÊ VĂN LƯƠNG  \n",
       "80657   ĐƯỜNG BÙI XƯƠNG TRẠCH  "
      ]
     },
     "execution_count": 42,
     "metadata": {},
     "output_type": "execute_result"
    }
   ],
   "source": [
    "#Detect outliers bases on graph and remove them\n",
    "df[df['Length']>10000]\n"
   ]
  },
  {
   "cell_type": "code",
   "execution_count": 43,
   "id": "062fc234",
   "metadata": {},
   "outputs": [
    {
     "data": {
      "text/html": [
       "<div>\n",
       "<style scoped>\n",
       "    .dataframe tbody tr th:only-of-type {\n",
       "        vertical-align: middle;\n",
       "    }\n",
       "\n",
       "    .dataframe tbody tr th {\n",
       "        vertical-align: top;\n",
       "    }\n",
       "\n",
       "    .dataframe thead th {\n",
       "        text-align: right;\n",
       "    }\n",
       "</style>\n",
       "<table border=\"1\" class=\"dataframe\">\n",
       "  <thead>\n",
       "    <tr style=\"text-align: right;\">\n",
       "      <th></th>\n",
       "      <th>District</th>\n",
       "      <th>Ward</th>\n",
       "      <th>House_type</th>\n",
       "      <th>Legal_documents</th>\n",
       "      <th>No_floor</th>\n",
       "      <th>No_bedroom</th>\n",
       "      <th>Area</th>\n",
       "      <th>Length</th>\n",
       "      <th>Width</th>\n",
       "      <th>Price</th>\n",
       "      <th>Day_Of_Week</th>\n",
       "      <th>Month</th>\n",
       "      <th>Year</th>\n",
       "      <th>Street</th>\n",
       "    </tr>\n",
       "  </thead>\n",
       "  <tbody>\n",
       "    <tr>\n",
       "      <th>68326</th>\n",
       "      <td>HOÀNG MAI</td>\n",
       "      <td>LĨNH NAM</td>\n",
       "      <td>BYROAD</td>\n",
       "      <td>AVAILABLE</td>\n",
       "      <td>5</td>\n",
       "      <td>4</td>\n",
       "      <td>35.0</td>\n",
       "      <td>900000.0</td>\n",
       "      <td>400000.0</td>\n",
       "      <td>78.57</td>\n",
       "      <td>WEDNESDAY</td>\n",
       "      <td>6</td>\n",
       "      <td>2020</td>\n",
       "      <td>ĐƯỜNG THANH LÂN</td>\n",
       "    </tr>\n",
       "    <tr>\n",
       "      <th>11572</th>\n",
       "      <td>HOÀNG MAI</td>\n",
       "      <td>ĐỊNH CÔNG</td>\n",
       "      <td>BYROAD</td>\n",
       "      <td>AVAILABLE</td>\n",
       "      <td>5</td>\n",
       "      <td>3</td>\n",
       "      <td>46.0</td>\n",
       "      <td>120000.0</td>\n",
       "      <td>4300.0</td>\n",
       "      <td>67.39</td>\n",
       "      <td>WEDNESDAY</td>\n",
       "      <td>7</td>\n",
       "      <td>2020</td>\n",
       "      <td>ĐƯỜNG ĐỊNH CÔNG THƯỢNG</td>\n",
       "    </tr>\n",
       "    <tr>\n",
       "      <th>19771</th>\n",
       "      <td>TÂY HỒ</td>\n",
       "      <td>THỤY KHUÊ</td>\n",
       "      <td>STREET_HOUSE</td>\n",
       "      <td>AVAILABLE</td>\n",
       "      <td>4</td>\n",
       "      <td>2</td>\n",
       "      <td>52.0</td>\n",
       "      <td>19000.0</td>\n",
       "      <td>2900.0</td>\n",
       "      <td>167.31</td>\n",
       "      <td>FRIDAY</td>\n",
       "      <td>7</td>\n",
       "      <td>2020</td>\n",
       "      <td>ĐỒNG CỔ</td>\n",
       "    </tr>\n",
       "    <tr>\n",
       "      <th>6869</th>\n",
       "      <td>CẦU GIẤY</td>\n",
       "      <td>NGHĨA ĐÔ</td>\n",
       "      <td>BYROAD</td>\n",
       "      <td>AVAILABLE</td>\n",
       "      <td>1</td>\n",
       "      <td>3</td>\n",
       "      <td>59.0</td>\n",
       "      <td>19000.0</td>\n",
       "      <td>3400.0</td>\n",
       "      <td>81.36</td>\n",
       "      <td>SATURDAY</td>\n",
       "      <td>8</td>\n",
       "      <td>2020</td>\n",
       "      <td>ĐƯỜNG LẠC LONG QUÂN</td>\n",
       "    </tr>\n",
       "    <tr>\n",
       "      <th>47839</th>\n",
       "      <td>BẮC TỪ LIÊM</td>\n",
       "      <td>PHÚ DIỄN</td>\n",
       "      <td>BYROAD</td>\n",
       "      <td>AVAILABLE</td>\n",
       "      <td>5</td>\n",
       "      <td>2</td>\n",
       "      <td>101.0</td>\n",
       "      <td>16500.0</td>\n",
       "      <td>6500.0</td>\n",
       "      <td>33.17</td>\n",
       "      <td>SATURDAY</td>\n",
       "      <td>7</td>\n",
       "      <td>2020</td>\n",
       "      <td>80/59</td>\n",
       "    </tr>\n",
       "    <tr>\n",
       "      <th>77609</th>\n",
       "      <td>CẦU GIẤY</td>\n",
       "      <td>TRUNG HOÀ</td>\n",
       "      <td>BYROAD</td>\n",
       "      <td>AVAILABLE</td>\n",
       "      <td>5</td>\n",
       "      <td>5</td>\n",
       "      <td>70.0</td>\n",
       "      <td>15500.0</td>\n",
       "      <td>4200.0</td>\n",
       "      <td>135.71</td>\n",
       "      <td>WEDNESDAY</td>\n",
       "      <td>6</td>\n",
       "      <td>2020</td>\n",
       "      <td>ĐƯỜNG LÊ VĂN LƯƠNG</td>\n",
       "    </tr>\n",
       "    <tr>\n",
       "      <th>53433</th>\n",
       "      <td>ĐỐNG ĐA</td>\n",
       "      <td>TRUNG LIỆT</td>\n",
       "      <td>BYROAD</td>\n",
       "      <td>AVAILABLE</td>\n",
       "      <td>5</td>\n",
       "      <td>5</td>\n",
       "      <td>71.0</td>\n",
       "      <td>14700.0</td>\n",
       "      <td>4800.0</td>\n",
       "      <td>135.92</td>\n",
       "      <td>TUESDAY</td>\n",
       "      <td>6</td>\n",
       "      <td>2020</td>\n",
       "      <td>PHỐ THÁI THỊNH</td>\n",
       "    </tr>\n",
       "    <tr>\n",
       "      <th>70975</th>\n",
       "      <td>CẦU GIẤY</td>\n",
       "      <td>YÊN HOÀ</td>\n",
       "      <td>BYROAD</td>\n",
       "      <td>AVAILABLE</td>\n",
       "      <td>4</td>\n",
       "      <td>6</td>\n",
       "      <td>50.0</td>\n",
       "      <td>14000.0</td>\n",
       "      <td>3700.0</td>\n",
       "      <td>2.00</td>\n",
       "      <td>TUESDAY</td>\n",
       "      <td>6</td>\n",
       "      <td>2020</td>\n",
       "      <td>88</td>\n",
       "    </tr>\n",
       "    <tr>\n",
       "      <th>71399</th>\n",
       "      <td>HÀ ĐÔNG</td>\n",
       "      <td>VĂN QUÁN</td>\n",
       "      <td>TOWNHOUSE</td>\n",
       "      <td>AVAILABLE</td>\n",
       "      <td>5</td>\n",
       "      <td>5</td>\n",
       "      <td>65.0</td>\n",
       "      <td>14000.0</td>\n",
       "      <td>4500.0</td>\n",
       "      <td>100.00</td>\n",
       "      <td>MONDAY</td>\n",
       "      <td>6</td>\n",
       "      <td>2020</td>\n",
       "      <td>38</td>\n",
       "    </tr>\n",
       "    <tr>\n",
       "      <th>35264</th>\n",
       "      <td>ĐỐNG ĐA</td>\n",
       "      <td>LÁNG THƯỢNG</td>\n",
       "      <td>BYROAD</td>\n",
       "      <td>AVAILABLE</td>\n",
       "      <td>4</td>\n",
       "      <td>4</td>\n",
       "      <td>48.0</td>\n",
       "      <td>13000.0</td>\n",
       "      <td>3700.0</td>\n",
       "      <td>85.42</td>\n",
       "      <td>TUESDAY</td>\n",
       "      <td>7</td>\n",
       "      <td>2020</td>\n",
       "      <td>25</td>\n",
       "    </tr>\n",
       "    <tr>\n",
       "      <th>65170</th>\n",
       "      <td>TÂY HỒ</td>\n",
       "      <td>TỨ LIÊN</td>\n",
       "      <td>STREET_HOUSE</td>\n",
       "      <td>AVAILABLE</td>\n",
       "      <td>5</td>\n",
       "      <td>8</td>\n",
       "      <td>50.0</td>\n",
       "      <td>13000.0</td>\n",
       "      <td>4000.0</td>\n",
       "      <td>152.00</td>\n",
       "      <td>SATURDAY</td>\n",
       "      <td>6</td>\n",
       "      <td>2020</td>\n",
       "      <td>SỐ 89 NGÕ 124 ÂU CƠ</td>\n",
       "    </tr>\n",
       "    <tr>\n",
       "      <th>80657</th>\n",
       "      <td>THANH XUÂN</td>\n",
       "      <td>HẠ ĐÌNH</td>\n",
       "      <td>BYROAD</td>\n",
       "      <td>OTHERS</td>\n",
       "      <td>5</td>\n",
       "      <td>2</td>\n",
       "      <td>51.0</td>\n",
       "      <td>12900.0</td>\n",
       "      <td>3500.0</td>\n",
       "      <td>25.47</td>\n",
       "      <td>SUNDAY</td>\n",
       "      <td>6</td>\n",
       "      <td>2020</td>\n",
       "      <td>ĐƯỜNG BÙI XƯƠNG TRẠCH</td>\n",
       "    </tr>\n",
       "    <tr>\n",
       "      <th>64372</th>\n",
       "      <td>HUYỆN ĐÔNG ANH</td>\n",
       "      <td>VĨNH NGỌC</td>\n",
       "      <td>STREET_HOUSE</td>\n",
       "      <td>OTHERS</td>\n",
       "      <td>5</td>\n",
       "      <td>4</td>\n",
       "      <td>44.0</td>\n",
       "      <td>12550.0</td>\n",
       "      <td>3530.0</td>\n",
       "      <td>73.86</td>\n",
       "      <td>SATURDAY</td>\n",
       "      <td>6</td>\n",
       "      <td>2020</td>\n",
       "      <td>ĐÊ TẢ HỒNG</td>\n",
       "    </tr>\n",
       "    <tr>\n",
       "      <th>62065</th>\n",
       "      <td>HÀ ĐÔNG</td>\n",
       "      <td>LA KHÊ</td>\n",
       "      <td>BYROAD</td>\n",
       "      <td>OTHERS</td>\n",
       "      <td>5</td>\n",
       "      <td>3</td>\n",
       "      <td>44.0</td>\n",
       "      <td>12500.0</td>\n",
       "      <td>3500.0</td>\n",
       "      <td>50.00</td>\n",
       "      <td>MONDAY</td>\n",
       "      <td>6</td>\n",
       "      <td>2020</td>\n",
       "      <td>ĐƯỜNG NGÔ QUYỀN</td>\n",
       "    </tr>\n",
       "    <tr>\n",
       "      <th>13248</th>\n",
       "      <td>HÀ ĐÔNG</td>\n",
       "      <td>PHÚ LA</td>\n",
       "      <td>BYROAD</td>\n",
       "      <td>AVAILABLE</td>\n",
       "      <td>5</td>\n",
       "      <td>4</td>\n",
       "      <td>42.0</td>\n",
       "      <td>11540.0</td>\n",
       "      <td>3700.0</td>\n",
       "      <td>42.86</td>\n",
       "      <td>WEDNESDAY</td>\n",
       "      <td>7</td>\n",
       "      <td>2020</td>\n",
       "      <td>ĐƯỜNG VĂN PHÚ</td>\n",
       "    </tr>\n",
       "    <tr>\n",
       "      <th>72255</th>\n",
       "      <td>THANH XUÂN</td>\n",
       "      <td>KHƯƠNG ĐÌNH</td>\n",
       "      <td>BYROAD</td>\n",
       "      <td>AVAILABLE</td>\n",
       "      <td>5</td>\n",
       "      <td>6</td>\n",
       "      <td>39.0</td>\n",
       "      <td>11380.0</td>\n",
       "      <td>3500.0</td>\n",
       "      <td>93.59</td>\n",
       "      <td>MONDAY</td>\n",
       "      <td>6</td>\n",
       "      <td>2020</td>\n",
       "      <td>ĐƯỜNG QUAN NHÂN</td>\n",
       "    </tr>\n",
       "    <tr>\n",
       "      <th>5101</th>\n",
       "      <td>THANH XUÂN</td>\n",
       "      <td>PHƯƠNG LIỆT</td>\n",
       "      <td>BYROAD</td>\n",
       "      <td>AVAILABLE</td>\n",
       "      <td>5</td>\n",
       "      <td>1</td>\n",
       "      <td>35.0</td>\n",
       "      <td>11000.0</td>\n",
       "      <td>3100.0</td>\n",
       "      <td>71.43</td>\n",
       "      <td>SUNDAY</td>\n",
       "      <td>8</td>\n",
       "      <td>2020</td>\n",
       "      <td>114</td>\n",
       "    </tr>\n",
       "    <tr>\n",
       "      <th>53212</th>\n",
       "      <td>ĐỐNG ĐA</td>\n",
       "      <td>QUANG TRUNG</td>\n",
       "      <td>BYROAD</td>\n",
       "      <td>AVAILABLE</td>\n",
       "      <td>5</td>\n",
       "      <td>4</td>\n",
       "      <td>48.0</td>\n",
       "      <td>10500.0</td>\n",
       "      <td>4200.0</td>\n",
       "      <td>197.92</td>\n",
       "      <td>TUESDAY</td>\n",
       "      <td>6</td>\n",
       "      <td>2020</td>\n",
       "      <td>178</td>\n",
       "    </tr>\n",
       "    <tr>\n",
       "      <th>14580</th>\n",
       "      <td>LONG BIÊN</td>\n",
       "      <td>THẠCH BÀN</td>\n",
       "      <td>BYROAD</td>\n",
       "      <td>AVAILABLE</td>\n",
       "      <td>5</td>\n",
       "      <td>4</td>\n",
       "      <td>37.0</td>\n",
       "      <td>10500.0</td>\n",
       "      <td>3400.0</td>\n",
       "      <td>86.49</td>\n",
       "      <td>TUESDAY</td>\n",
       "      <td>7</td>\n",
       "      <td>2020</td>\n",
       "      <td>ĐƯỜNG NGUYỄN VĂN LINH</td>\n",
       "    </tr>\n",
       "    <tr>\n",
       "      <th>60028</th>\n",
       "      <td>ĐỐNG ĐA</td>\n",
       "      <td>PHƯƠNG MAI</td>\n",
       "      <td>STREET_HOUSE</td>\n",
       "      <td>AVAILABLE</td>\n",
       "      <td>5</td>\n",
       "      <td>3</td>\n",
       "      <td>48.0</td>\n",
       "      <td>10500.0</td>\n",
       "      <td>4300.0</td>\n",
       "      <td>157.29</td>\n",
       "      <td>WEDNESDAY</td>\n",
       "      <td>6</td>\n",
       "      <td>2020</td>\n",
       "      <td>4</td>\n",
       "    </tr>\n",
       "    <tr>\n",
       "      <th>60392</th>\n",
       "      <td>HAI BÀ TRƯNG</td>\n",
       "      <td>VĨNH TUY</td>\n",
       "      <td>BYROAD</td>\n",
       "      <td>AVAILABLE</td>\n",
       "      <td>5</td>\n",
       "      <td>5</td>\n",
       "      <td>34.0</td>\n",
       "      <td>10300.0</td>\n",
       "      <td>3400.0</td>\n",
       "      <td>98.53</td>\n",
       "      <td>TUESDAY</td>\n",
       "      <td>6</td>\n",
       "      <td>2020</td>\n",
       "      <td>36</td>\n",
       "    </tr>\n",
       "  </tbody>\n",
       "</table>\n",
       "</div>"
      ],
      "text/plain": [
       "             District         Ward    House_type Legal_documents No_floor  \\\n",
       "68326       HOÀNG MAI     LĨNH NAM        BYROAD       AVAILABLE        5   \n",
       "11572       HOÀNG MAI    ĐỊNH CÔNG        BYROAD       AVAILABLE        5   \n",
       "19771          TÂY HỒ    THỤY KHUÊ  STREET_HOUSE       AVAILABLE        4   \n",
       "6869         CẦU GIẤY     NGHĨA ĐÔ        BYROAD       AVAILABLE        1   \n",
       "47839     BẮC TỪ LIÊM     PHÚ DIỄN        BYROAD       AVAILABLE        5   \n",
       "77609        CẦU GIẤY    TRUNG HOÀ        BYROAD       AVAILABLE        5   \n",
       "53433         ĐỐNG ĐA   TRUNG LIỆT        BYROAD       AVAILABLE        5   \n",
       "70975        CẦU GIẤY      YÊN HOÀ        BYROAD       AVAILABLE        4   \n",
       "71399         HÀ ĐÔNG     VĂN QUÁN     TOWNHOUSE       AVAILABLE        5   \n",
       "35264         ĐỐNG ĐA  LÁNG THƯỢNG        BYROAD       AVAILABLE        4   \n",
       "65170          TÂY HỒ      TỨ LIÊN  STREET_HOUSE       AVAILABLE        5   \n",
       "80657      THANH XUÂN      HẠ ĐÌNH        BYROAD          OTHERS        5   \n",
       "64372  HUYỆN ĐÔNG ANH    VĨNH NGỌC  STREET_HOUSE          OTHERS        5   \n",
       "62065         HÀ ĐÔNG       LA KHÊ        BYROAD          OTHERS        5   \n",
       "13248         HÀ ĐÔNG       PHÚ LA        BYROAD       AVAILABLE        5   \n",
       "72255      THANH XUÂN  KHƯƠNG ĐÌNH        BYROAD       AVAILABLE        5   \n",
       "5101       THANH XUÂN  PHƯƠNG LIỆT        BYROAD       AVAILABLE        5   \n",
       "53212         ĐỐNG ĐA  QUANG TRUNG        BYROAD       AVAILABLE        5   \n",
       "14580       LONG BIÊN    THẠCH BÀN        BYROAD       AVAILABLE        5   \n",
       "60028         ĐỐNG ĐA   PHƯƠNG MAI  STREET_HOUSE       AVAILABLE        5   \n",
       "60392    HAI BÀ TRƯNG     VĨNH TUY        BYROAD       AVAILABLE        5   \n",
       "\n",
       "      No_bedroom   Area    Length     Width   Price Day_Of_Week  Month  Year  \\\n",
       "68326          4   35.0  900000.0  400000.0   78.57   WEDNESDAY      6  2020   \n",
       "11572          3   46.0  120000.0    4300.0   67.39   WEDNESDAY      7  2020   \n",
       "19771          2   52.0   19000.0    2900.0  167.31      FRIDAY      7  2020   \n",
       "6869           3   59.0   19000.0    3400.0   81.36    SATURDAY      8  2020   \n",
       "47839          2  101.0   16500.0    6500.0   33.17    SATURDAY      7  2020   \n",
       "77609          5   70.0   15500.0    4200.0  135.71   WEDNESDAY      6  2020   \n",
       "53433          5   71.0   14700.0    4800.0  135.92     TUESDAY      6  2020   \n",
       "70975          6   50.0   14000.0    3700.0    2.00     TUESDAY      6  2020   \n",
       "71399          5   65.0   14000.0    4500.0  100.00      MONDAY      6  2020   \n",
       "35264          4   48.0   13000.0    3700.0   85.42     TUESDAY      7  2020   \n",
       "65170          8   50.0   13000.0    4000.0  152.00    SATURDAY      6  2020   \n",
       "80657          2   51.0   12900.0    3500.0   25.47      SUNDAY      6  2020   \n",
       "64372          4   44.0   12550.0    3530.0   73.86    SATURDAY      6  2020   \n",
       "62065          3   44.0   12500.0    3500.0   50.00      MONDAY      6  2020   \n",
       "13248          4   42.0   11540.0    3700.0   42.86   WEDNESDAY      7  2020   \n",
       "72255          6   39.0   11380.0    3500.0   93.59      MONDAY      6  2020   \n",
       "5101           1   35.0   11000.0    3100.0   71.43      SUNDAY      8  2020   \n",
       "53212          4   48.0   10500.0    4200.0  197.92     TUESDAY      6  2020   \n",
       "14580          4   37.0   10500.0    3400.0   86.49     TUESDAY      7  2020   \n",
       "60028          3   48.0   10500.0    4300.0  157.29   WEDNESDAY      6  2020   \n",
       "60392          5   34.0   10300.0    3400.0   98.53     TUESDAY      6  2020   \n",
       "\n",
       "                       Street  \n",
       "68326         ĐƯỜNG THANH LÂN  \n",
       "11572  ĐƯỜNG ĐỊNH CÔNG THƯỢNG  \n",
       "19771                 ĐỒNG CỔ  \n",
       "6869      ĐƯỜNG LẠC LONG QUÂN  \n",
       "47839                   80/59  \n",
       "77609      ĐƯỜNG LÊ VĂN LƯƠNG  \n",
       "53433          PHỐ THÁI THỊNH  \n",
       "70975                      88  \n",
       "71399                      38  \n",
       "35264                      25  \n",
       "65170     SỐ 89 NGÕ 124 ÂU CƠ  \n",
       "80657   ĐƯỜNG BÙI XƯƠNG TRẠCH  \n",
       "64372              ĐÊ TẢ HỒNG  \n",
       "62065         ĐƯỜNG NGÔ QUYỀN  \n",
       "13248           ĐƯỜNG VĂN PHÚ  \n",
       "72255         ĐƯỜNG QUAN NHÂN  \n",
       "5101                      114  \n",
       "53212                     178  \n",
       "14580   ĐƯỜNG NGUYỄN VĂN LINH  \n",
       "60028                       4  \n",
       "60392                      36  "
      ]
     },
     "execution_count": 43,
     "metadata": {},
     "output_type": "execute_result"
    }
   ],
   "source": [
    "#put all outlier values into descending order\n",
    "df[df['Length']>10000].sort_values(by='Length', ascending=False)"
   ]
  },
  {
   "cell_type": "code",
   "execution_count": 44,
   "id": "7410028b",
   "metadata": {},
   "outputs": [],
   "source": [
    "#I decided to drop first 2 columns with largest Length since they have way bigger Length than others\n",
    "df.drop(df[df['Area'] >= 120000].index, inplace = True)\n"
   ]
  },
  {
   "cell_type": "code",
   "execution_count": 45,
   "id": "7b731ab4",
   "metadata": {},
   "outputs": [
    {
     "data": {
      "text/html": [
       "<div>\n",
       "<style scoped>\n",
       "    .dataframe tbody tr th:only-of-type {\n",
       "        vertical-align: middle;\n",
       "    }\n",
       "\n",
       "    .dataframe tbody tr th {\n",
       "        vertical-align: top;\n",
       "    }\n",
       "\n",
       "    .dataframe thead th {\n",
       "        text-align: right;\n",
       "    }\n",
       "</style>\n",
       "<table border=\"1\" class=\"dataframe\">\n",
       "  <thead>\n",
       "    <tr style=\"text-align: right;\">\n",
       "      <th></th>\n",
       "      <th>District</th>\n",
       "      <th>Ward</th>\n",
       "      <th>House_type</th>\n",
       "      <th>Legal_documents</th>\n",
       "      <th>No_floor</th>\n",
       "      <th>No_bedroom</th>\n",
       "      <th>Area</th>\n",
       "      <th>Length</th>\n",
       "      <th>Width</th>\n",
       "      <th>Price</th>\n",
       "      <th>Day_Of_Week</th>\n",
       "      <th>Month</th>\n",
       "      <th>Year</th>\n",
       "      <th>Street</th>\n",
       "    </tr>\n",
       "  </thead>\n",
       "  <tbody>\n",
       "  </tbody>\n",
       "</table>\n",
       "</div>"
      ],
      "text/plain": [
       "Empty DataFrame\n",
       "Columns: [District, Ward, House_type, Legal_documents, No_floor, No_bedroom, Area, Length, Width, Price, Day_Of_Week, Month, Year, Street]\n",
       "Index: []"
      ]
     },
     "execution_count": 45,
     "metadata": {},
     "output_type": "execute_result"
    }
   ],
   "source": [
    "#I change other Length values in the outlier rows to median Length\n",
    "\n",
    "df.loc[:,\"Length\"].median()\n",
    "df['Length'] = df.groupby('Length').transform('mean')\n",
    "df[df['Area'] >= 10000]"
   ]
  },
  {
   "cell_type": "code",
   "execution_count": 46,
   "id": "145e1035",
   "metadata": {},
   "outputs": [
    {
     "data": {
      "text/html": [
       "<div>\n",
       "<style scoped>\n",
       "    .dataframe tbody tr th:only-of-type {\n",
       "        vertical-align: middle;\n",
       "    }\n",
       "\n",
       "    .dataframe tbody tr th {\n",
       "        vertical-align: top;\n",
       "    }\n",
       "\n",
       "    .dataframe thead th {\n",
       "        text-align: right;\n",
       "    }\n",
       "</style>\n",
       "<table border=\"1\" class=\"dataframe\">\n",
       "  <thead>\n",
       "    <tr style=\"text-align: right;\">\n",
       "      <th></th>\n",
       "      <th>District</th>\n",
       "      <th>Ward</th>\n",
       "      <th>House_type</th>\n",
       "      <th>Legal_documents</th>\n",
       "      <th>No_floor</th>\n",
       "      <th>No_bedroom</th>\n",
       "      <th>Area</th>\n",
       "      <th>Length</th>\n",
       "      <th>Width</th>\n",
       "      <th>Price</th>\n",
       "      <th>Day_Of_Week</th>\n",
       "      <th>Month</th>\n",
       "      <th>Year</th>\n",
       "      <th>Street</th>\n",
       "    </tr>\n",
       "  </thead>\n",
       "  <tbody>\n",
       "    <tr>\n",
       "      <th>38798</th>\n",
       "      <td>HOÀNG MAI</td>\n",
       "      <td>LĨNH NAM</td>\n",
       "      <td>BYROAD</td>\n",
       "      <td>AVAILABLE</td>\n",
       "      <td>5</td>\n",
       "      <td>4</td>\n",
       "      <td>31.0</td>\n",
       "      <td>31.017558</td>\n",
       "      <td>26000.0</td>\n",
       "      <td>83.87</td>\n",
       "      <td>SATURDAY</td>\n",
       "      <td>7</td>\n",
       "      <td>2020</td>\n",
       "      <td>ĐƯỜNG NAM DƯ</td>\n",
       "    </tr>\n",
       "    <tr>\n",
       "      <th>68326</th>\n",
       "      <td>HOÀNG MAI</td>\n",
       "      <td>LĨNH NAM</td>\n",
       "      <td>BYROAD</td>\n",
       "      <td>AVAILABLE</td>\n",
       "      <td>5</td>\n",
       "      <td>4</td>\n",
       "      <td>35.0</td>\n",
       "      <td>35.000000</td>\n",
       "      <td>400000.0</td>\n",
       "      <td>78.57</td>\n",
       "      <td>WEDNESDAY</td>\n",
       "      <td>6</td>\n",
       "      <td>2020</td>\n",
       "      <td>ĐƯỜNG THANH LÂN</td>\n",
       "    </tr>\n",
       "    <tr>\n",
       "      <th>74634</th>\n",
       "      <td>HAI BÀ TRƯNG</td>\n",
       "      <td>MINH KHAI</td>\n",
       "      <td>BYROAD</td>\n",
       "      <td>AVAILABLE</td>\n",
       "      <td>5</td>\n",
       "      <td>3</td>\n",
       "      <td>31.0</td>\n",
       "      <td>31.017558</td>\n",
       "      <td>423432.0</td>\n",
       "      <td>113.87</td>\n",
       "      <td>FRIDAY</td>\n",
       "      <td>6</td>\n",
       "      <td>2020</td>\n",
       "      <td>ĐƯỜNG MINH KHAI</td>\n",
       "    </tr>\n",
       "  </tbody>\n",
       "</table>\n",
       "</div>"
      ],
      "text/plain": [
       "           District       Ward House_type Legal_documents No_floor No_bedroom  \\\n",
       "38798     HOÀNG MAI   LĨNH NAM     BYROAD       AVAILABLE        5          4   \n",
       "68326     HOÀNG MAI   LĨNH NAM     BYROAD       AVAILABLE        5          4   \n",
       "74634  HAI BÀ TRƯNG  MINH KHAI     BYROAD       AVAILABLE        5          3   \n",
       "\n",
       "       Area     Length     Width   Price Day_Of_Week  Month  Year  \\\n",
       "38798  31.0  31.017558   26000.0   83.87    SATURDAY      7  2020   \n",
       "68326  35.0  35.000000  400000.0   78.57   WEDNESDAY      6  2020   \n",
       "74634  31.0  31.017558  423432.0  113.87      FRIDAY      6  2020   \n",
       "\n",
       "                Street  \n",
       "38798     ĐƯỜNG NAM DƯ  \n",
       "68326  ĐƯỜNG THANH LÂN  \n",
       "74634  ĐƯỜNG MINH KHAI  "
      ]
     },
     "execution_count": 46,
     "metadata": {},
     "output_type": "execute_result"
    }
   ],
   "source": [
    "#Detect outliers bases on graph and remove them\n",
    "df[df['Width']>10000]"
   ]
  },
  {
   "cell_type": "code",
   "execution_count": 47,
   "id": "21835f1b",
   "metadata": {},
   "outputs": [],
   "source": [
    "#Since there are only 3 rows , I decide to drop the outliers\n",
    "df.drop(df[df['Width'] > 10000].index, inplace = True)\n"
   ]
  },
  {
   "cell_type": "markdown",
   "id": "0c20f14c",
   "metadata": {},
   "source": [
    "### ---------> OBSERVATION\n",
    "> For all numerical columns, I see some extreme outlier values in `Area`, `Length`, and `Width`. Let's investigate them further to see if they are real outliers or not using statistical techniques."
   ]
  },
  {
   "cell_type": "markdown",
   "id": "42992a7e",
   "metadata": {},
   "source": [
    "### Interquartile Range"
   ]
  },
  {
   "cell_type": "code",
   "execution_count": 48,
   "id": "b151c91a",
   "metadata": {
    "pycharm": {
     "name": "#%%\n"
    }
   },
   "outputs": [
    {
     "name": "stdout",
     "output_type": "stream",
     "text": [
      "q1_Price: 73.33 \n",
      "\n",
      "q3_Price: 110.29 \n",
      "\n",
      "iqr_Price: 36.96000000000001\n"
     ]
    }
   ],
   "source": [
    "q1_Price = df['Price'].quantile(.25)\n",
    "q3_Price = df['Price'].quantile(.75)\n",
    "iqr_Price = q3_Price - q1_Price\n",
    "\n",
    "print(\"q1_Price:\", q1_Price, \"\\n\")\n",
    "print(\"q3_Price:\", q3_Price, \"\\n\")\n",
    "print(\"iqr_Price:\", iqr_Price)"
   ]
  },
  {
   "cell_type": "code",
   "execution_count": 49,
   "id": "b0ba5256",
   "metadata": {
    "pycharm": {
     "name": "#%%\n"
    }
   },
   "outputs": [
    {
     "data": {
      "text/plain": [
       "(0.0, 400.0)"
      ]
     },
     "execution_count": 49,
     "metadata": {},
     "output_type": "execute_result"
    },
    {
     "data": {
      "image/png": "[encoded data removed]",
      "text/plain": [
       "<Figure size 864x576 with 1 Axes>"
      ]
     },
     "metadata": {
      "needs_background": "light"
     },
     "output_type": "display_data"
    }
   ],
   "source": [
    "plt.figure(figsize=(12, 8))\n",
    "\n",
    "df['Price'].hist(bins=30)\n",
    "\n",
    "plt.axvline(q1_Price, color='r', label='Q1')\n",
    "plt.axvline(q3_Price, color='g', label='Q2')\n",
    "\n",
    "plt.legend()\n",
    "\n",
    "# plt.ylim(0,50000)\n",
    "plt.xlim(0,400)"
   ]
  },
  {
   "cell_type": "markdown",
   "id": "134042d6",
   "metadata": {},
   "source": [
    "### Standard Deviation"
   ]
  },
  {
   "cell_type": "code",
   "execution_count": 50,
   "id": "070d2fed",
   "metadata": {
    "pycharm": {
     "name": "#%%\n"
    }
   },
   "outputs": [
    {
     "name": "stdout",
     "output_type": "stream",
     "text": [
      "Mean Price: 102.4584335591133 \n",
      "\n",
      "Standard deviation Price: 63.24146929544569 \n",
      "\n"
     ]
    }
   ],
   "source": [
    "Price_mean = df['Price'].mean()\n",
    "\n",
    "Price_std = df['Price'].std()\n",
    "\n",
    "print(\"Mean Price:\", Price_mean, \"\\n\")\n",
    "print(\"Standard deviation Price:\", Price_std, \"\\n\")"
   ]
  },
  {
   "cell_type": "code",
   "execution_count": 51,
   "id": "ca1424e5",
   "metadata": {
    "pycharm": {
     "name": "#%%\n"
    }
   },
   "outputs": [
    {
     "data": {
      "text/plain": [
       "(0.0, 450.0)"
      ]
     },
     "execution_count": 51,
     "metadata": {},
     "output_type": "execute_result"
    },
    {
     "data": {
      "image/png": "[encoded data removed]",
      "text/plain": [
       "<Figure size 864x576 with 1 Axes>"
      ]
     },
     "metadata": {
      "needs_background": "light"
     },
     "output_type": "display_data"
    }
   ],
   "source": [
    "plt.figure(figsize=(12, 8))\n",
    "\n",
    "df['Price'].hist(bins=20)\n",
    "\n",
    "plt.axvline(Price_mean, color='r', label='mean')\n",
    "\n",
    "plt.axvline(Price_mean - Price_std, color='g', label='1 standard deviation')\n",
    "plt.axvline(Price_mean + Price_std, color='g', label='1 standard deviation')\n",
    "\n",
    "plt.legend()\n",
    "\n",
    "# plt.ylim(0,50000)\n",
    "plt.xlim(0,450)"
   ]
  },
  {
   "cell_type": "markdown",
   "id": "eb31c314",
   "metadata": {},
   "source": [
    "# Descriptive statistics for Variability Using Pandas"
   ]
  },
  {
   "cell_type": "code",
   "execution_count": 52,
   "id": "6b03883d",
   "metadata": {
    "pycharm": {
     "name": "#%%\n"
    }
   },
   "outputs": [],
   "source": [
    "Price_mean = df['Price'].mean()\n",
    "\n",
    "Price_median = df['Price'].median()\n",
    "\n",
    "Price_mode = df['Price'].mode().values[0]"
   ]
  },
  {
   "cell_type": "code",
   "execution_count": 53,
   "id": "08a15124",
   "metadata": {
    "pycharm": {
     "name": "#%%\n"
    }
   },
   "outputs": [
    {
     "data": {
      "text/plain": [
       "(0.0, 550.0)"
      ]
     },
     "execution_count": 53,
     "metadata": {},
     "output_type": "execute_result"
    },
    {
     "data": {
      "image/png": "[encoded data removed]",
      "text/plain": [
       "<Figure size 864x576 with 1 Axes>"
      ]
     },
     "metadata": {
      "needs_background": "light"
     },
     "output_type": "display_data"
    }
   ],
   "source": [
    "plt.figure(figsize=(12, 8))\n",
    "\n",
    "df['Price'].hist()\n",
    "\n",
    "plt.axvline(Price_mean, color='r', label='mean')\n",
    "plt.axvline(Price_median, color='g', label='median')\n",
    "plt.axvline(Price_mode, color='y', label='mode')\n",
    "\n",
    "plt.legend()\n",
    "\n",
    "# plt.ylim(0,50000)\n",
    "plt.xlim(0,550)"
   ]
  },
  {
   "cell_type": "markdown",
   "id": "3eba3969",
   "metadata": {},
   "source": [
    "### ---------> OBSERVATION\n",
    "> The mean larger than the median indicates that the data is skewed to the right."
   ]
  },
  {
   "cell_type": "code",
   "execution_count": 54,
   "id": "61edc0a1",
   "metadata": {
    "pycharm": {
     "name": "#%%\n"
    }
   },
   "outputs": [
    {
     "data": {
      "text/plain": [
       "{'BYROAD': 61383, 'STREET_HOUSE': 16991, 'VILLA': 951, 'TOWNHOUSE': 1875}"
      ]
     },
     "execution_count": 54,
     "metadata": {},
     "output_type": "execute_result"
    }
   ],
   "source": [
    "House_type_counts = {}\n",
    "\n",
    "for p in df['House_type']:\n",
    "    if p not in House_type_counts:\n",
    "        House_type_counts[p] = 1\n",
    "    else:\n",
    "        House_type_counts[p] += 1\n",
    "\n",
    "House_type_counts"
   ]
  },
  {
   "cell_type": "code",
   "execution_count": 55,
   "id": "66230f00",
   "metadata": {
    "pycharm": {
     "name": "#%%\n"
    }
   },
   "outputs": [
    {
     "data": {
      "image/png": "[encoded data removed]",
      "text/plain": [
       "<Figure size 1800x720 with 1 Axes>"
      ]
     },
     "metadata": {
      "needs_background": "light"
     },
     "output_type": "display_data"
    }
   ],
   "source": [
    "plt.figure(figsize=(25, 10))\n",
    "\n",
    "x_range = range(len(House_type_counts))\n",
    "\n",
    "plt.bar(x_range, list(House_type_counts.values()), align='center')\n",
    "plt.xticks(x_range, list(House_type_counts.keys()))\n",
    "\n",
    "plt.xlabel('House_type')\n",
    "plt.ylabel('Count')\n",
    "\n",
    "plt.show()"
   ]
  },
  {
   "cell_type": "markdown",
   "id": "209dd515",
   "metadata": {},
   "source": [
    "### ---------> OBSERVATION\n",
    "> BYROAD has the highest count of houses"
   ]
  },
  {
   "cell_type": "markdown",
   "id": "576b5af1",
   "metadata": {},
   "source": [
    "<a id=\"2\"></a>\n",
    "<h1 style=\"color:#ffc0cb;font-size:40px;font-family:Georgia;text-align:center;\"><strong>Checking for impossiple values - DUC</strong></h1>"
   ]
  },
  {
   "cell_type": "code",
   "execution_count": 56,
   "id": "ecab6568",
   "metadata": {
    "pycharm": {
     "name": "#%%\n"
    }
   },
   "outputs": [],
   "source": [
    "# Rules and policies for building houses in Hanoi is taken from Havaco VN website.\n",
    "\n",
    "# houses in cities have area of 40 m2 will only have at most 5 floors. Therefore, we have to code filter the dataframe\n",
    "# to exclude those who are not satisfy the condition.\n",
    "\n",
    "# About townhouse policy:\n",
    "\n",
    "#Townhouse can't be build more than 6 floors. Townhouse in alley smaller than 6m can't be more than 4 floors.\n",
    "#Land for building with area from 30m2 to 40m2, house can be build no more than 4 floors and 1 attic.\n",
    "#Land for building with area more than 50m2, houser can be build at most 6 floors.\n",
    "\n",
    "#About street_house policy:\n",
    "\n",
    "#Land for building with area from 15m2 to less than 30m2, house can be build at most 4 floors and 1 attic.\n",
    "#Land for building with area from 30m2 to less than 40m2 , hosue can be build at most 4 floors and 1 attic.\n",
    "#Land for building with area more than 50m2, house can be build at most 6 floors.\n",
    "\n",
    "#Citation:\n",
    "#Công ty TNHH Nội thất Havaco Việt Nam. 2021. Quy định chiều cao xây dựng nhà ở Hà Nội. [online] Available at: <https://havacovn.com/goc-tu-van/quy-dinh-chieu-cao-xay-dung-nha-o-ha-noi> [Accessed 26 December 2021]."
   ]
  },
  {
   "cell_type": "code",
   "execution_count": 57,
   "id": "e3f214db",
   "metadata": {
    "pycharm": {
     "name": "#%%\n"
    }
   },
   "outputs": [
    {
     "data": {
      "text/html": [
       "<div>\n",
       "<style scoped>\n",
       "    .dataframe tbody tr th:only-of-type {\n",
       "        vertical-align: middle;\n",
       "    }\n",
       "\n",
       "    .dataframe tbody tr th {\n",
       "        vertical-align: top;\n",
       "    }\n",
       "\n",
       "    .dataframe thead th {\n",
       "        text-align: right;\n",
       "    }\n",
       "</style>\n",
       "<table border=\"1\" class=\"dataframe\">\n",
       "  <thead>\n",
       "    <tr style=\"text-align: right;\">\n",
       "      <th></th>\n",
       "      <th>District</th>\n",
       "      <th>Ward</th>\n",
       "      <th>House_type</th>\n",
       "      <th>Legal_documents</th>\n",
       "      <th>No_floor</th>\n",
       "      <th>No_bedroom</th>\n",
       "      <th>Area</th>\n",
       "      <th>Length</th>\n",
       "      <th>Width</th>\n",
       "      <th>Price</th>\n",
       "      <th>Day_Of_Week</th>\n",
       "      <th>Month</th>\n",
       "      <th>Year</th>\n",
       "      <th>Street</th>\n",
       "    </tr>\n",
       "  </thead>\n",
       "  <tbody>\n",
       "    <tr>\n",
       "      <th>0</th>\n",
       "      <td>CẦU GIẤY</td>\n",
       "      <td>NGHĨA ĐÔ</td>\n",
       "      <td>BYROAD</td>\n",
       "      <td>AVAILABLE</td>\n",
       "      <td>4</td>\n",
       "      <td>5</td>\n",
       "      <td>46.0</td>\n",
       "      <td>46.649197</td>\n",
       "      <td>4.0</td>\n",
       "      <td>86.96</td>\n",
       "      <td>WEDNESDAY</td>\n",
       "      <td>8</td>\n",
       "      <td>2020</td>\n",
       "      <td>ĐƯỜNG HOÀNG QUỐC VIỆT</td>\n",
       "    </tr>\n",
       "    <tr>\n",
       "      <th>1</th>\n",
       "      <td>THANH XUÂN</td>\n",
       "      <td>KIM GIANG</td>\n",
       "      <td>STREET_HOUSE</td>\n",
       "      <td>OTHERS</td>\n",
       "      <td>5</td>\n",
       "      <td>3</td>\n",
       "      <td>37.0</td>\n",
       "      <td>40.541566</td>\n",
       "      <td>4.0</td>\n",
       "      <td>116.22</td>\n",
       "      <td>WEDNESDAY</td>\n",
       "      <td>8</td>\n",
       "      <td>2020</td>\n",
       "      <td>ĐƯỜNG KIM GIANG</td>\n",
       "    </tr>\n",
       "    <tr>\n",
       "      <th>2</th>\n",
       "      <td>HAI BÀ TRƯNG</td>\n",
       "      <td>MINH KHAI</td>\n",
       "      <td>BYROAD</td>\n",
       "      <td>AVAILABLE</td>\n",
       "      <td>4</td>\n",
       "      <td>4</td>\n",
       "      <td>40.0</td>\n",
       "      <td>40.541566</td>\n",
       "      <td>4.0</td>\n",
       "      <td>65.00</td>\n",
       "      <td>WEDNESDAY</td>\n",
       "      <td>8</td>\n",
       "      <td>2020</td>\n",
       "      <td>PHỐ MINH KHAI</td>\n",
       "    </tr>\n",
       "    <tr>\n",
       "      <th>3</th>\n",
       "      <td>TÂY HỒ</td>\n",
       "      <td>THỤY KHUÊ</td>\n",
       "      <td>BYROAD</td>\n",
       "      <td>AVAILABLE</td>\n",
       "      <td>5</td>\n",
       "      <td>6</td>\n",
       "      <td>51.0</td>\n",
       "      <td>51.000000</td>\n",
       "      <td>4.0</td>\n",
       "      <td>100.00</td>\n",
       "      <td>WEDNESDAY</td>\n",
       "      <td>8</td>\n",
       "      <td>2020</td>\n",
       "      <td>ĐƯỜNG VÕNG THỊ</td>\n",
       "    </tr>\n",
       "    <tr>\n",
       "      <th>4</th>\n",
       "      <td>THANH XUÂN</td>\n",
       "      <td>KIM GIANG</td>\n",
       "      <td>BYROAD</td>\n",
       "      <td>OTHERS</td>\n",
       "      <td>5</td>\n",
       "      <td>4</td>\n",
       "      <td>36.0</td>\n",
       "      <td>35.348977</td>\n",
       "      <td>4.0</td>\n",
       "      <td>86.11</td>\n",
       "      <td>WEDNESDAY</td>\n",
       "      <td>8</td>\n",
       "      <td>2020</td>\n",
       "      <td>ĐƯỜNG KIM GIANG</td>\n",
       "    </tr>\n",
       "    <tr>\n",
       "      <th>...</th>\n",
       "      <td>...</td>\n",
       "      <td>...</td>\n",
       "      <td>...</td>\n",
       "      <td>...</td>\n",
       "      <td>...</td>\n",
       "      <td>...</td>\n",
       "      <td>...</td>\n",
       "      <td>...</td>\n",
       "      <td>...</td>\n",
       "      <td>...</td>\n",
       "      <td>...</td>\n",
       "      <td>...</td>\n",
       "      <td>...</td>\n",
       "      <td>...</td>\n",
       "    </tr>\n",
       "    <tr>\n",
       "      <th>82491</th>\n",
       "      <td>BẮC TỪ LIÊM</td>\n",
       "      <td>PHÚC DIỄN</td>\n",
       "      <td>TOWNHOUSE</td>\n",
       "      <td>OTHERS</td>\n",
       "      <td>5</td>\n",
       "      <td>3</td>\n",
       "      <td>38.0</td>\n",
       "      <td>40.541566</td>\n",
       "      <td>4.0</td>\n",
       "      <td>81.58</td>\n",
       "      <td>FRIDAY</td>\n",
       "      <td>8</td>\n",
       "      <td>2019</td>\n",
       "      <td>ĐƯỜNG HỒ TÙNG MẬU</td>\n",
       "    </tr>\n",
       "    <tr>\n",
       "      <th>82492</th>\n",
       "      <td>CẦU GIẤY</td>\n",
       "      <td>QUAN HOA</td>\n",
       "      <td>STREET_HOUSE</td>\n",
       "      <td>OTHERS</td>\n",
       "      <td>5</td>\n",
       "      <td>3</td>\n",
       "      <td>50.0</td>\n",
       "      <td>46.649197</td>\n",
       "      <td>4.0</td>\n",
       "      <td>292.00</td>\n",
       "      <td>WEDNESDAY</td>\n",
       "      <td>8</td>\n",
       "      <td>2019</td>\n",
       "      <td>ĐƯỜNG TRẦN QUỐC HOÀN</td>\n",
       "    </tr>\n",
       "    <tr>\n",
       "      <th>82493</th>\n",
       "      <td>CẦU GIẤY</td>\n",
       "      <td>QUAN HOA</td>\n",
       "      <td>STREET_HOUSE</td>\n",
       "      <td>AVAILABLE</td>\n",
       "      <td>5</td>\n",
       "      <td>4</td>\n",
       "      <td>41.0</td>\n",
       "      <td>40.541566</td>\n",
       "      <td>4.0</td>\n",
       "      <td>341.46</td>\n",
       "      <td>WEDNESDAY</td>\n",
       "      <td>8</td>\n",
       "      <td>2019</td>\n",
       "      <td>ĐƯỜNG NGUYỄN KHÁNH TOÀN</td>\n",
       "    </tr>\n",
       "    <tr>\n",
       "      <th>82494</th>\n",
       "      <td>CẦU GIẤY</td>\n",
       "      <td>QUAN HOA</td>\n",
       "      <td>BYROAD</td>\n",
       "      <td>AVAILABLE</td>\n",
       "      <td>5</td>\n",
       "      <td>4</td>\n",
       "      <td>60.0</td>\n",
       "      <td>54.231148</td>\n",
       "      <td>5.0</td>\n",
       "      <td>101.67</td>\n",
       "      <td>MONDAY</td>\n",
       "      <td>8</td>\n",
       "      <td>2019</td>\n",
       "      <td>ĐƯỜNG QUAN HOA</td>\n",
       "    </tr>\n",
       "    <tr>\n",
       "      <th>82495</th>\n",
       "      <td>CẦU GIẤY</td>\n",
       "      <td>MAI DỊCH</td>\n",
       "      <td>TOWNHOUSE</td>\n",
       "      <td>OTHERS</td>\n",
       "      <td>5</td>\n",
       "      <td>4</td>\n",
       "      <td>45.0</td>\n",
       "      <td>46.649197</td>\n",
       "      <td>4.0</td>\n",
       "      <td>102.22</td>\n",
       "      <td>MONDAY</td>\n",
       "      <td>8</td>\n",
       "      <td>2019</td>\n",
       "      <td>ĐƯỜNG HỒ TÙNG MẬU</td>\n",
       "    </tr>\n",
       "  </tbody>\n",
       "</table>\n",
       "<p>81200 rows × 14 columns</p>\n",
       "</div>"
      ],
      "text/plain": [
       "           District       Ward    House_type Legal_documents No_floor  \\\n",
       "0          CẦU GIẤY   NGHĨA ĐÔ        BYROAD       AVAILABLE        4   \n",
       "1        THANH XUÂN  KIM GIANG  STREET_HOUSE          OTHERS        5   \n",
       "2      HAI BÀ TRƯNG  MINH KHAI        BYROAD       AVAILABLE        4   \n",
       "3            TÂY HỒ  THỤY KHUÊ        BYROAD       AVAILABLE        5   \n",
       "4        THANH XUÂN  KIM GIANG        BYROAD          OTHERS        5   \n",
       "...             ...        ...           ...             ...      ...   \n",
       "82491   BẮC TỪ LIÊM  PHÚC DIỄN     TOWNHOUSE          OTHERS        5   \n",
       "82492      CẦU GIẤY   QUAN HOA  STREET_HOUSE          OTHERS        5   \n",
       "82493      CẦU GIẤY   QUAN HOA  STREET_HOUSE       AVAILABLE        5   \n",
       "82494      CẦU GIẤY   QUAN HOA        BYROAD       AVAILABLE        5   \n",
       "82495      CẦU GIẤY   MAI DỊCH     TOWNHOUSE          OTHERS        5   \n",
       "\n",
       "      No_bedroom  Area     Length  Width   Price Day_Of_Week  Month  Year  \\\n",
       "0              5  46.0  46.649197    4.0   86.96   WEDNESDAY      8  2020   \n",
       "1              3  37.0  40.541566    4.0  116.22   WEDNESDAY      8  2020   \n",
       "2              4  40.0  40.541566    4.0   65.00   WEDNESDAY      8  2020   \n",
       "3              6  51.0  51.000000    4.0  100.00   WEDNESDAY      8  2020   \n",
       "4              4  36.0  35.348977    4.0   86.11   WEDNESDAY      8  2020   \n",
       "...          ...   ...        ...    ...     ...         ...    ...   ...   \n",
       "82491          3  38.0  40.541566    4.0   81.58      FRIDAY      8  2019   \n",
       "82492          3  50.0  46.649197    4.0  292.00   WEDNESDAY      8  2019   \n",
       "82493          4  41.0  40.541566    4.0  341.46   WEDNESDAY      8  2019   \n",
       "82494          4  60.0  54.231148    5.0  101.67      MONDAY      8  2019   \n",
       "82495          4  45.0  46.649197    4.0  102.22      MONDAY      8  2019   \n",
       "\n",
       "                        Street  \n",
       "0        ĐƯỜNG HOÀNG QUỐC VIỆT  \n",
       "1              ĐƯỜNG KIM GIANG  \n",
       "2                PHỐ MINH KHAI  \n",
       "3               ĐƯỜNG VÕNG THỊ  \n",
       "4              ĐƯỜNG KIM GIANG  \n",
       "...                        ...  \n",
       "82491        ĐƯỜNG HỒ TÙNG MẬU  \n",
       "82492     ĐƯỜNG TRẦN QUỐC HOÀN  \n",
       "82493  ĐƯỜNG NGUYỄN KHÁNH TOÀN  \n",
       "82494           ĐƯỜNG QUAN HOA  \n",
       "82495        ĐƯỜNG HỒ TÙNG MẬU  \n",
       "\n",
       "[81200 rows x 14 columns]"
      ]
     },
     "execution_count": 57,
     "metadata": {},
     "output_type": "execute_result"
    }
   ],
   "source": [
    "df"
   ]
  },
  {
   "cell_type": "code",
   "execution_count": 58,
   "id": "edd835ae",
   "metadata": {
    "pycharm": {
     "name": "#%%\n"
    }
   },
   "outputs": [],
   "source": [
    "#1st policy for town houses:\n",
    "\n",
    "df.drop(df[df['No_floor'] == 'GREATER_THAN_10'].index, inplace = True)"
   ]
  },
  {
   "cell_type": "code",
   "execution_count": 59,
   "id": "e00772cc",
   "metadata": {},
   "outputs": [
    {
     "data": {
      "text/html": [
       "<div>\n",
       "<style scoped>\n",
       "    .dataframe tbody tr th:only-of-type {\n",
       "        vertical-align: middle;\n",
       "    }\n",
       "\n",
       "    .dataframe tbody tr th {\n",
       "        vertical-align: top;\n",
       "    }\n",
       "\n",
       "    .dataframe thead th {\n",
       "        text-align: right;\n",
       "    }\n",
       "</style>\n",
       "<table border=\"1\" class=\"dataframe\">\n",
       "  <thead>\n",
       "    <tr style=\"text-align: right;\">\n",
       "      <th></th>\n",
       "      <th>District</th>\n",
       "      <th>Ward</th>\n",
       "      <th>House_type</th>\n",
       "      <th>Legal_documents</th>\n",
       "      <th>No_floor</th>\n",
       "      <th>No_bedroom</th>\n",
       "      <th>Area</th>\n",
       "      <th>Length</th>\n",
       "      <th>Width</th>\n",
       "      <th>Price</th>\n",
       "      <th>Day_Of_Week</th>\n",
       "      <th>Month</th>\n",
       "      <th>Year</th>\n",
       "      <th>Street</th>\n",
       "    </tr>\n",
       "  </thead>\n",
       "  <tbody>\n",
       "    <tr>\n",
       "      <th>0</th>\n",
       "      <td>CẦU GIẤY</td>\n",
       "      <td>NGHĨA ĐÔ</td>\n",
       "      <td>BYROAD</td>\n",
       "      <td>AVAILABLE</td>\n",
       "      <td>4</td>\n",
       "      <td>5</td>\n",
       "      <td>46.0</td>\n",
       "      <td>46.649197</td>\n",
       "      <td>4.0</td>\n",
       "      <td>86.96</td>\n",
       "      <td>WEDNESDAY</td>\n",
       "      <td>8</td>\n",
       "      <td>2020</td>\n",
       "      <td>ĐƯỜNG HOÀNG QUỐC VIỆT</td>\n",
       "    </tr>\n",
       "    <tr>\n",
       "      <th>1</th>\n",
       "      <td>THANH XUÂN</td>\n",
       "      <td>KIM GIANG</td>\n",
       "      <td>STREET_HOUSE</td>\n",
       "      <td>OTHERS</td>\n",
       "      <td>5</td>\n",
       "      <td>3</td>\n",
       "      <td>37.0</td>\n",
       "      <td>40.541566</td>\n",
       "      <td>4.0</td>\n",
       "      <td>116.22</td>\n",
       "      <td>WEDNESDAY</td>\n",
       "      <td>8</td>\n",
       "      <td>2020</td>\n",
       "      <td>ĐƯỜNG KIM GIANG</td>\n",
       "    </tr>\n",
       "    <tr>\n",
       "      <th>2</th>\n",
       "      <td>HAI BÀ TRƯNG</td>\n",
       "      <td>MINH KHAI</td>\n",
       "      <td>BYROAD</td>\n",
       "      <td>AVAILABLE</td>\n",
       "      <td>4</td>\n",
       "      <td>4</td>\n",
       "      <td>40.0</td>\n",
       "      <td>40.541566</td>\n",
       "      <td>4.0</td>\n",
       "      <td>65.00</td>\n",
       "      <td>WEDNESDAY</td>\n",
       "      <td>8</td>\n",
       "      <td>2020</td>\n",
       "      <td>PHỐ MINH KHAI</td>\n",
       "    </tr>\n",
       "    <tr>\n",
       "      <th>3</th>\n",
       "      <td>TÂY HỒ</td>\n",
       "      <td>THỤY KHUÊ</td>\n",
       "      <td>BYROAD</td>\n",
       "      <td>AVAILABLE</td>\n",
       "      <td>5</td>\n",
       "      <td>6</td>\n",
       "      <td>51.0</td>\n",
       "      <td>51.000000</td>\n",
       "      <td>4.0</td>\n",
       "      <td>100.00</td>\n",
       "      <td>WEDNESDAY</td>\n",
       "      <td>8</td>\n",
       "      <td>2020</td>\n",
       "      <td>ĐƯỜNG VÕNG THỊ</td>\n",
       "    </tr>\n",
       "    <tr>\n",
       "      <th>4</th>\n",
       "      <td>THANH XUÂN</td>\n",
       "      <td>KIM GIANG</td>\n",
       "      <td>BYROAD</td>\n",
       "      <td>OTHERS</td>\n",
       "      <td>5</td>\n",
       "      <td>4</td>\n",
       "      <td>36.0</td>\n",
       "      <td>35.348977</td>\n",
       "      <td>4.0</td>\n",
       "      <td>86.11</td>\n",
       "      <td>WEDNESDAY</td>\n",
       "      <td>8</td>\n",
       "      <td>2020</td>\n",
       "      <td>ĐƯỜNG KIM GIANG</td>\n",
       "    </tr>\n",
       "    <tr>\n",
       "      <th>...</th>\n",
       "      <td>...</td>\n",
       "      <td>...</td>\n",
       "      <td>...</td>\n",
       "      <td>...</td>\n",
       "      <td>...</td>\n",
       "      <td>...</td>\n",
       "      <td>...</td>\n",
       "      <td>...</td>\n",
       "      <td>...</td>\n",
       "      <td>...</td>\n",
       "      <td>...</td>\n",
       "      <td>...</td>\n",
       "      <td>...</td>\n",
       "      <td>...</td>\n",
       "    </tr>\n",
       "    <tr>\n",
       "      <th>82491</th>\n",
       "      <td>BẮC TỪ LIÊM</td>\n",
       "      <td>PHÚC DIỄN</td>\n",
       "      <td>TOWNHOUSE</td>\n",
       "      <td>OTHERS</td>\n",
       "      <td>5</td>\n",
       "      <td>3</td>\n",
       "      <td>38.0</td>\n",
       "      <td>40.541566</td>\n",
       "      <td>4.0</td>\n",
       "      <td>81.58</td>\n",
       "      <td>FRIDAY</td>\n",
       "      <td>8</td>\n",
       "      <td>2019</td>\n",
       "      <td>ĐƯỜNG HỒ TÙNG MẬU</td>\n",
       "    </tr>\n",
       "    <tr>\n",
       "      <th>82492</th>\n",
       "      <td>CẦU GIẤY</td>\n",
       "      <td>QUAN HOA</td>\n",
       "      <td>STREET_HOUSE</td>\n",
       "      <td>OTHERS</td>\n",
       "      <td>5</td>\n",
       "      <td>3</td>\n",
       "      <td>50.0</td>\n",
       "      <td>46.649197</td>\n",
       "      <td>4.0</td>\n",
       "      <td>292.00</td>\n",
       "      <td>WEDNESDAY</td>\n",
       "      <td>8</td>\n",
       "      <td>2019</td>\n",
       "      <td>ĐƯỜNG TRẦN QUỐC HOÀN</td>\n",
       "    </tr>\n",
       "    <tr>\n",
       "      <th>82493</th>\n",
       "      <td>CẦU GIẤY</td>\n",
       "      <td>QUAN HOA</td>\n",
       "      <td>STREET_HOUSE</td>\n",
       "      <td>AVAILABLE</td>\n",
       "      <td>5</td>\n",
       "      <td>4</td>\n",
       "      <td>41.0</td>\n",
       "      <td>40.541566</td>\n",
       "      <td>4.0</td>\n",
       "      <td>341.46</td>\n",
       "      <td>WEDNESDAY</td>\n",
       "      <td>8</td>\n",
       "      <td>2019</td>\n",
       "      <td>ĐƯỜNG NGUYỄN KHÁNH TOÀN</td>\n",
       "    </tr>\n",
       "    <tr>\n",
       "      <th>82494</th>\n",
       "      <td>CẦU GIẤY</td>\n",
       "      <td>QUAN HOA</td>\n",
       "      <td>BYROAD</td>\n",
       "      <td>AVAILABLE</td>\n",
       "      <td>5</td>\n",
       "      <td>4</td>\n",
       "      <td>60.0</td>\n",
       "      <td>54.231148</td>\n",
       "      <td>5.0</td>\n",
       "      <td>101.67</td>\n",
       "      <td>MONDAY</td>\n",
       "      <td>8</td>\n",
       "      <td>2019</td>\n",
       "      <td>ĐƯỜNG QUAN HOA</td>\n",
       "    </tr>\n",
       "    <tr>\n",
       "      <th>82495</th>\n",
       "      <td>CẦU GIẤY</td>\n",
       "      <td>MAI DỊCH</td>\n",
       "      <td>TOWNHOUSE</td>\n",
       "      <td>OTHERS</td>\n",
       "      <td>5</td>\n",
       "      <td>4</td>\n",
       "      <td>45.0</td>\n",
       "      <td>46.649197</td>\n",
       "      <td>4.0</td>\n",
       "      <td>102.22</td>\n",
       "      <td>MONDAY</td>\n",
       "      <td>8</td>\n",
       "      <td>2019</td>\n",
       "      <td>ĐƯỜNG HỒ TÙNG MẬU</td>\n",
       "    </tr>\n",
       "  </tbody>\n",
       "</table>\n",
       "<p>81160 rows × 14 columns</p>\n",
       "</div>"
      ],
      "text/plain": [
       "           District       Ward    House_type Legal_documents No_floor  \\\n",
       "0          CẦU GIẤY   NGHĨA ĐÔ        BYROAD       AVAILABLE        4   \n",
       "1        THANH XUÂN  KIM GIANG  STREET_HOUSE          OTHERS        5   \n",
       "2      HAI BÀ TRƯNG  MINH KHAI        BYROAD       AVAILABLE        4   \n",
       "3            TÂY HỒ  THỤY KHUÊ        BYROAD       AVAILABLE        5   \n",
       "4        THANH XUÂN  KIM GIANG        BYROAD          OTHERS        5   \n",
       "...             ...        ...           ...             ...      ...   \n",
       "82491   BẮC TỪ LIÊM  PHÚC DIỄN     TOWNHOUSE          OTHERS        5   \n",
       "82492      CẦU GIẤY   QUAN HOA  STREET_HOUSE          OTHERS        5   \n",
       "82493      CẦU GIẤY   QUAN HOA  STREET_HOUSE       AVAILABLE        5   \n",
       "82494      CẦU GIẤY   QUAN HOA        BYROAD       AVAILABLE        5   \n",
       "82495      CẦU GIẤY   MAI DỊCH     TOWNHOUSE          OTHERS        5   \n",
       "\n",
       "      No_bedroom  Area     Length  Width   Price Day_Of_Week  Month  Year  \\\n",
       "0              5  46.0  46.649197    4.0   86.96   WEDNESDAY      8  2020   \n",
       "1              3  37.0  40.541566    4.0  116.22   WEDNESDAY      8  2020   \n",
       "2              4  40.0  40.541566    4.0   65.00   WEDNESDAY      8  2020   \n",
       "3              6  51.0  51.000000    4.0  100.00   WEDNESDAY      8  2020   \n",
       "4              4  36.0  35.348977    4.0   86.11   WEDNESDAY      8  2020   \n",
       "...          ...   ...        ...    ...     ...         ...    ...   ...   \n",
       "82491          3  38.0  40.541566    4.0   81.58      FRIDAY      8  2019   \n",
       "82492          3  50.0  46.649197    4.0  292.00   WEDNESDAY      8  2019   \n",
       "82493          4  41.0  40.541566    4.0  341.46   WEDNESDAY      8  2019   \n",
       "82494          4  60.0  54.231148    5.0  101.67      MONDAY      8  2019   \n",
       "82495          4  45.0  46.649197    4.0  102.22      MONDAY      8  2019   \n",
       "\n",
       "                        Street  \n",
       "0        ĐƯỜNG HOÀNG QUỐC VIỆT  \n",
       "1              ĐƯỜNG KIM GIANG  \n",
       "2                PHỐ MINH KHAI  \n",
       "3               ĐƯỜNG VÕNG THỊ  \n",
       "4              ĐƯỜNG KIM GIANG  \n",
       "...                        ...  \n",
       "82491        ĐƯỜNG HỒ TÙNG MẬU  \n",
       "82492     ĐƯỜNG TRẦN QUỐC HOÀN  \n",
       "82493  ĐƯỜNG NGUYỄN KHÁNH TOÀN  \n",
       "82494           ĐƯỜNG QUAN HOA  \n",
       "82495        ĐƯỜNG HỒ TÙNG MẬU  \n",
       "\n",
       "[81160 rows x 14 columns]"
      ]
     },
     "execution_count": 59,
     "metadata": {},
     "output_type": "execute_result"
    }
   ],
   "source": [
    "df"
   ]
  },
  {
   "cell_type": "code",
   "execution_count": 60,
   "id": "bc56280a",
   "metadata": {},
   "outputs": [
    {
     "data": {
      "text/plain": [
       "5.0"
      ]
     },
     "execution_count": 60,
     "metadata": {},
     "output_type": "execute_result"
    }
   ],
   "source": [
    "df['No_floor'].astype(int).median()"
   ]
  },
  {
   "cell_type": "code",
   "execution_count": 61,
   "id": "d8ce9daf",
   "metadata": {
    "pycharm": {
     "name": "#%%\n"
    }
   },
   "outputs": [
    {
     "data": {
      "text/html": [
       "<div>\n",
       "<style scoped>\n",
       "    .dataframe tbody tr th:only-of-type {\n",
       "        vertical-align: middle;\n",
       "    }\n",
       "\n",
       "    .dataframe tbody tr th {\n",
       "        vertical-align: top;\n",
       "    }\n",
       "\n",
       "    .dataframe thead th {\n",
       "        text-align: right;\n",
       "    }\n",
       "</style>\n",
       "<table border=\"1\" class=\"dataframe\">\n",
       "  <thead>\n",
       "    <tr style=\"text-align: right;\">\n",
       "      <th></th>\n",
       "      <th>District</th>\n",
       "      <th>Ward</th>\n",
       "      <th>House_type</th>\n",
       "      <th>Legal_documents</th>\n",
       "      <th>No_floor</th>\n",
       "      <th>No_bedroom</th>\n",
       "      <th>Area</th>\n",
       "      <th>Length</th>\n",
       "      <th>Width</th>\n",
       "      <th>Price</th>\n",
       "      <th>Day_Of_Week</th>\n",
       "      <th>Month</th>\n",
       "      <th>Year</th>\n",
       "      <th>Street</th>\n",
       "    </tr>\n",
       "  </thead>\n",
       "  <tbody>\n",
       "    <tr>\n",
       "      <th>0</th>\n",
       "      <td>CẦU GIẤY</td>\n",
       "      <td>NGHĨA ĐÔ</td>\n",
       "      <td>BYROAD</td>\n",
       "      <td>AVAILABLE</td>\n",
       "      <td>4</td>\n",
       "      <td>5</td>\n",
       "      <td>46.0</td>\n",
       "      <td>46.649197</td>\n",
       "      <td>4.0</td>\n",
       "      <td>86.96</td>\n",
       "      <td>WEDNESDAY</td>\n",
       "      <td>8</td>\n",
       "      <td>2020</td>\n",
       "      <td>ĐƯỜNG HOÀNG QUỐC VIỆT</td>\n",
       "    </tr>\n",
       "    <tr>\n",
       "      <th>1</th>\n",
       "      <td>THANH XUÂN</td>\n",
       "      <td>KIM GIANG</td>\n",
       "      <td>STREET_HOUSE</td>\n",
       "      <td>OTHERS</td>\n",
       "      <td>5</td>\n",
       "      <td>3</td>\n",
       "      <td>37.0</td>\n",
       "      <td>40.541566</td>\n",
       "      <td>4.0</td>\n",
       "      <td>116.22</td>\n",
       "      <td>WEDNESDAY</td>\n",
       "      <td>8</td>\n",
       "      <td>2020</td>\n",
       "      <td>ĐƯỜNG KIM GIANG</td>\n",
       "    </tr>\n",
       "    <tr>\n",
       "      <th>2</th>\n",
       "      <td>HAI BÀ TRƯNG</td>\n",
       "      <td>MINH KHAI</td>\n",
       "      <td>BYROAD</td>\n",
       "      <td>AVAILABLE</td>\n",
       "      <td>4</td>\n",
       "      <td>4</td>\n",
       "      <td>40.0</td>\n",
       "      <td>40.541566</td>\n",
       "      <td>4.0</td>\n",
       "      <td>65.00</td>\n",
       "      <td>WEDNESDAY</td>\n",
       "      <td>8</td>\n",
       "      <td>2020</td>\n",
       "      <td>PHỐ MINH KHAI</td>\n",
       "    </tr>\n",
       "    <tr>\n",
       "      <th>3</th>\n",
       "      <td>TÂY HỒ</td>\n",
       "      <td>THỤY KHUÊ</td>\n",
       "      <td>BYROAD</td>\n",
       "      <td>AVAILABLE</td>\n",
       "      <td>5</td>\n",
       "      <td>6</td>\n",
       "      <td>51.0</td>\n",
       "      <td>51.000000</td>\n",
       "      <td>4.0</td>\n",
       "      <td>100.00</td>\n",
       "      <td>WEDNESDAY</td>\n",
       "      <td>8</td>\n",
       "      <td>2020</td>\n",
       "      <td>ĐƯỜNG VÕNG THỊ</td>\n",
       "    </tr>\n",
       "    <tr>\n",
       "      <th>4</th>\n",
       "      <td>THANH XUÂN</td>\n",
       "      <td>KIM GIANG</td>\n",
       "      <td>BYROAD</td>\n",
       "      <td>OTHERS</td>\n",
       "      <td>5</td>\n",
       "      <td>4</td>\n",
       "      <td>36.0</td>\n",
       "      <td>35.348977</td>\n",
       "      <td>4.0</td>\n",
       "      <td>86.11</td>\n",
       "      <td>WEDNESDAY</td>\n",
       "      <td>8</td>\n",
       "      <td>2020</td>\n",
       "      <td>ĐƯỜNG KIM GIANG</td>\n",
       "    </tr>\n",
       "    <tr>\n",
       "      <th>...</th>\n",
       "      <td>...</td>\n",
       "      <td>...</td>\n",
       "      <td>...</td>\n",
       "      <td>...</td>\n",
       "      <td>...</td>\n",
       "      <td>...</td>\n",
       "      <td>...</td>\n",
       "      <td>...</td>\n",
       "      <td>...</td>\n",
       "      <td>...</td>\n",
       "      <td>...</td>\n",
       "      <td>...</td>\n",
       "      <td>...</td>\n",
       "      <td>...</td>\n",
       "    </tr>\n",
       "    <tr>\n",
       "      <th>82491</th>\n",
       "      <td>BẮC TỪ LIÊM</td>\n",
       "      <td>PHÚC DIỄN</td>\n",
       "      <td>TOWNHOUSE</td>\n",
       "      <td>OTHERS</td>\n",
       "      <td>5</td>\n",
       "      <td>3</td>\n",
       "      <td>38.0</td>\n",
       "      <td>40.541566</td>\n",
       "      <td>4.0</td>\n",
       "      <td>81.58</td>\n",
       "      <td>FRIDAY</td>\n",
       "      <td>8</td>\n",
       "      <td>2019</td>\n",
       "      <td>ĐƯỜNG HỒ TÙNG MẬU</td>\n",
       "    </tr>\n",
       "    <tr>\n",
       "      <th>82492</th>\n",
       "      <td>CẦU GIẤY</td>\n",
       "      <td>QUAN HOA</td>\n",
       "      <td>STREET_HOUSE</td>\n",
       "      <td>OTHERS</td>\n",
       "      <td>5</td>\n",
       "      <td>3</td>\n",
       "      <td>50.0</td>\n",
       "      <td>46.649197</td>\n",
       "      <td>4.0</td>\n",
       "      <td>292.00</td>\n",
       "      <td>WEDNESDAY</td>\n",
       "      <td>8</td>\n",
       "      <td>2019</td>\n",
       "      <td>ĐƯỜNG TRẦN QUỐC HOÀN</td>\n",
       "    </tr>\n",
       "    <tr>\n",
       "      <th>82493</th>\n",
       "      <td>CẦU GIẤY</td>\n",
       "      <td>QUAN HOA</td>\n",
       "      <td>STREET_HOUSE</td>\n",
       "      <td>AVAILABLE</td>\n",
       "      <td>5</td>\n",
       "      <td>4</td>\n",
       "      <td>41.0</td>\n",
       "      <td>40.541566</td>\n",
       "      <td>4.0</td>\n",
       "      <td>341.46</td>\n",
       "      <td>WEDNESDAY</td>\n",
       "      <td>8</td>\n",
       "      <td>2019</td>\n",
       "      <td>ĐƯỜNG NGUYỄN KHÁNH TOÀN</td>\n",
       "    </tr>\n",
       "    <tr>\n",
       "      <th>82494</th>\n",
       "      <td>CẦU GIẤY</td>\n",
       "      <td>QUAN HOA</td>\n",
       "      <td>BYROAD</td>\n",
       "      <td>AVAILABLE</td>\n",
       "      <td>5</td>\n",
       "      <td>4</td>\n",
       "      <td>60.0</td>\n",
       "      <td>54.231148</td>\n",
       "      <td>5.0</td>\n",
       "      <td>101.67</td>\n",
       "      <td>MONDAY</td>\n",
       "      <td>8</td>\n",
       "      <td>2019</td>\n",
       "      <td>ĐƯỜNG QUAN HOA</td>\n",
       "    </tr>\n",
       "    <tr>\n",
       "      <th>82495</th>\n",
       "      <td>CẦU GIẤY</td>\n",
       "      <td>MAI DỊCH</td>\n",
       "      <td>TOWNHOUSE</td>\n",
       "      <td>OTHERS</td>\n",
       "      <td>5</td>\n",
       "      <td>4</td>\n",
       "      <td>45.0</td>\n",
       "      <td>46.649197</td>\n",
       "      <td>4.0</td>\n",
       "      <td>102.22</td>\n",
       "      <td>MONDAY</td>\n",
       "      <td>8</td>\n",
       "      <td>2019</td>\n",
       "      <td>ĐƯỜNG HỒ TÙNG MẬU</td>\n",
       "    </tr>\n",
       "  </tbody>\n",
       "</table>\n",
       "<p>80254 rows × 14 columns</p>\n",
       "</div>"
      ],
      "text/plain": [
       "           District       Ward    House_type Legal_documents No_floor  \\\n",
       "0          CẦU GIẤY   NGHĨA ĐÔ        BYROAD       AVAILABLE        4   \n",
       "1        THANH XUÂN  KIM GIANG  STREET_HOUSE          OTHERS        5   \n",
       "2      HAI BÀ TRƯNG  MINH KHAI        BYROAD       AVAILABLE        4   \n",
       "3            TÂY HỒ  THỤY KHUÊ        BYROAD       AVAILABLE        5   \n",
       "4        THANH XUÂN  KIM GIANG        BYROAD          OTHERS        5   \n",
       "...             ...        ...           ...             ...      ...   \n",
       "82491   BẮC TỪ LIÊM  PHÚC DIỄN     TOWNHOUSE          OTHERS        5   \n",
       "82492      CẦU GIẤY   QUAN HOA  STREET_HOUSE          OTHERS        5   \n",
       "82493      CẦU GIẤY   QUAN HOA  STREET_HOUSE       AVAILABLE        5   \n",
       "82494      CẦU GIẤY   QUAN HOA        BYROAD       AVAILABLE        5   \n",
       "82495      CẦU GIẤY   MAI DỊCH     TOWNHOUSE          OTHERS        5   \n",
       "\n",
       "      No_bedroom  Area     Length  Width   Price Day_Of_Week  Month  Year  \\\n",
       "0              5  46.0  46.649197    4.0   86.96   WEDNESDAY      8  2020   \n",
       "1              3  37.0  40.541566    4.0  116.22   WEDNESDAY      8  2020   \n",
       "2              4  40.0  40.541566    4.0   65.00   WEDNESDAY      8  2020   \n",
       "3              6  51.0  51.000000    4.0  100.00   WEDNESDAY      8  2020   \n",
       "4              4  36.0  35.348977    4.0   86.11   WEDNESDAY      8  2020   \n",
       "...          ...   ...        ...    ...     ...         ...    ...   ...   \n",
       "82491          3  38.0  40.541566    4.0   81.58      FRIDAY      8  2019   \n",
       "82492          3  50.0  46.649197    4.0  292.00   WEDNESDAY      8  2019   \n",
       "82493          4  41.0  40.541566    4.0  341.46   WEDNESDAY      8  2019   \n",
       "82494          4  60.0  54.231148    5.0  101.67      MONDAY      8  2019   \n",
       "82495          4  45.0  46.649197    4.0  102.22      MONDAY      8  2019   \n",
       "\n",
       "                        Street  \n",
       "0        ĐƯỜNG HOÀNG QUỐC VIỆT  \n",
       "1              ĐƯỜNG KIM GIANG  \n",
       "2                PHỐ MINH KHAI  \n",
       "3               ĐƯỜNG VÕNG THỊ  \n",
       "4              ĐƯỜNG KIM GIANG  \n",
       "...                        ...  \n",
       "82491        ĐƯỜNG HỒ TÙNG MẬU  \n",
       "82492     ĐƯỜNG TRẦN QUỐC HOÀN  \n",
       "82493  ĐƯỜNG NGUYỄN KHÁNH TOÀN  \n",
       "82494           ĐƯỜNG QUAN HOA  \n",
       "82495        ĐƯỜNG HỒ TÙNG MẬU  \n",
       "\n",
       "[80254 rows x 14 columns]"
      ]
     },
     "execution_count": 61,
     "metadata": {},
     "output_type": "execute_result"
    }
   ],
   "source": [
    "\n",
    "#81200 for the original dataset, 81160 rows after remove more than 10 floors.\n",
    "#80254 rows after apply 1st policy - remove more than 6 floors.\n",
    "#I will change the town houses floors to None from 2nd and third policies because there are houses about a third \n",
    "#or more of the dataset violates the plicies so the 2nd and 3rd policies may have some \n",
    "#changes or some certain circumstances \n",
    "#or the rules are not strict so that allow those houses to be indifference to the policies.\n",
    "\n",
    "#1st policy for town houses:\n",
    "index_townHouses = df[(df['No_floor'].astype(int) > 6)].index\n",
    "\n",
    "# drop these given row\n",
    "df.drop(index_townHouses, inplace = True)\n",
    "\n",
    "#2nd policy for town houses with area from 30ms to less than 40m2:\n",
    "index_townHouses2 = df[ (df['Area'].astype(int) >= 30) & (df['Area'].astype(int) < 40) & (df['No_floor'].astype(int) > 4)].index\n",
    "\n",
    "#Transform all data from No_floor column with condition above to NaN \n",
    "df['No_floor']=df['No_floor'].fillna(index_townHouses2.to_series())\n",
    "\n",
    "#3rd policy for town houses with area more than 50m2:\n",
    "index_townHouses3 = df[ (df['Area'].astype(int) > 50) ].index\n",
    "\n",
    "#Transform all data from No_floor column with condition above to NaN \n",
    "df['No_floor']=df['No_floor'].fillna(index_townHouses3.to_series())\n",
    "\n",
    "floor_median = 5.0\n",
    "#Transform all nan values from No_floor column to median \n",
    "floor_median= df.groupby(\"No_floor\").transform(lambda x: x.fillna(x.mean()))\n",
    "df"
   ]
  },
  {
   "cell_type": "code",
   "execution_count": 62,
   "id": "70a6edd1",
   "metadata": {
    "pycharm": {
     "name": "#%%\n"
    }
   },
   "outputs": [
    {
     "data": {
      "text/html": [
       "<div>\n",
       "<style scoped>\n",
       "    .dataframe tbody tr th:only-of-type {\n",
       "        vertical-align: middle;\n",
       "    }\n",
       "\n",
       "    .dataframe tbody tr th {\n",
       "        vertical-align: top;\n",
       "    }\n",
       "\n",
       "    .dataframe thead th {\n",
       "        text-align: right;\n",
       "    }\n",
       "</style>\n",
       "<table border=\"1\" class=\"dataframe\">\n",
       "  <thead>\n",
       "    <tr style=\"text-align: right;\">\n",
       "      <th></th>\n",
       "      <th>District</th>\n",
       "      <th>Ward</th>\n",
       "      <th>House_type</th>\n",
       "      <th>Legal_documents</th>\n",
       "      <th>No_floor</th>\n",
       "      <th>No_bedroom</th>\n",
       "      <th>Area</th>\n",
       "      <th>Length</th>\n",
       "      <th>Width</th>\n",
       "      <th>Price</th>\n",
       "      <th>Day_Of_Week</th>\n",
       "      <th>Month</th>\n",
       "      <th>Year</th>\n",
       "      <th>Street</th>\n",
       "    </tr>\n",
       "  </thead>\n",
       "  <tbody>\n",
       "    <tr>\n",
       "      <th>0</th>\n",
       "      <td>CẦU GIẤY</td>\n",
       "      <td>NGHĨA ĐÔ</td>\n",
       "      <td>BYROAD</td>\n",
       "      <td>AVAILABLE</td>\n",
       "      <td>4</td>\n",
       "      <td>5</td>\n",
       "      <td>46.0</td>\n",
       "      <td>46.649197</td>\n",
       "      <td>4.0</td>\n",
       "      <td>86.96</td>\n",
       "      <td>WEDNESDAY</td>\n",
       "      <td>8</td>\n",
       "      <td>2020</td>\n",
       "      <td>ĐƯỜNG HOÀNG QUỐC VIỆT</td>\n",
       "    </tr>\n",
       "    <tr>\n",
       "      <th>1</th>\n",
       "      <td>THANH XUÂN</td>\n",
       "      <td>KIM GIANG</td>\n",
       "      <td>STREET_HOUSE</td>\n",
       "      <td>OTHERS</td>\n",
       "      <td>5</td>\n",
       "      <td>3</td>\n",
       "      <td>37.0</td>\n",
       "      <td>40.541566</td>\n",
       "      <td>4.0</td>\n",
       "      <td>116.22</td>\n",
       "      <td>WEDNESDAY</td>\n",
       "      <td>8</td>\n",
       "      <td>2020</td>\n",
       "      <td>ĐƯỜNG KIM GIANG</td>\n",
       "    </tr>\n",
       "    <tr>\n",
       "      <th>2</th>\n",
       "      <td>HAI BÀ TRƯNG</td>\n",
       "      <td>MINH KHAI</td>\n",
       "      <td>BYROAD</td>\n",
       "      <td>AVAILABLE</td>\n",
       "      <td>4</td>\n",
       "      <td>4</td>\n",
       "      <td>40.0</td>\n",
       "      <td>40.541566</td>\n",
       "      <td>4.0</td>\n",
       "      <td>65.00</td>\n",
       "      <td>WEDNESDAY</td>\n",
       "      <td>8</td>\n",
       "      <td>2020</td>\n",
       "      <td>PHỐ MINH KHAI</td>\n",
       "    </tr>\n",
       "    <tr>\n",
       "      <th>3</th>\n",
       "      <td>TÂY HỒ</td>\n",
       "      <td>THỤY KHUÊ</td>\n",
       "      <td>BYROAD</td>\n",
       "      <td>AVAILABLE</td>\n",
       "      <td>5</td>\n",
       "      <td>6</td>\n",
       "      <td>51.0</td>\n",
       "      <td>51.000000</td>\n",
       "      <td>4.0</td>\n",
       "      <td>100.00</td>\n",
       "      <td>WEDNESDAY</td>\n",
       "      <td>8</td>\n",
       "      <td>2020</td>\n",
       "      <td>ĐƯỜNG VÕNG THỊ</td>\n",
       "    </tr>\n",
       "    <tr>\n",
       "      <th>4</th>\n",
       "      <td>THANH XUÂN</td>\n",
       "      <td>KIM GIANG</td>\n",
       "      <td>BYROAD</td>\n",
       "      <td>OTHERS</td>\n",
       "      <td>5</td>\n",
       "      <td>4</td>\n",
       "      <td>36.0</td>\n",
       "      <td>35.348977</td>\n",
       "      <td>4.0</td>\n",
       "      <td>86.11</td>\n",
       "      <td>WEDNESDAY</td>\n",
       "      <td>8</td>\n",
       "      <td>2020</td>\n",
       "      <td>ĐƯỜNG KIM GIANG</td>\n",
       "    </tr>\n",
       "    <tr>\n",
       "      <th>...</th>\n",
       "      <td>...</td>\n",
       "      <td>...</td>\n",
       "      <td>...</td>\n",
       "      <td>...</td>\n",
       "      <td>...</td>\n",
       "      <td>...</td>\n",
       "      <td>...</td>\n",
       "      <td>...</td>\n",
       "      <td>...</td>\n",
       "      <td>...</td>\n",
       "      <td>...</td>\n",
       "      <td>...</td>\n",
       "      <td>...</td>\n",
       "      <td>...</td>\n",
       "    </tr>\n",
       "    <tr>\n",
       "      <th>82491</th>\n",
       "      <td>BẮC TỪ LIÊM</td>\n",
       "      <td>PHÚC DIỄN</td>\n",
       "      <td>TOWNHOUSE</td>\n",
       "      <td>OTHERS</td>\n",
       "      <td>5</td>\n",
       "      <td>3</td>\n",
       "      <td>38.0</td>\n",
       "      <td>40.541566</td>\n",
       "      <td>4.0</td>\n",
       "      <td>81.58</td>\n",
       "      <td>FRIDAY</td>\n",
       "      <td>8</td>\n",
       "      <td>2019</td>\n",
       "      <td>ĐƯỜNG HỒ TÙNG MẬU</td>\n",
       "    </tr>\n",
       "    <tr>\n",
       "      <th>82492</th>\n",
       "      <td>CẦU GIẤY</td>\n",
       "      <td>QUAN HOA</td>\n",
       "      <td>STREET_HOUSE</td>\n",
       "      <td>OTHERS</td>\n",
       "      <td>5</td>\n",
       "      <td>3</td>\n",
       "      <td>50.0</td>\n",
       "      <td>46.649197</td>\n",
       "      <td>4.0</td>\n",
       "      <td>292.00</td>\n",
       "      <td>WEDNESDAY</td>\n",
       "      <td>8</td>\n",
       "      <td>2019</td>\n",
       "      <td>ĐƯỜNG TRẦN QUỐC HOÀN</td>\n",
       "    </tr>\n",
       "    <tr>\n",
       "      <th>82493</th>\n",
       "      <td>CẦU GIẤY</td>\n",
       "      <td>QUAN HOA</td>\n",
       "      <td>STREET_HOUSE</td>\n",
       "      <td>AVAILABLE</td>\n",
       "      <td>5</td>\n",
       "      <td>4</td>\n",
       "      <td>41.0</td>\n",
       "      <td>40.541566</td>\n",
       "      <td>4.0</td>\n",
       "      <td>341.46</td>\n",
       "      <td>WEDNESDAY</td>\n",
       "      <td>8</td>\n",
       "      <td>2019</td>\n",
       "      <td>ĐƯỜNG NGUYỄN KHÁNH TOÀN</td>\n",
       "    </tr>\n",
       "    <tr>\n",
       "      <th>82494</th>\n",
       "      <td>CẦU GIẤY</td>\n",
       "      <td>QUAN HOA</td>\n",
       "      <td>BYROAD</td>\n",
       "      <td>AVAILABLE</td>\n",
       "      <td>5</td>\n",
       "      <td>4</td>\n",
       "      <td>60.0</td>\n",
       "      <td>54.231148</td>\n",
       "      <td>5.0</td>\n",
       "      <td>101.67</td>\n",
       "      <td>MONDAY</td>\n",
       "      <td>8</td>\n",
       "      <td>2019</td>\n",
       "      <td>ĐƯỜNG QUAN HOA</td>\n",
       "    </tr>\n",
       "    <tr>\n",
       "      <th>82495</th>\n",
       "      <td>CẦU GIẤY</td>\n",
       "      <td>MAI DỊCH</td>\n",
       "      <td>TOWNHOUSE</td>\n",
       "      <td>OTHERS</td>\n",
       "      <td>5</td>\n",
       "      <td>4</td>\n",
       "      <td>45.0</td>\n",
       "      <td>46.649197</td>\n",
       "      <td>4.0</td>\n",
       "      <td>102.22</td>\n",
       "      <td>MONDAY</td>\n",
       "      <td>8</td>\n",
       "      <td>2019</td>\n",
       "      <td>ĐƯỜNG HỒ TÙNG MẬU</td>\n",
       "    </tr>\n",
       "  </tbody>\n",
       "</table>\n",
       "<p>80254 rows × 14 columns</p>\n",
       "</div>"
      ],
      "text/plain": [
       "           District       Ward    House_type Legal_documents No_floor  \\\n",
       "0          CẦU GIẤY   NGHĨA ĐÔ        BYROAD       AVAILABLE        4   \n",
       "1        THANH XUÂN  KIM GIANG  STREET_HOUSE          OTHERS        5   \n",
       "2      HAI BÀ TRƯNG  MINH KHAI        BYROAD       AVAILABLE        4   \n",
       "3            TÂY HỒ  THỤY KHUÊ        BYROAD       AVAILABLE        5   \n",
       "4        THANH XUÂN  KIM GIANG        BYROAD          OTHERS        5   \n",
       "...             ...        ...           ...             ...      ...   \n",
       "82491   BẮC TỪ LIÊM  PHÚC DIỄN     TOWNHOUSE          OTHERS        5   \n",
       "82492      CẦU GIẤY   QUAN HOA  STREET_HOUSE          OTHERS        5   \n",
       "82493      CẦU GIẤY   QUAN HOA  STREET_HOUSE       AVAILABLE        5   \n",
       "82494      CẦU GIẤY   QUAN HOA        BYROAD       AVAILABLE        5   \n",
       "82495      CẦU GIẤY   MAI DỊCH     TOWNHOUSE          OTHERS        5   \n",
       "\n",
       "      No_bedroom  Area     Length  Width   Price Day_Of_Week  Month  Year  \\\n",
       "0              5  46.0  46.649197    4.0   86.96   WEDNESDAY      8  2020   \n",
       "1              3  37.0  40.541566    4.0  116.22   WEDNESDAY      8  2020   \n",
       "2              4  40.0  40.541566    4.0   65.00   WEDNESDAY      8  2020   \n",
       "3              6  51.0  51.000000    4.0  100.00   WEDNESDAY      8  2020   \n",
       "4              4  36.0  35.348977    4.0   86.11   WEDNESDAY      8  2020   \n",
       "...          ...   ...        ...    ...     ...         ...    ...   ...   \n",
       "82491          3  38.0  40.541566    4.0   81.58      FRIDAY      8  2019   \n",
       "82492          3  50.0  46.649197    4.0  292.00   WEDNESDAY      8  2019   \n",
       "82493          4  41.0  40.541566    4.0  341.46   WEDNESDAY      8  2019   \n",
       "82494          4  60.0  54.231148    5.0  101.67      MONDAY      8  2019   \n",
       "82495          4  45.0  46.649197    4.0  102.22      MONDAY      8  2019   \n",
       "\n",
       "                        Street  \n",
       "0        ĐƯỜNG HOÀNG QUỐC VIỆT  \n",
       "1              ĐƯỜNG KIM GIANG  \n",
       "2                PHỐ MINH KHAI  \n",
       "3               ĐƯỜNG VÕNG THỊ  \n",
       "4              ĐƯỜNG KIM GIANG  \n",
       "...                        ...  \n",
       "82491        ĐƯỜNG HỒ TÙNG MẬU  \n",
       "82492     ĐƯỜNG TRẦN QUỐC HOÀN  \n",
       "82493  ĐƯỜNG NGUYỄN KHÁNH TOÀN  \n",
       "82494           ĐƯỜNG QUAN HOA  \n",
       "82495        ĐƯỜNG HỒ TÙNG MẬU  \n",
       "\n",
       "[80254 rows x 14 columns]"
      ]
     },
     "execution_count": 62,
     "metadata": {},
     "output_type": "execute_result"
    }
   ],
   "source": [
    "#1st policy for street houses:\n",
    "index_streetHouses = df[( df['Area'].astype(int) >= 15) & (df['Area'].astype(int) < 30) & (df['No_floor'].astype(int) > 4)].index\n",
    "\n",
    "#Transform all data from No_floor column with condition above to NaN \n",
    "df['No_floor']=df['No_floor'].fillna(index_streetHouses.to_series())\n",
    "\n",
    "#2nd policy for street houses:\n",
    "index_streetHouses2 = df[ (df['Area'].astype(int) >= 30) & (df['Area'].astype(int) < 40) & (df['No_floor'].astype(int) > 4)].index\n",
    "\n",
    "#Transform all data from No_floor column with condition above to NaN \n",
    "df['No_floor']=df['No_floor'].fillna(index_streetHouses2.to_series())\n",
    "\n",
    "#3rd policy for street houses:\n",
    "index_streetHouses3 = df[( df['Area'].astype(int) > 50) & (df['No_floor'].astype(int) > 6)].index\n",
    "\n",
    "#Transform all data from No_floor column with condition above to NaN \n",
    "df['No_floor']=df['No_floor'].fillna(index_streetHouses3.to_series())\n",
    "\n",
    "#Transform all nan values from No_floor column to median \n",
    "floor_median= df.groupby(\"No_floor\").transform(lambda x: x.fillna(x.mean()))\n",
    "\n",
    "df\n"
   ]
  },
  {
   "cell_type": "markdown",
   "id": "e009fe30",
   "metadata": {},
   "source": [
    "### Bivariate Analysis"
   ]
  },
  {
   "cell_type": "code",
   "execution_count": 63,
   "id": "777c8cae",
   "metadata": {
    "pycharm": {
     "name": "#%%\n"
    }
   },
   "outputs": [
    {
     "data": {
      "text/plain": [
       "<AxesSubplot:xlabel='Length', ylabel='Price'>"
      ]
     },
     "execution_count": 63,
     "metadata": {},
     "output_type": "execute_result"
    },
    {
     "data": {
      "image/png": "[encoded data removed]",
      "text/plain": [
       "<Figure size 864x576 with 1 Axes>"
      ]
     },
     "metadata": {
      "needs_background": "light"
     },
     "output_type": "display_data"
    }
   ],
   "source": [
    "plt.figure(figsize=(12, 8))\n",
    "\n",
    "sns.scatterplot(x = \"Length\", y = \"Price\", hue='House_type', data=df)"
   ]
  },
  {
   "cell_type": "markdown",
   "id": "b041300c",
   "metadata": {},
   "source": [
    "### ---------> OBSERVATION\n",
    "> There is 1 extreme outlier in the dataset for the `Length` attribute that > 8000000 meter."
   ]
  },
  {
   "cell_type": "markdown",
   "id": "7cb950e7",
   "metadata": {},
   "source": [
    "### Multivariate data analysis"
   ]
  },
  {
   "cell_type": "code",
   "execution_count": null,
   "id": "c8f86ec5",
   "metadata": {
    "pycharm": {
     "name": "#%%\n"
    }
   },
   "outputs": [],
   "source": [
    "fig, ax = plt.subplots()\n",
    "\n",
    "df.plot(x='Area', y='Price',\n",
    "                     kind='scatter', s=60, c='Month',\n",
    "                     cmap='magma_r', title='House Price by Area',\n",
    "                     figsize=(12, 8), ax=ax)\n",
    "\n",
    "plt.show()"
   ]
  },
  {
   "cell_type": "markdown",
   "id": "b530a88f",
   "metadata": {},
   "source": [
    "### ---------> OBSERVATION\n",
    "> There are outliers from the range of 20000 to 20000 meter square for the Area column"
   ]
  },
  {
   "cell_type": "markdown",
   "id": "fc54cdf9",
   "metadata": {},
   "source": [
    "# Date visualization"
   ]
  },
  {
   "cell_type": "markdown",
   "id": "b4d40833",
   "metadata": {},
   "source": [
    "### Number of houses for Day Of Week by Types"
   ]
  },
  {
   "cell_type": "code",
   "execution_count": null,
   "id": "03af6859",
   "metadata": {
    "pycharm": {
     "name": "#%%\n"
    }
   },
   "outputs": [],
   "source": [
    "# define the figure size\n",
    "plt.figure(figsize=(15, 5))\n",
    "\n",
    "# create count plot for severity for each year\n",
    "sns.countplot(x='Day_Of_Week', hue='House_type', data=df)\n",
    "\n",
    "# set the ticks, labels and title\n",
    "plt.title('House Type Count by Week Day', size=15, y=1.05)\n",
    "plt.ylabel(\"Number of Houses\")\n",
    "\n",
    "# show plot\n",
    "plt.show()"
   ]
  },
  {
   "cell_type": "markdown",
   "id": "41f81b0f",
   "metadata": {},
   "source": [
    "### ---------> OBSERVATION\n",
    "> The most houses were recorded on Tuesday, and the BYROAD house is the most popular house type."
   ]
  },
  {
   "cell_type": "markdown",
   "id": "e107abb5",
   "metadata": {},
   "source": [
    "### Number of houses for Month by Types"
   ]
  },
  {
   "cell_type": "code",
   "execution_count": null,
   "id": "95bb7d87",
   "metadata": {
    "pycharm": {
     "name": "#%%\n"
    }
   },
   "outputs": [],
   "source": [
    "# import calendar for getting the month and week names\n",
    "import calendar\n",
    "\n",
    "# define the plot size\n",
    "plt.figure(figsize=(20, 5))\n",
    "\n",
    "# create count plot for severity for each month\n",
    "sns.countplot(x='Month', hue='House_type', data=df)\n",
    "\n",
    "# set itle, labels and ticks\n",
    "plt.title('House Type Count by Month', size=15, y=1.05)\n",
    "plt.ylabel(\"Number of Houses\")\n",
    "plt.xticks(np.arange(0, 12, 1), calendar.month_name[1:13])\n",
    "\n",
    "#show plot\n",
    "plt.show()"
   ]
  },
  {
   "cell_type": "markdown",
   "id": "1df3220c",
   "metadata": {},
   "source": [
    "### ---------> OBSERVATION\n",
    "> Surprisingly, significantly higher houses were recorded from May to July, and the BYROAD house is the most popular house type."
   ]
  },
  {
   "cell_type": "markdown",
   "id": "6610c47d",
   "metadata": {},
   "source": [
    "### Number Houses for Year By Types"
   ]
  },
  {
   "cell_type": "code",
   "execution_count": null,
   "id": "c7fec6e6",
   "metadata": {
    "pycharm": {
     "name": "#%%\n"
    }
   },
   "outputs": [],
   "source": [
    "# define the figure size\n",
    "plt.figure(figsize=(15, 5))\n",
    "\n",
    "# create count plot for severity for each year\n",
    "sns.countplot(x='Year', hue='House_type', data=df)\n",
    "\n",
    "# set the ticks, labels and title\n",
    "plt.title('House Type Count by Year', size=15, y=1.05)\n",
    "plt.ylabel(\"Number of Houses\")\n",
    "\n",
    "# show plot\n",
    "plt.show()"
   ]
  },
  {
   "cell_type": "markdown",
   "id": "62632ea2",
   "metadata": {},
   "source": [
    "### ---------> OBSERVATION\n",
    "> Significantly higher houses were recorded in 2020. The BYROAD house is the most popular and the VILLA is the least popular house type might due to their expensive price."
   ]
  },
  {
   "cell_type": "markdown",
   "id": "bf4a5cab",
   "metadata": {},
   "source": [
    "# FacetGrid\n",
    "* We first initialise a FacetGrid object with a dataframe\n",
    "* Specify the row, column and hue parameters\n",
    "* Every unique value of the categorical variable is then used to create a facet along the specified axis.\n",
    "* A plotting function is applied to each subset by using a map function\n"
   ]
  },
  {
   "cell_type": "code",
   "execution_count": null,
   "id": "a1782f56",
   "metadata": {
    "pycharm": {
     "name": "#%%\n"
    }
   },
   "outputs": [],
   "source": [
    "g=sns.FacetGrid(df,col=\"House_type\")\n",
    "g.map(plt.hist,\"Price\")\n",
    "\n",
    "plt.xlim(0,500)\n",
    "plt.ylim(0,10000)"
   ]
  },
  {
   "cell_type": "markdown",
   "id": "d0149a2b",
   "metadata": {},
   "source": [
    "### ---------> OBSERVATION\n",
    "\n",
    "> We have called the plt.hist function to plot a histogram for the count and total price for the different types of house types in Hanoi.\n",
    "\n",
    "> It is clear that the STREET house type has the highest price. It has the maximum interaction in the form of all types. The histogram shows that the price between 0 and 300 has the largest area, implying highest price.\n",
    "\n",
    "> All houses have more likely to have prices in the range of 50 to 300.\n",
    "\n",
    "> The houses with a STREET house type are more popular than those with VILLA, BYROAD, or TOWNHOUSE types."
   ]
  },
  {
   "cell_type": "markdown",
   "id": "a5d9a833",
   "metadata": {},
   "source": [
    "#### We now pass multiple variables to make a relational Scatterplot.\n",
    "\n",
    "#### Adding a legend to show what the colors stand for\n",
    "We have added \"alpha=0.7\" to reduce the opacity of the points in the scatterplot.\n",
    "It is 1 by default. Making it closer to 0 makes it more transparent."
   ]
  },
  {
   "cell_type": "code",
   "execution_count": null,
   "id": "ac2cdb24",
   "metadata": {
    "pycharm": {
     "name": "#%%\n"
    }
   },
   "outputs": [],
   "source": [
    "g=sns.FacetGrid(df, col=\"House_type\")\n",
    "g.map(plt.scatter,\"Area\", \"Price\", alpha=0.7)\n",
    "\n",
    "g.add_legend()\n",
    "\n",
    "plt.xlim(0,5000)\n",
    "# plt.ylim(0,10000)"
   ]
  },
  {
   "cell_type": "markdown",
   "id": "a427cdeb",
   "metadata": {},
   "source": [
    "### ---------> OBSERVATION\n",
    "> In the range of 0 to 5000 meter square, the STREET house type has the highest price and the BYROAD has larger area than others"
   ]
  },
  {
   "cell_type": "code",
   "execution_count": null,
   "id": "e5931915",
   "metadata": {
    "pycharm": {
     "name": "#%%\n"
    }
   },
   "outputs": [],
   "source": [
    "#Creating a dictionary for markers and passing it to hue_kws variable\n",
    "h={0:\"pink\",1:\"blue\"}\n",
    "i={\"marker\":[\"^\",\"v\"]}\n",
    "\n",
    "g=sns.FacetGrid(df,row=\"Year\",\n",
    "                col=\"House_type\",\n",
    "                # hue=\"Area\",\n",
    "                margin_titles=True,\n",
    "                palette=h,\n",
    "                hue_kws=i)\n",
    "\n",
    "g.map(sns.regplot,\"Area\",\"Price\",fit_reg=False)\n",
    "\n",
    "g.add_legend()\n",
    "plt.xlim(0,1000)"
   ]
  },
  {
   "cell_type": "markdown",
   "id": "b7879e07",
   "metadata": {},
   "source": [
    "### ---------> OBSERVATION\n",
    "> In the range of 0 to 1000 meter square, the STREET and BYROAD house types have the highest price and the larger area than others in 2020\n",
    "> In 2019, a significant portion of the houses were recorded in the range of 0 to 400 meter square.\n",
    "\n",
    "> We see that the points are plotted with the specified markers. As we have also specified colours, we see that the markers are in accordance with the passed in color scheme\n",
    "\n"
   ]
  },
  {
   "cell_type": "markdown",
   "id": "8c17c13b",
   "metadata": {},
   "source": [
    "# Bar plot,"
   ]
  },
  {
   "cell_type": "markdown",
   "id": "07e1592d",
   "metadata": {},
   "source": [
    "*We simply pass in an ordered list to the corresponding parameter, for eg, row_order, hue_order, etc.* <br>\n",
    "By default, the variables are ordered in ascending order if they are numbers, and in the order of appearance otherwise."
   ]
  },
  {
   "cell_type": "code",
   "execution_count": null,
   "id": "235045e8",
   "metadata": {
    "pycharm": {
     "name": "#%%\n"
    }
   },
   "outputs": [],
   "source": [
    "g=sns.FacetGrid(df,col=\"No_floor\", col_order=[\"1\", \"2\", \"3\", \"4\", \"5\", \"6\", \"7\", \"8\", \"9\", \"10\", \"GREATER_THAN_10\"], col_wrap=6)\n",
    "\n",
    "g.map(sns.barplot,\"Month\",\"Price\")"
   ]
  },
  {
   "cell_type": "markdown",
   "id": "19a7fe50",
   "metadata": {},
   "source": [
    "### We have to zoom in into each graph if we want to understand this. Do we have a way to make them of readable size and position them better?"
   ]
  },
  {
   "cell_type": "code",
   "execution_count": null,
   "id": "4b8a4b35",
   "metadata": {
    "pycharm": {
     "name": "#%%\n"
    }
   },
   "outputs": [],
   "source": [
    "g=sns.FacetGrid(df, col=\"District\", col_wrap=6)\n",
    "g.map(sns.barplot,\"Year\",\"Price\")"
   ]
  },
  {
   "cell_type": "markdown",
   "id": "c9ee4539",
   "metadata": {},
   "source": [
    "### ---------> OBSERVATION\n",
    "> Hoan Kiem district has the highest house price in the year 2020."
   ]
  },
  {
   "cell_type": "code",
   "execution_count": null,
   "id": "e9a68a1f",
   "metadata": {
    "pycharm": {
     "name": "#%%\n"
    }
   },
   "outputs": [],
   "source": [
    "# The most common Ward"
   ]
  },
  {
   "cell_type": "code",
   "execution_count": null,
   "id": "45e0ce34",
   "metadata": {
    "pycharm": {
     "name": "#%%\n"
    }
   },
   "outputs": [],
   "source": [
    "from wordcloud import WordCloud\n",
    "\n",
    "\"\"\"\n",
    "Word Cloud¶:\n",
    "get the most common words in the address field to later simplify them.\n",
    "\"\"\"\n",
    "\n",
    "text = str(list(df['Ward'])).replace(',', '').replace(';', '').replace(\"'\", '').replace(']', '')\n",
    "\n",
    "plt.rcParams['figure.figsize'] = (10, 10)\n",
    "wordcloud = WordCloud(background_color = 'white', width = 1200,  height = 1200, max_words = 122).generate(text)\n",
    "plt.imshow(wordcloud)\n",
    "plt.axis('off')\n",
    "plt.show()"
   ]
  },
  {
   "cell_type": "markdown",
   "id": "6c661058",
   "metadata": {},
   "source": [
    "### ---------> OBSERVATION\n",
    "> Khuong Truong and Khuong Dinh are the most common wards in the dataset."
   ]
  },
  {
   "cell_type": "markdown",
   "id": "427b643f",
   "metadata": {},
   "source": []
  },
  {
   "cell_type": "markdown",
   "id": "81fd14f5",
   "metadata": {},
   "source": [
    "<a id=\"2\"></a>\n",
    "<h1 style=\"color:#ffc0cb;font-size:40px;font-family:Georgia;text-align:center;\"><strong>Part 3. Visualization and Feature Relations - CHAU</strong></h1>"
   ]
  },
  {
   "cell_type": "markdown",
   "id": "a6c89862",
   "metadata": {},
   "source": [
    "***\n",
    "Before we dive into finding relations between independent variables and our dependent variable(Price_per_metersquare), let us create some assumptions about how the relations may turn-out among features.\n",
    "\n",
    "**Assumptions:**\n",
    "\n",
    "- Same housing type, the plot in urban districts in Hanoi should not be lower than the suburban districts.\n",
    "- Villa house should have the higest amount of money\n",
    "- Surburban should have the more optimised option for the consumers\n",
    "\n",
    "\n",
    "Now, let's see how the features are related to each other by creating some visualizations.\n",
    "****\n",
    "##  3a. Some domain knowledge:\n",
    "***\n",
    "1. **Housing_type**:\n",
    "> In the same street, the lane house should be cheeper than the Frontage or Villa house, but in some cases they have more advantages since the rules for building them is not as restricted as the Frontage or Villa house.\n",
    "\n",
    "2. **Number of Floor**:\n",
    "- **The Land lot with an area of 30m2 to less than 40m2** : With a facade width greater than 3m, a depth of more than 5m compared to the construction boundary, it is allowed to build no more than 4 floors + 1 tum (total height < 16m).\n",
    "- **The Land lot with an area of 40m2 - 50m2** : If the width of the facade is over 3m and less than 8m, the depth compared to the construction limit is greater than 5m, it is allowed to build no more than 5 floors + 1 tum, or have a heat resistant roof (total height of the house < 20m).\n",
    "- **The Land Lot with an area of over 50m2**: The width of the facade is greater than 8m, the depth is greater than 5m compared to the construction boundary or the construction works on both sides of the road in the restricted development planning area, the 6-storey house may be built.\n",
    "\n",
    "3. **Legal_documents**:\n",
    "In Vietnam, the House ownership certificate is used for transfer of land use right, however, it is still possible in transfering in some cases\n",
    "- Having a Certificate, except for the case specified in Clause 3, Article 186 and the case of inheritance specified in Clause 1, Article 168 of this Law.\n",
    "\n",
    "- Undisputed land.\n",
    "\n",
    "- The land use right is not distrained to secure judgment enforcement.\n",
    "\n",
    "- During the land use term.\n",
    "\n",
    "However, it is **NOT SAFE** to use these plots since the land users can just only use temporarily the land in its current state until the State recovers the land, and the condition is extremely overwhelmed and restricted.\n",
    "\n",
    "4. **Area, Length and Width** :\n",
    "According to The latest report on the conditions for the separation of plots in Hanoi in 2021, the plot having area less than 30m^2 can still be sold but it has to follow the condition:\n",
    "\n",
    "According to Clause 1, Article 188 of the 2013 Land Law, when transferring land use rights (which people often call land purchase and sale), the land user must meet the following conditions:\n",
    "\n",
    "- Having Certificate, except 02 cases;\n",
    "\n",
    "- Undisputed land;\n",
    "\n",
    "- The land use right is not distrained to secure judgment enforcement;\n",
    "\n",
    "- During the land use period.\n",
    "\n",
    "Moreover in order to build a house, the plot must be calculated the density for the plot with the formula\n",
    "\n",
    "Density (%) = 90 + (85-90) / (100-75) * ( <b> Area </b> - 75)\n",
    "***\n",
    "For example, your lot area is 83m2. Your house is in the inner city. The construction density is calculated as follows:\n",
    "\n",
    "Density (%) = 90 + (85-90) / (100-75) * (83-75) = 88.4%\n",
    "\n",
    "Thus, the land area is 83m2, the area allowed to build: 83 x 88.4% = 73.37m2. The rest is not built as a setback and atrium (leave space) to ensure density.\n",
    "***\n",
    "\n",
    "5. **Price_per_metersquare** :\n",
    "- Arcoding to Tuoitre, the Price_per_metersquare is in the range from 495000 VND/m2 to 87.920.000 VND/m2 is safe and ideal for consume\n",
    "- Having same housing type, the plot in urban districts in Hanoi should not be lower than the suburban districts\n",
    "***\n",
    "\n",
    "***So that the safety condition for the customers is:**\n",
    "- Plot has number of floor is less than 8. (*)\n",
    "- Already had registration book.\n",
    "- The Area is higher than 30m^2. (*)\n",
    "- Price is in the range from 495000 VND/m2 to 87920000 VND/m2.\n",
    "- Same housing type, the plot in urban districts in Hanoi should not be lower than the suburban districts.\n",
    "- In the same street, the lane house should be cheaper than the Frontage or Villa house.\n",
    "\n",
    "(*): Must go together otherwise the buildings have high probability to fall.\n",
    "\n",
    "***Reference:***\n",
    "- The latest report on the conditions for the separation of plots in Hanoi in 2021:\n",
    "> https://danviet.vn/dieu-kien-tach-thua-tai-ha-noi-nam-2021-moi-nhat-2021032906255103.htm\n",
    "- Height Limitation:\n",
    "> https://noithatmyhouse.com/quy-dinh-chieu-cao-xay-dung-nha-o/\n",
    "- Legal Document:\n",
    "> https://luatvietnam.vn/dat-dai-nha-o/su-dung-dat-khong-co-so-do-567-27503-article.html\n",
    "- Report on limited area for buy:\n",
    "> https://luatvietnam.vn/dat-dai-nha-o/dat-nho-hon-dien-tich-toi-thieu-co-duoc-phep-mua-ban-567-22530-article.html\n",
    "- Price of housing plot in Hanoi:\n",
    "> https://tuoitre.vn/gia-dat-o-tai-ha-noi-cao-nhat-187-92-trieu-met-vuong-20191226102403571.htm\n",
    "- Price of housing plot in Hanoi::\n",
    "> https://laodong.vn/bat-dong-san/dat-hon-vang-nhung-tuyen-pho-giua-long-ha-noi-790770.ldo"
   ]
  },
  {
   "cell_type": "markdown",
   "id": "8a90d13f",
   "metadata": {},
   "source": [
    "## 3b. Add New Features For Visualising"
   ]
  },
  {
   "cell_type": "code",
   "execution_count": null,
   "id": "4a9f9829",
   "metadata": {
    "pycharm": {
     "name": "#%%\n"
    }
   },
   "outputs": [],
   "source": [
    "PROPS = {\n",
    "    'boxprops':{'edgecolor':'black'},\n",
    "    'medianprops':{'color':'black'},\n",
    "    'whiskerprops':{'color':'black'},\n",
    "    'capprops':{'color':'black'}\n",
    "}\n",
    "def plot_box(dataset, x, y, xlabel, ylabel, title, subtitle, color, title_position, subtitle_position, order=None):\n",
    "    ax = sns.boxplot(data = dataset, y = y, x = x, order = order,\n",
    "                 linewidth = 1.2, color = color, **PROPS,\n",
    "                 flierprops = dict(marker = 'o', markeredgecolor = 'black', markersize = 6.5, linestyle = 'none', markerfacecolor = color, alpha = 0.9))\n",
    "\n",
    "    plt.xlabel(xlabel, fontweight = 'bold', fontsize = 16)\n",
    "    plt.ylabel(ylabel, fontweight = 'bold', fontsize = 16)\n",
    "    ax.tick_params(labelsize = 14)\n",
    "    ax.text(x = title_position, y = 1.07, s = title, fontsize = 22.5, weight = 'bold', ha = 'center', va = 'bottom', transform = ax.transAxes)\n",
    "    ax.text(x = subtitle_position, y = 1.03, s = subtitle, fontsize = 16.5, alpha = 0.75, ha = 'center', va = 'bottom', transform = ax.transAxes)\n",
    "    plt.show()"
   ]
  },
  {
   "cell_type": "markdown",
   "id": "c5509a0f",
   "metadata": {},
   "source": [
    "## Unsafety Example\n",
    "***\n",
    "This is just one of the unsafety example. In this example, the Area is less than 30m^2 and the height is higher than 8 floors."
   ]
  },
  {
   "cell_type": "code",
   "execution_count": null,
   "id": "e75dc971",
   "metadata": {
    "pycharm": {
     "name": "#%%\n"
    }
   },
   "outputs": [],
   "source": [
    "options = ['GREATER_THAN_10', '9', '10']\n",
    "\n",
    "unsafety = df[(df['Area'] < 30) & (df['No_floor'].isin(options))]\n",
    "unsafety"
   ]
  },
  {
   "cell_type": "markdown",
   "id": "71b777db",
   "metadata": {},
   "source": [
    "## New \"isUrban\" Column\n",
    "***\n",
    "The target is to find the location for the best optimised plots. Hence, at first the dataset is separted in to urban or suburbans, then compare them. In case, if the urban is more optimised then explore in which districts in urban is the most ideal option"
   ]
  },
  {
   "cell_type": "code",
   "execution_count": null,
   "id": "fbf0838c",
   "metadata": {
    "pycharm": {
     "name": "#%%\n"
    }
   },
   "outputs": [],
   "source": [
    "def isUrban(district):\n",
    "    urban = ['ĐỐNG ĐA', 'THANH XUÂN', 'HOÀNG MAI',  'HAI BÀ TRƯNG',\n",
    "             'HÀ ĐÔNG', 'CẦU GIÂY', 'BA ĐÌNH', 'LONG BIÊN',\n",
    "             'NAM TỪ LIÊM', 'TÂY HỒ', 'BẮC TỪ LIÊM', 'HOÀN KIẾM']\n",
    "    inUrban = 'URBAN'\n",
    "    for i in range (0, 11):\n",
    "        if(district == urban[i]): inUrban = 'SUBURBAN'\n",
    "    return inUrban\n",
    "\n",
    "df['isUrban'] = df['District'].apply(isUrban)"
   ]
  },
  {
   "cell_type": "markdown",
   "id": "e3abcfef",
   "metadata": {},
   "source": [
    "## New \"isSafe\" Column\n",
    "***"
   ]
  },
  {
   "cell_type": "code",
   "execution_count": null,
   "id": "7f020bdb",
   "metadata": {
    "pycharm": {
     "name": "#%%\n"
    }
   },
   "outputs": [],
   "source": [
    "def isSafe(Legal_documents, Number_of_floor, Construction_density, Price_per_metersquare):\n",
    "    floor = ['GREATER_THAN_10', '8', '7', '9', '10']\n",
    "    larger_than_8 = False\n",
    "    for i in range (0, len(floor)):\n",
    "        if(larger_than_8 == floor[i]): larger_than_8 = True\n",
    "    if(Legal_documents == 'Already had registration book' or (larger_than_8 == True) and\n",
    "       (Construction_density > 30) and (Price_per_metersquare > 495000 and Price_per_metersquare < 87920000)):\n",
    "        return True\n",
    "    else:\n",
    "        return False\n",
    "\n",
    "df['isSafe'] = df.apply(lambda x: isSafe(x['Legal_documents'], x['No_floor'], x['Area'], x['Price']), axis=1)"
   ]
  },
  {
   "cell_type": "markdown",
   "id": "999fbb61",
   "metadata": {},
   "source": [
    "## 3c. Plotting Features\n",
    "***\n",
    "***Main Target***\n",
    "- Determine best time for buying plots.\n",
    "- Location (urban, suburban, and district) best to buy plots."
   ]
  },
  {
   "cell_type": "markdown",
   "id": "a88755d6",
   "metadata": {},
   "source": [
    "## Time: Determine best time for buying plots"
   ]
  },
  {
   "cell_type": "markdown",
   "id": "763b989f",
   "metadata": {},
   "source": [
    "### House Price Count by Month"
   ]
  },
  {
   "cell_type": "code",
   "execution_count": null,
   "id": "36665818",
   "metadata": {
    "pycharm": {
     "name": "#%%\n"
    }
   },
   "outputs": [],
   "source": [
    "plot = sns.catplot(data=df, kind=\"bar\", x=\"Month\", y=\"Price\", height = 10)\n",
    "\n",
    "plot.fig.suptitle(\"Price by Month\", fontsize=25, fontdict={\"weight\": \"bold\"}, y=1.08, fontweight = 'bold')\n",
    "plot.set_xlabels(\"Month\", fontsize = 20, fontweight = 'bold' )\n",
    "plot.set_ylabels(\"Price(per metersquare)\", fontsize = 20, fontweight = 'bold')"
   ]
  },
  {
   "cell_type": "markdown",
   "id": "1773abfa",
   "metadata": {},
   "source": [
    "## OBSERVATION:\n",
    "Overall, The price house in Febuary has the highest price, while in the September has the lowest price. Moreover, the price in the Febuary is **approximately double** of the price in September. What is the factor results in high price? Select the high price month and analyse with **House_type, No_floor, No_bedroom, area, isSafe**."
   ]
  },
  {
   "cell_type": "markdown",
   "id": "c7548d33",
   "metadata": {},
   "source": [
    "### What factors affects the price?"
   ]
  },
  {
   "cell_type": "code",
   "execution_count": null,
   "id": "bcd66518",
   "metadata": {
    "pycharm": {
     "name": "#%%\n"
    }
   },
   "outputs": [],
   "source": [
    "df.describe()"
   ]
  },
  {
   "cell_type": "markdown",
   "id": "579890c4",
   "metadata": {},
   "source": [
    "**Select the Febuary**"
   ]
  },
  {
   "cell_type": "code",
   "execution_count": null,
   "id": "c38d0503",
   "metadata": {
    "pycharm": {
     "name": "#%%\n"
    }
   },
   "outputs": [],
   "source": [
    "highPriceMonth = df[(df['Month'] == 2)]"
   ]
  },
  {
   "cell_type": "code",
   "execution_count": null,
   "id": "08ae5ead",
   "metadata": {
    "pycharm": {
     "name": "#%%\n"
    }
   },
   "outputs": [],
   "source": [
    "highPriceMonth.describe()"
   ]
  },
  {
   "cell_type": "markdown",
   "id": "87e2c85c",
   "metadata": {},
   "source": [
    "**Select the September**"
   ]
  },
  {
   "cell_type": "code",
   "execution_count": null,
   "id": "a92e3e01",
   "metadata": {
    "pycharm": {
     "name": "#%%\n"
    }
   },
   "outputs": [],
   "source": [
    "lowPriceMonth = df[(df['Month'] == 9)]\n",
    "lowPriceMonth"
   ]
  },
  {
   "cell_type": "markdown",
   "id": "9698f5a5",
   "metadata": {},
   "source": [
    "**Febuary**\n",
    "Max Area, Length, Width is higher than 75% of the dataset\n",
    "\n",
    "**September**\n",
    "Max Area, Length, Width is just equal to the 50 percent of the dataset\n",
    "\n",
    "\n",
    "> **So Max Area, Length, Width are the considerable factors on the price**\n"
   ]
  },
  {
   "cell_type": "markdown",
   "id": "cda6e8f2",
   "metadata": {},
   "source": [
    "### The Price of the plot in the Febuary in each area."
   ]
  },
  {
   "cell_type": "code",
   "execution_count": null,
   "id": "96b2abd5",
   "metadata": {
    "pycharm": {
     "name": "#%%\n"
    }
   },
   "outputs": [],
   "source": [
    "highPriceMonth_sort = highPriceMonth.sort_values('Area').reset_index(drop=True)\n",
    "highPriceMonth_sort['Area'].plot(kind='line', title=\"Area\", color=\"black\")\n",
    "\n",
    "# depicting the visualization\n",
    "plt.xlabel('Area', fontsize = 20, fontweight = 'bold')\n",
    "plt.ylabel('Price', fontsize = 20, fontweight = 'bold')\n",
    "\n",
    "# displaying the title\n",
    "plt.title(\"The Price of the plot in the Febuary in each area\", fontsize = 25, fontweight = 'bold')\n",
    "\n",
    "plt.show()"
   ]
  },
  {
   "cell_type": "markdown",
   "id": "7e2a4bdd",
   "metadata": {},
   "source": [
    "### The Price of each plot in each type of legal documents with different number of room and floor in Febuary"
   ]
  },
  {
   "cell_type": "code",
   "execution_count": null,
   "id": "5240af4f",
   "metadata": {
    "pycharm": {
     "name": "#%%\n"
    }
   },
   "outputs": [],
   "source": [
    "sns.set_theme(style=\"ticks\", palette=\"pastel\") #choose pastel color\n",
    "plot = sns.catplot(data=highPriceMonth, kind=\"bar\", x=\"Legal_documents\", y=\"Price\", hue=\"No_floor\", col = \"No_bedroom\", height = 10)\n",
    "plot.fig.suptitle(\"The Price of each plot in each type of legal documents with different number of room and floor in Febuary\", fontsize=20,\n",
    "                  fontdict={\"weight\": \"bold\"}, y=1.08)\n",
    "plot.set_xlabels(\"Legal documents\", fontsize = 20, fontweight = 'bold')\n",
    "plot.set_ylabels(\"Price(per metersquare)\", fontsize = 20, fontweight = 'bold')"
   ]
  },
  {
   "cell_type": "markdown",
   "id": "418a64df",
   "metadata": {},
   "source": [
    "## OBSERVATION:\n",
    "- The plot have high price have:\n",
    "> - Available Legal Documents\n",
    "> - Number of room more than 3 rooms\n",
    "> - Number of floor more than 3 floors"
   ]
  },
  {
   "cell_type": "markdown",
   "id": "bd0f4919",
   "metadata": {},
   "source": [
    "### Proportion Legal documents in Febuary"
   ]
  },
  {
   "cell_type": "code",
   "execution_count": null,
   "id": "4399b7db",
   "metadata": {
    "pycharm": {
     "name": "#%%\n"
    }
   },
   "outputs": [],
   "source": [
    "highPriceMonth['Legal_documents'].value_counts().plot.pie(legend=False, autopct='%1.1f%%', startangle=0, textprops={'fontsize': 16})\n",
    "plt.ylabel('')\n",
    "plt.title('Proportion Legal documents in Febuary', fontsize=25, fontweight = 'bold')\n",
    "plt.rcParams['figure.figsize'] = [15, 10]"
   ]
  },
  {
   "cell_type": "markdown",
   "id": "23d849f8",
   "metadata": {},
   "source": [
    "## OBSERVATION:\n",
    "- The percentage of plots having the available legal document is over tripple the other and there is no waiting legal document\n",
    "> It seems to be more safer and the Legal document is one of the influences for the price in the Febuary is more high."
   ]
  },
  {
   "cell_type": "markdown",
   "id": "e7ea0e98",
   "metadata": {},
   "source": [
    "### Proportion Number of floor in Febuary"
   ]
  },
  {
   "cell_type": "code",
   "execution_count": null,
   "id": "d4460466",
   "metadata": {
    "pycharm": {
     "name": "#%%\n"
    }
   },
   "outputs": [],
   "source": [
    "highPriceMonth['No_floor'].value_counts().plot.pie(legend=False, autopct='%1.1f%%', startangle=0, textprops={'fontsize': 16})\n",
    "plt.ylabel('')\n",
    "plt.title('Proportion Number of floor in Febuary', fontsize=25, fontweight = 'bold')\n",
    "plt.rcParams['figure.figsize'] = [15, 10]"
   ]
  },
  {
   "cell_type": "markdown",
   "id": "9317569c",
   "metadata": {},
   "source": [
    "## OBSERVATION:\n",
    "- The percentage of plots having the number of floor which is higher than 4 is higher than 11 times of the number of floor lower than 4.\n",
    "> It seems to be more optimised and the number of floor is one of the influences for the price in the Febuary is more high."
   ]
  },
  {
   "cell_type": "markdown",
   "id": "1514e8c0",
   "metadata": {},
   "source": [
    "### Proportion Number of bedroom in Febuary"
   ]
  },
  {
   "cell_type": "code",
   "execution_count": null,
   "id": "c12f9dff",
   "metadata": {
    "pycharm": {
     "name": "#%%\n"
    }
   },
   "outputs": [],
   "source": [
    "highPriceMonth['No_bedroom'].value_counts().plot.pie(legend=False, autopct='%1.1f%%', startangle=0, textprops={'fontsize': 16})\n",
    "plt.ylabel('')\n",
    "plt.title('Proportion Number of bedroom in Febuary', fontsize=25, fontweight = 'bold')\n",
    "plt.rcParams['figure.figsize'] = [15, 10]"
   ]
  },
  {
   "cell_type": "markdown",
   "id": "d6bee49a",
   "metadata": {},
   "source": [
    "## OBSERVATION:\n",
    "- The percentage of plots having the number of bedrooms which is higher than 4 is higher than doubke of the number of bedrooms lower than 4.\n",
    "> It seems to be more optimised and the number of bedrooms is one of the influences for the price in the Febuary is more high."
   ]
  },
  {
   "cell_type": "markdown",
   "id": "41158641",
   "metadata": {},
   "source": [
    "### Proportion House Type in Febuary"
   ]
  },
  {
   "cell_type": "code",
   "execution_count": null,
   "id": "e2e84cfc",
   "metadata": {
    "pycharm": {
     "name": "#%%\n"
    }
   },
   "outputs": [],
   "source": [
    "highPriceMonth['House_type'].value_counts().plot.pie(legend=False, autopct='%1.1f%%', startangle=0, textprops={'fontsize': 16})\n",
    "plt.ylabel('')\n",
    "plt.title('Proportion House Type in Febuary', fontsize=25, fontweight = 'bold')\n",
    "plt.rcParams['figure.figsize'] = [15, 10]"
   ]
  },
  {
   "cell_type": "markdown",
   "id": "7abadd6f",
   "metadata": {},
   "source": [
    "## OBSERVATION:\n",
    "- The highest proportion house type in Febuary is the Street_house which is more than 44 percent, the town house is the second common option. The byroad and the villa is the least common option with just over 20 percent in total."
   ]
  },
  {
   "cell_type": "markdown",
   "id": "8c268638",
   "metadata": {},
   "source": [
    "### Price of each housing  types having different type of legal document"
   ]
  },
  {
   "cell_type": "code",
   "execution_count": null,
   "id": "91e1b2c0",
   "metadata": {
    "pycharm": {
     "name": "#%%\n"
    }
   },
   "outputs": [],
   "source": [
    "sns.set_style('darkgrid')\n",
    "fig, ax = plt.subplots(figsize=(16,12),ncols=2)\n",
    "ax1 = sns.boxplot(x=\"Price\", y=\"Legal_documents\", hue=\"House_type\", data=df, ax = ax[0]);\n",
    "ax2 = sns.boxplot(x=\"Price\", y=\"Legal_documents\", hue=\"House_type\", data=highPriceMonth, ax = ax[1]);\n",
    "ax1.set_title(\"Orginal Data Set\", fontsize = 18, fontweight = 'bold')\n",
    "ax2.set_title('Febuary Data Set',  fontsize = 18, fontweight = 'bold')\n",
    "\n",
    "fig.show()"
   ]
  },
  {
   "cell_type": "markdown",
   "id": "bc4cf11f",
   "metadata": {},
   "source": [
    "### The Price of each plot in each type of legal documents with different housing types in Febuary"
   ]
  },
  {
   "cell_type": "code",
   "execution_count": null,
   "id": "4be85f1e",
   "metadata": {
    "pycharm": {
     "name": "#%%\n"
    }
   },
   "outputs": [],
   "source": [
    "sns.set_theme(style=\"ticks\", palette=\"pastel\") #choose pastel color\n",
    "plot = sns.catplot(data=highPriceMonth, kind=\"bar\", x=\"Legal_documents\", y=\"Price\", hue=\"House_type\", height = 10)\n",
    "plot.fig.suptitle(\"The Price of each plot in each type of legal documents with different housing types in Febuary\", fontsize=20,\n",
    "                  fontdict={\"weight\": \"bold\"}, y=1.08)\n",
    "plot.set_xlabels(\"Legal documents\", fontsize = 20, fontweight = 'bold')\n",
    "plot.set_ylabels(\"Price(per metersquare)\", fontsize = 20, fontweight = 'bold')"
   ]
  },
  {
   "cell_type": "markdown",
   "id": "dda9073e",
   "metadata": {},
   "source": [
    "***Summary***\n",
    "***\n",
    "The price in Febuary is the highest based on the fact that they have a high number of area, length, width, floors and available docmunents.\n",
    "\n",
    "> - The highest price is in Feburary, and its price is twice of the September, whose price is the lowest\n",
    "> - The plot have high price have:\n",
    "> >  - Available Legal Documents\n",
    "> >  - Number of room more than 3 rooms\n",
    "> >  - Number of floor more than 3 floors.\n",
    "> The percentage of plots having the available legal document is over tripple the other and there is no waiting legal document.\n",
    "> The percentage of plots having the number of floor which is higher than 4 is higher than 11 times of the number of floor lower than 4.\n",
    "> The percentage of plots having the number of room which is higher than 4 is higher than double of the number of room lower than 4.\n",
    "***\n",
    "> The Area, Length, Width and Floors is the factor that influences on the Price.\n",
    "> The highest proportion house type in Febuary is the Street_house which is more than 44 percent, the town house is the second common option. The byroad and the villa is the least common option with just over 20 percent in total.\n",
    "\n",
    "***\n",
    "***Next Target***\n",
    "- Determine the most optimised location"
   ]
  },
  {
   "cell_type": "markdown",
   "id": "29e87844",
   "metadata": {},
   "source": [
    "## Location (urban, suburban, and district) best to buy plots."
   ]
  },
  {
   "cell_type": "markdown",
   "id": "e53432d0",
   "metadata": {},
   "source": [
    "### Distribution (Proportion) of Urban and Suburban"
   ]
  },
  {
   "cell_type": "code",
   "execution_count": null,
   "id": "89e62a7c",
   "metadata": {
    "pycharm": {
     "name": "#%%\n"
    }
   },
   "outputs": [],
   "source": [
    "# Pie chart\n",
    "labels = ['Urban', 'Suburban']\n",
    "#colors\n",
    "colors = ['#94B3FD', '#FF87CA']\n",
    "ax = plt.pie(df['isUrban'].value_counts(), labels=labels, labeldistance=1.15, colors=colors, autopct='%1.1f%%', textprops={'fontsize': 16});\n",
    "plt.title('Distribution (Proportion) of Urban and Suburban', fontsize=25, fontweight = 'bold')\n",
    "\n",
    "plt.show()"
   ]
  },
  {
   "cell_type": "markdown",
   "id": "2909a010",
   "metadata": {},
   "source": [
    "### Housing Price in Urban and Suburban"
   ]
  },
  {
   "cell_type": "code",
   "execution_count": null,
   "id": "c7e380f1",
   "metadata": {
    "pycharm": {
     "name": "#%%\n"
    }
   },
   "outputs": [],
   "source": [
    "plot_box(df, x = \"Price\", y = \"isUrban\", xlabel = 'PRICE', ylabel = \"LOCATION\", title = \"Housing Price in Urban and Suburban\",\n",
    "         subtitle = \"Distributions, boxplots\", color = \"lightskyblue\", title_position = 0.22, subtitle_position = 0.112)"
   ]
  },
  {
   "cell_type": "code",
   "execution_count": null,
   "id": "39ce9dae",
   "metadata": {
    "pycharm": {
     "name": "#%%\n"
    }
   },
   "outputs": [],
   "source": [
    "sns.set_theme(style=\"ticks\", palette=\"pastel\") #choose pastel color\n",
    "plot = sns.catplot(data=df, kind=\"bar\", x=\"isUrban\", y=\"Price\", hue=\"House_type\", height = 10)\n",
    "plot.fig.suptitle(\"The Price of each Housing Type in 2019 and 2020\", fontsize=20,\n",
    "                  fontdict={\"weight\": \"bold\"}, y=1.08, fontweight = 'bold')\n",
    "plot.set_xlabels(\"Year\", fontsize = 20, fontweight = 'bold')\n",
    "plot.set_ylabels(\"Price(per metersquare)\", fontsize = 20, fontweight = 'bold')"
   ]
  },
  {
   "cell_type": "markdown",
   "id": "c16bd8ed",
   "metadata": {},
   "source": [
    "***Summary***\n",
    "***\n",
    "- The Urban is the popular choice, it account for over 88 percent while the Suburban is less common with lower than 12 percent.\n",
    "- In general, the house in Urban have the higher price, meanwhile, the price of houses in Suburban is noticably lower.\n",
    "***\n",
    "## Why the there is the difference in price:\n",
    "***\n",
    "### Select urban dataset"
   ]
  },
  {
   "cell_type": "code",
   "execution_count": null,
   "id": "77343993",
   "metadata": {
    "pycharm": {
     "name": "#%%\n"
    }
   },
   "outputs": [],
   "source": [
    "options = ['URBAN'] #Select urban\n",
    "\n",
    "#Select urban from the ogrinal dataset:\n",
    "urban = df[(df['isUrban'].isin(options))]"
   ]
  },
  {
   "cell_type": "code",
   "execution_count": null,
   "id": "01a1a175",
   "metadata": {
    "pycharm": {
     "name": "#%%\n"
    }
   },
   "outputs": [],
   "source": [
    "sns.set_theme(style=\"ticks\", palette=\"pastel\") #choose pastel color\n",
    "plot = sns.catplot(data=urban, kind=\"bar\", x=\"Legal_documents\", y=\"Price\", hue=\"No_floor\", col = \"No_bedroom\", height = 10)\n",
    "plot.fig.suptitle(\"The Price of each plot in each type of legal documents with different number of room and floor in Febuary\", fontsize=20,\n",
    "                  fontdict={\"weight\": \"bold\"}, y=1.08)\n",
    "plot.set_xlabels(\"Legal documents\", fontsize = 20, fontweight = 'bold')\n",
    "plot.set_ylabels(\"Price(per metersquare)\", fontsize = 20, fontweight = 'bold')"
   ]
  },
  {
   "cell_type": "markdown",
   "id": "a22b760a",
   "metadata": {},
   "source": [
    "### Distribution (Proportion) of legal documentation in Urban"
   ]
  },
  {
   "cell_type": "code",
   "execution_count": null,
   "id": "e4491783",
   "metadata": {
    "pycharm": {
     "name": "#%%\n"
    }
   },
   "outputs": [],
   "source": [
    "# Pie chart\n",
    "labels = ['AVAILABLE', 'WAITING', 'OTHER']\n",
    "#colors\n",
    "colors = ['#94B3FD', '#FF87CA', '#CD113B']\n",
    "ax = plt.pie(df['Legal_documents'].value_counts(), labels=labels, labeldistance=1.15, colors=colors, autopct='%1.1f%%', textprops={'fontsize': 16});\n",
    "plt.title('Distribution (Proportion) of legal documentation in Urban', fontsize=25, fontweight = 'bold')\n",
    "\n",
    "plt.show()"
   ]
  },
  {
   "cell_type": "markdown",
   "id": "09f99fd6",
   "metadata": {},
   "source": [
    "### Proportion Number of floor in Urban"
   ]
  },
  {
   "cell_type": "code",
   "execution_count": null,
   "id": "f5de3402",
   "metadata": {
    "pycharm": {
     "name": "#%%\n"
    }
   },
   "outputs": [],
   "source": [
    "# the under 18 years old should not have more than 5 years code\n",
    "options = ['AVAILABLE']\n",
    "floor = ['GREATER_THAN_10', '9', '10']\n",
    "\n",
    "# selecting rows based on condition the number of 'YearsCode' is larger than 5\n",
    "#reconfirm the condition again\n",
    "safe = df[(df['Legal_documents'].isin(options)) & (df['Area'] > 30) & (~df['No_floor'].isin(floor)) &\n",
    "             (df['Price'] >= 495.000)]\n",
    "# rslt_df = df[(df['Price'] > 495.000)]\n",
    "safe"
   ]
  },
  {
   "cell_type": "code",
   "execution_count": null,
   "id": "3eeb19c5",
   "metadata": {
    "pycharm": {
     "name": "#%%\n"
    }
   },
   "outputs": [],
   "source": [
    "safe['No_floor'].value_counts().plot.pie(legend=False, autopct='%1.1f%%', startangle=0, textprops={'fontsize': 16})\n",
    "plt.ylabel('')\n",
    "plt.title('Proportion Number of floor in Urban', fontsize=25, fontweight = 'bold')\n",
    "plt.rcParams['figure.figsize'] = [15, 10]"
   ]
  },
  {
   "cell_type": "markdown",
   "id": "fea706bf",
   "metadata": {},
   "source": [
    "### Proportion Number of bedroom in Urban"
   ]
  },
  {
   "cell_type": "code",
   "execution_count": null,
   "id": "e9fe5bc9",
   "metadata": {
    "pycharm": {
     "name": "#%%\n"
    }
   },
   "outputs": [],
   "source": [
    "safe['No_bedroom'].value_counts().plot.pie(legend=False, \\\n",
    "                                      autopct='%1.1f%%', startangle=0, textprops={'fontsize': 16})\n",
    "plt.ylabel('')\n",
    "plt.title('Proportion Number of bedroom in Urban', fontsize=25, fontweight = 'bold')\n",
    "plt.rcParams['figure.figsize'] = [15, 10]"
   ]
  },
  {
   "cell_type": "code",
   "execution_count": null,
   "id": "cd994bac",
   "metadata": {
    "pycharm": {
     "name": "#%%\n"
    }
   },
   "outputs": [],
   "source": [
    "urban.describe()"
   ]
  },
  {
   "cell_type": "markdown",
   "id": "d0ccac64",
   "metadata": {},
   "source": []
  },
  {
   "cell_type": "code",
   "execution_count": null,
   "id": "8021b431",
   "metadata": {
    "pycharm": {
     "name": "#%%\n"
    }
   },
   "outputs": [],
   "source": [
    "sns.set_theme(style=\"ticks\", palette=\"pastel\") #choose pastel color\n",
    "plot = sns.catplot(data=safe, kind=\"bar\", x=\"House_type\", y=\"Price\", hue=\"No_floor\", height = 10)\n",
    "plot.fig.suptitle(\"The Price of each Housing Type in 2019 and 2020\", fontsize=20,\n",
    "                  fontdict={\"weight\": \"bold\"}, y=1.08)\n",
    "plot.set_xlabels(\"Year\", fontsize = 20)\n",
    "plot.set_ylabels(\"Price(per metersquare)\", fontsize = 20)"
   ]
  },
  {
   "cell_type": "code",
   "execution_count": null,
   "id": "b4f236fb",
   "metadata": {
    "pycharm": {
     "name": "#%%\n"
    }
   },
   "outputs": [],
   "source": [
    "PROPS = {\n",
    "    'boxprops':{'edgecolor':'black'},\n",
    "    'medianprops':{'color':'black'},\n",
    "    'whiskerprops':{'color':'black'},\n",
    "    'capprops':{'color':'black'}\n",
    "}\n",
    "def plot_box(x, y, xlabel, ylabel, title, subtitle, color, title_position, subtitle_position, order=None):\n",
    "    ax = sns.boxplot(data = df, y = y, x = x, order = order,\n",
    "                 linewidth = 1.2, color = color, **PROPS,\n",
    "                 flierprops = dict(marker = 'o', markeredgecolor = 'black', markersize = 6.5, linestyle = 'none', markerfacecolor = color, alpha = 0.9))\n",
    "\n",
    "    plt.xlabel(xlabel, fontweight = 'bold', fontsize = 16)\n",
    "    plt.ylabel(ylabel, fontweight = 'bold', fontsize = 16)\n",
    "    ax.tick_params(labelsize = 14)\n",
    "    ax.text(x = title_position, y = 1.07, s = title, fontsize = 22.5, weight = 'bold', ha = 'center', va = 'bottom', transform = ax.transAxes)\n",
    "    ax.text(x = subtitle_position, y = 1.03, s = subtitle, fontsize = 16.5, alpha = 0.75, ha = 'center', va = 'bottom', transform = ax.transAxes)\n",
    "    plt.show()"
   ]
  },
  {
   "cell_type": "code",
   "execution_count": null,
   "id": "24ad548a",
   "metadata": {
    "pycharm": {
     "name": "#%%\n"
    }
   },
   "outputs": [],
   "source": [
    "safe['House_type'].value_counts().plot.pie(legend=False, \\\n",
    "                                      autopct='%1.1f%%', startangle=0, textprops={'fontsize': 16})\n",
    "plt.ylabel('')\n",
    "plt.title('Proportion House_type', fontsize=25)\n",
    "plt.rcParams['figure.figsize'] = [15, 10]"
   ]
  },
  {
   "cell_type": "markdown",
   "id": "5535f76c",
   "metadata": {},
   "source": [
    "### Summary\n",
    "***\n",
    "- Overall, The price house in 2020 has show an downward trend from 2019 to 2020.\n",
    "- The Street house has the higest price while the Byroad house has the lowest price.\n",
    "- The Byroad is a popular choice\n",
    "- In a year, the Febuary has the higest price out of 12 months. And now, the next target is to determine the best location for buying a plot."
   ]
  },
  {
   "cell_type": "markdown",
   "id": "dbd88572",
   "metadata": {},
   "source": [
    "### The Housing Type Price in Urban and Suburban from 2019 to 2020"
   ]
  },
  {
   "cell_type": "code",
   "execution_count": null,
   "id": "3165cd1f",
   "metadata": {
    "pycharm": {
     "name": "#%%\n"
    }
   },
   "outputs": [],
   "source": [
    "sns.set_theme(style=\"ticks\", palette=\"pastel\") #choose pastel color\n",
    "plot = sns.catplot(data=df, kind=\"bar\", x=\"Year\", y=\"Price\", hue=\"isUrban\", height = 10)\n",
    "plot.fig.suptitle(\"The Price_per_metersquare of houses in Urban and Suburban in 2019 and 2020\", fontsize=20,\n",
    "                  fontdict={\"weight\": \"bold\"}, y=1.08)\n",
    "plot.set_xlabels(\"Year\", fontsize = 20)\n",
    "plot.set_ylabels(\"Price(per metersquare)\", fontsize = 20)"
   ]
  },
  {
   "cell_type": "markdown",
   "id": "65712259",
   "metadata": {},
   "source": [
    "price in Suburban is higher than the urban???"
   ]
  },
  {
   "cell_type": "markdown",
   "id": "7d74f3ac",
   "metadata": {},
   "source": [
    "### The Price_per_metersquare of houses in Urban and Suburban in 2019 and 2020"
   ]
  },
  {
   "cell_type": "code",
   "execution_count": null,
   "id": "20b7ac19",
   "metadata": {
    "pycharm": {
     "name": "#%%\n"
    }
   },
   "outputs": [],
   "source": [
    "sns.set_theme(style=\"ticks\", palette=\"pastel\") #choose pastel color\n",
    "plot = sns.catplot(data=df, kind=\"bar\", x=\"isUrban\", y=\"Price\", hue=\"House_type\", height = 10)\n",
    "plot.fig.suptitle(\"The Price_per_metersquare of houses in Urban and Suburban in 2019 and 2020\", fontsize=20,\n",
    "                  fontdict={\"weight\": \"bold\"}, y=1.08)\n",
    "plot.set_xlabels(\"isUrban\", fontsize = 20)\n",
    "plot.set_ylabels(\"Price(per metersquare)\", fontsize = 20)"
   ]
  },
  {
   "cell_type": "markdown",
   "id": "656283f3",
   "metadata": {},
   "source": [
    "price in Suburban is higher than the urban and the Adjacent townhouses is highest?"
   ]
  },
  {
   "cell_type": "markdown",
   "id": "d8ebe438",
   "metadata": {},
   "source": [
    "### The Distribution of Legal Document and in Urban and Suburban in 2019 and 2020"
   ]
  },
  {
   "cell_type": "code",
   "execution_count": null,
   "id": "39c17502",
   "metadata": {
    "pycharm": {
     "name": "#%%\n"
    }
   },
   "outputs": [],
   "source": [
    "sns.set_theme(style=\"ticks\", palette=\"pastel\") #choose pastel color\n",
    "plot = sns.catplot(data=df, kind=\"bar\", x=\"Legal_documents\", y=\"Price\", hue=\"isUrban\", height = 10)\n",
    "plot.fig.suptitle(\"The Price_per_metersquare of houses and Legal_documents in Urban and Suburban in 2019 and 2020\", fontsize=20,\n",
    "                  fontdict={\"weight\": \"bold\"}, y=1.08)\n",
    "plot.set_xlabels(\"Year\", fontsize = 20)\n",
    "plot.set_ylabels(\"Price(per metersquare)\", fontsize = 20)"
   ]
  },
  {
   "cell_type": "markdown",
   "id": "2c42dc9e",
   "metadata": {},
   "source": [
    "The plot already had registration book has higher price -> good point"
   ]
  },
  {
   "cell_type": "markdown",
   "id": "4a95b181",
   "metadata": {},
   "source": [
    "### The Price_per_metersquare of each housing types in urban and suburban"
   ]
  },
  {
   "cell_type": "code",
   "execution_count": null,
   "id": "cd3b459b",
   "metadata": {
    "pycharm": {
     "name": "#%%\n"
    }
   },
   "outputs": [],
   "source": [
    "sns.set_theme(style=\"ticks\", palette=\"pastel\") #choose pastel color\n",
    "plot = sns.catplot(data=df, kind=\"bar\", x=\"House_type\", y=\"Price\", hue=\"isUrban\", height = 10)\n",
    "plot.fig.suptitle(\"The Price of each housing types in urban and suburban\", fontsize=20,\n",
    "                  fontdict={\"weight\": \"bold\"}, y=1.08)\n",
    "plot.set_xlabels(\"Housing_type\", fontsize = 20)\n",
    "plot.set_ylabels(\"Price(per metersquare)\", fontsize = 20)"
   ]
  },
  {
   "cell_type": "markdown",
   "id": "79f6e11d",
   "metadata": {},
   "source": [
    "### Safety factors in urban and suburban"
   ]
  },
  {
   "cell_type": "code",
   "execution_count": null,
   "id": "70727e8d",
   "metadata": {
    "pycharm": {
     "name": "#%%\n"
    }
   },
   "outputs": [],
   "source": [
    "# the under 18 years old should not have more than 5 years code\n",
    "options = ['AVAILABLE']\n",
    "floor = ['GREATER_THAN_10', '9', '10']\n",
    "\n",
    "# selecting rows based on condition the number of 'YearsCode' is larger than 5\n",
    "#reconfirm the condition again\n",
    "rslt_df = df[(df['Legal_documents'].isin(options)) & (df['Area'] > 30) & (~df['No_floor'].isin(floor)) &\n",
    "             (df['Price'] >= 495.000)]\n",
    "# rslt_df = df[(df['Price'] > 495.000)]\n",
    "rslt_df"
   ]
  },
  {
   "cell_type": "code",
   "execution_count": null,
   "id": "6fc0c997",
   "metadata": {
    "pycharm": {
     "name": "#%%\n"
    }
   },
   "outputs": [],
   "source": [
    "rslt_df['isUrban'].value_counts().plot.pie(title=\"Proportion Location of safe plot for buying\", legend=False, \\\n",
    "                                      autopct='%1.1f%%', startangle=0, textprops={'fontsize': 16})\n",
    "plt.ylabel('')\n",
    "plt.title('Proportion Location of safe plot for buying', fontsize=25)\n",
    "plt.rcParams['figure.figsize'] = [15, 10]"
   ]
  },
  {
   "cell_type": "markdown",
   "id": "f5ed1b26",
   "metadata": {
    "pycharm": {
     "name": "#%% md\n"
    }
   },
   "source": [
    "### Summary\n",
    "The house price in suburban and urban is remarably different and the price in suburban is condierably higher, but the safety factor in urban is higher -> optimised option is buy home in urban???"
   ]
  }
 ],
 "metadata": {
  "kernelspec": {
   "display_name": "Python 3",
   "language": "python",
   "name": "python3"
  },
  "language_info": {
   "codemirror_mode": {
    "name": "ipython",
    "version": 3
   },
   "file_extension": ".py",
   "mimetype": "text/x-python",
   "name": "python",
   "nbconvert_exporter": "python",
   "pygments_lexer": "ipython3",
   "version": "3.9.9"
  },
  "varInspector": {
   "cols": {
    "lenName": 16,
    "lenType": 16,
    "lenVar": 40
   },
   "kernels_config": {
    "python": {
     "delete_cmd_postfix": "",
     "delete_cmd_prefix": "del ",
     "library": "var_list.py",
     "varRefreshCmd": "print(var_dic_list())"
    },
    "r": {
     "delete_cmd_postfix": ") ",
     "delete_cmd_prefix": "rm(",
     "library": "var_list.r",
     "varRefreshCmd": "cat(var_dic_list()) "
    }
   },
   "types_to_exclude": [
    "module",
    "function",
    "builtin_function_or_method",
    "instance",
    "_Feature"
   ],
   "window_display": false
  }
 },
 "nbformat": 4,
 "nbformat_minor": 5
}
